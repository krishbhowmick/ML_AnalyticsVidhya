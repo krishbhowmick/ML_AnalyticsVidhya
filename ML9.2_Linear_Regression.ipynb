{
  "nbformat": 4,
  "nbformat_minor": 0,
  "metadata": {
    "colab": {
      "name": "ML9.2_Linear Regression.ipynb",
      "provenance": [],
      "collapsed_sections": [],
      "include_colab_link": true
    },
    "kernelspec": {
      "display_name": "Python 3",
      "language": "python",
      "name": "python3"
    }
  },
  "cells": [
    {
      "cell_type": "markdown",
      "metadata": {
        "id": "view-in-github",
        "colab_type": "text"
      },
      "source": [
        "<a href=\"https://colab.research.google.com/github/krishbhowmick/ML_AnalyticsVidhya/blob/main/ML9.2_Linear_Regression.ipynb\" target=\"_parent\"><img src=\"https://colab.research.google.com/assets/colab-badge.svg\" alt=\"Open In Colab\"/></a>"
      ]
    },
    {
      "cell_type": "markdown",
      "metadata": {
        "id": "XHyuIcRGixQy"
      },
      "source": [
        "# Linear Regression"
      ]
    },
    {
      "cell_type": "markdown",
      "metadata": {
        "id": "MetALTTmQKkh"
      },
      "source": [
        "### Importing Libraries"
      ]
    },
    {
      "cell_type": "code",
      "metadata": {
        "id": "eWchGPfa9xW9",
        "colab": {
          "base_uri": "https://localhost:8080/",
          "height": 34
        },
        "outputId": "79a0ee90-6aa4-46af-8d5f-b4ebb037cb47"
      },
      "source": [
        "from google.colab import drive\n",
        "drive.mount('/content/drive/')"
      ],
      "execution_count": null,
      "outputs": [
        {
          "output_type": "stream",
          "text": [
            "Drive already mounted at /content/drive/; to attempt to forcibly remount, call drive.mount(\"/content/drive/\", force_remount=True).\n"
          ],
          "name": "stdout"
        }
      ]
    },
    {
      "cell_type": "code",
      "metadata": {
        "id": "Ade_mbpNYA99"
      },
      "source": [
        "#importing libraries \n",
        "import pandas as pd \n",
        "import numpy as np\n",
        "import matplotlib.pyplot as plt"
      ],
      "execution_count": null,
      "outputs": []
    },
    {
      "cell_type": "markdown",
      "metadata": {
        "id": "tHKgifnpjyvh"
      },
      "source": [
        "### Importing the data"
      ]
    },
    {
      "cell_type": "code",
      "metadata": {
        "id": "NB5xYyHg9xXA",
        "colab": {
          "base_uri": "https://localhost:8080/",
          "height": 241
        },
        "outputId": "6c85270a-e0ff-4cda-96d7-64e1cd03d313"
      },
      "source": [
        "# Importing Data\n",
        "data = pd.read_csv('/content/drive/My Drive/ML_Code/9_Linear_Regreetion/8.  Implementing Linear Regression/train_cleaned.csv', engine='python')\n",
        "data.head()"
      ],
      "execution_count": null,
      "outputs": [
        {
          "output_type": "execute_result",
          "data": {
            "text/html": [
              "<div>\n",
              "<style scoped>\n",
              "    .dataframe tbody tr th:only-of-type {\n",
              "        vertical-align: middle;\n",
              "    }\n",
              "\n",
              "    .dataframe tbody tr th {\n",
              "        vertical-align: top;\n",
              "    }\n",
              "\n",
              "    .dataframe thead th {\n",
              "        text-align: right;\n",
              "    }\n",
              "</style>\n",
              "<table border=\"1\" class=\"dataframe\">\n",
              "  <thead>\n",
              "    <tr style=\"text-align: right;\">\n",
              "      <th></th>\n",
              "      <th>Item_Weight</th>\n",
              "      <th>Item_Visibility</th>\n",
              "      <th>Item_MRP</th>\n",
              "      <th>Outlet_Establishment_Year</th>\n",
              "      <th>Item_Outlet_Sales</th>\n",
              "      <th>Item_Fat_Content_LF</th>\n",
              "      <th>Item_Fat_Content_Low Fat</th>\n",
              "      <th>Item_Fat_Content_Regular</th>\n",
              "      <th>Item_Fat_Content_low fat</th>\n",
              "      <th>Item_Fat_Content_reg</th>\n",
              "      <th>Item_Type_Baking Goods</th>\n",
              "      <th>Item_Type_Breads</th>\n",
              "      <th>Item_Type_Breakfast</th>\n",
              "      <th>Item_Type_Canned</th>\n",
              "      <th>Item_Type_Dairy</th>\n",
              "      <th>Item_Type_Frozen Foods</th>\n",
              "      <th>Item_Type_Fruits and Vegetables</th>\n",
              "      <th>Item_Type_Hard Drinks</th>\n",
              "      <th>Item_Type_Health and Hygiene</th>\n",
              "      <th>Item_Type_Household</th>\n",
              "      <th>Item_Type_Meat</th>\n",
              "      <th>Item_Type_Others</th>\n",
              "      <th>Item_Type_Seafood</th>\n",
              "      <th>Item_Type_Snack Foods</th>\n",
              "      <th>Item_Type_Soft Drinks</th>\n",
              "      <th>Item_Type_Starchy Foods</th>\n",
              "      <th>Outlet_Identifier_OUT010</th>\n",
              "      <th>Outlet_Identifier_OUT013</th>\n",
              "      <th>Outlet_Identifier_OUT017</th>\n",
              "      <th>Outlet_Identifier_OUT018</th>\n",
              "      <th>Outlet_Identifier_OUT019</th>\n",
              "      <th>Outlet_Identifier_OUT027</th>\n",
              "      <th>Outlet_Identifier_OUT035</th>\n",
              "      <th>Outlet_Identifier_OUT045</th>\n",
              "      <th>Outlet_Identifier_OUT046</th>\n",
              "      <th>Outlet_Identifier_OUT049</th>\n",
              "      <th>Outlet_Size_High</th>\n",
              "      <th>Outlet_Size_Medium</th>\n",
              "      <th>Outlet_Size_Small</th>\n",
              "      <th>Outlet_Location_Type_Tier 1</th>\n",
              "      <th>Outlet_Location_Type_Tier 2</th>\n",
              "      <th>Outlet_Location_Type_Tier 3</th>\n",
              "      <th>Outlet_Type_Grocery Store</th>\n",
              "      <th>Outlet_Type_Supermarket Type1</th>\n",
              "      <th>Outlet_Type_Supermarket Type2</th>\n",
              "      <th>Outlet_Type_Supermarket Type3</th>\n",
              "    </tr>\n",
              "  </thead>\n",
              "  <tbody>\n",
              "    <tr>\n",
              "      <th>0</th>\n",
              "      <td>9.30</td>\n",
              "      <td>0.016047</td>\n",
              "      <td>249.8092</td>\n",
              "      <td>1999</td>\n",
              "      <td>3735.1380</td>\n",
              "      <td>0</td>\n",
              "      <td>1</td>\n",
              "      <td>0</td>\n",
              "      <td>0</td>\n",
              "      <td>0</td>\n",
              "      <td>0</td>\n",
              "      <td>0</td>\n",
              "      <td>0</td>\n",
              "      <td>0</td>\n",
              "      <td>1</td>\n",
              "      <td>0</td>\n",
              "      <td>0</td>\n",
              "      <td>0</td>\n",
              "      <td>0</td>\n",
              "      <td>0</td>\n",
              "      <td>0</td>\n",
              "      <td>0</td>\n",
              "      <td>0</td>\n",
              "      <td>0</td>\n",
              "      <td>0</td>\n",
              "      <td>0</td>\n",
              "      <td>0</td>\n",
              "      <td>0</td>\n",
              "      <td>0</td>\n",
              "      <td>0</td>\n",
              "      <td>0</td>\n",
              "      <td>0</td>\n",
              "      <td>0</td>\n",
              "      <td>0</td>\n",
              "      <td>0</td>\n",
              "      <td>1</td>\n",
              "      <td>0</td>\n",
              "      <td>1</td>\n",
              "      <td>0</td>\n",
              "      <td>1</td>\n",
              "      <td>0</td>\n",
              "      <td>0</td>\n",
              "      <td>0</td>\n",
              "      <td>1</td>\n",
              "      <td>0</td>\n",
              "      <td>0</td>\n",
              "    </tr>\n",
              "    <tr>\n",
              "      <th>1</th>\n",
              "      <td>5.92</td>\n",
              "      <td>0.019278</td>\n",
              "      <td>48.2692</td>\n",
              "      <td>2009</td>\n",
              "      <td>443.4228</td>\n",
              "      <td>0</td>\n",
              "      <td>0</td>\n",
              "      <td>1</td>\n",
              "      <td>0</td>\n",
              "      <td>0</td>\n",
              "      <td>0</td>\n",
              "      <td>0</td>\n",
              "      <td>0</td>\n",
              "      <td>0</td>\n",
              "      <td>0</td>\n",
              "      <td>0</td>\n",
              "      <td>0</td>\n",
              "      <td>0</td>\n",
              "      <td>0</td>\n",
              "      <td>0</td>\n",
              "      <td>0</td>\n",
              "      <td>0</td>\n",
              "      <td>0</td>\n",
              "      <td>0</td>\n",
              "      <td>1</td>\n",
              "      <td>0</td>\n",
              "      <td>0</td>\n",
              "      <td>0</td>\n",
              "      <td>0</td>\n",
              "      <td>1</td>\n",
              "      <td>0</td>\n",
              "      <td>0</td>\n",
              "      <td>0</td>\n",
              "      <td>0</td>\n",
              "      <td>0</td>\n",
              "      <td>0</td>\n",
              "      <td>0</td>\n",
              "      <td>1</td>\n",
              "      <td>0</td>\n",
              "      <td>0</td>\n",
              "      <td>0</td>\n",
              "      <td>1</td>\n",
              "      <td>0</td>\n",
              "      <td>0</td>\n",
              "      <td>1</td>\n",
              "      <td>0</td>\n",
              "    </tr>\n",
              "    <tr>\n",
              "      <th>2</th>\n",
              "      <td>17.50</td>\n",
              "      <td>0.016760</td>\n",
              "      <td>141.6180</td>\n",
              "      <td>1999</td>\n",
              "      <td>2097.2700</td>\n",
              "      <td>0</td>\n",
              "      <td>1</td>\n",
              "      <td>0</td>\n",
              "      <td>0</td>\n",
              "      <td>0</td>\n",
              "      <td>0</td>\n",
              "      <td>0</td>\n",
              "      <td>0</td>\n",
              "      <td>0</td>\n",
              "      <td>0</td>\n",
              "      <td>0</td>\n",
              "      <td>0</td>\n",
              "      <td>0</td>\n",
              "      <td>0</td>\n",
              "      <td>0</td>\n",
              "      <td>1</td>\n",
              "      <td>0</td>\n",
              "      <td>0</td>\n",
              "      <td>0</td>\n",
              "      <td>0</td>\n",
              "      <td>0</td>\n",
              "      <td>0</td>\n",
              "      <td>0</td>\n",
              "      <td>0</td>\n",
              "      <td>0</td>\n",
              "      <td>0</td>\n",
              "      <td>0</td>\n",
              "      <td>0</td>\n",
              "      <td>0</td>\n",
              "      <td>0</td>\n",
              "      <td>1</td>\n",
              "      <td>0</td>\n",
              "      <td>1</td>\n",
              "      <td>0</td>\n",
              "      <td>1</td>\n",
              "      <td>0</td>\n",
              "      <td>0</td>\n",
              "      <td>0</td>\n",
              "      <td>1</td>\n",
              "      <td>0</td>\n",
              "      <td>0</td>\n",
              "    </tr>\n",
              "    <tr>\n",
              "      <th>3</th>\n",
              "      <td>19.20</td>\n",
              "      <td>0.000000</td>\n",
              "      <td>182.0950</td>\n",
              "      <td>1998</td>\n",
              "      <td>732.3800</td>\n",
              "      <td>0</td>\n",
              "      <td>0</td>\n",
              "      <td>1</td>\n",
              "      <td>0</td>\n",
              "      <td>0</td>\n",
              "      <td>0</td>\n",
              "      <td>0</td>\n",
              "      <td>0</td>\n",
              "      <td>0</td>\n",
              "      <td>0</td>\n",
              "      <td>0</td>\n",
              "      <td>1</td>\n",
              "      <td>0</td>\n",
              "      <td>0</td>\n",
              "      <td>0</td>\n",
              "      <td>0</td>\n",
              "      <td>0</td>\n",
              "      <td>0</td>\n",
              "      <td>0</td>\n",
              "      <td>0</td>\n",
              "      <td>0</td>\n",
              "      <td>1</td>\n",
              "      <td>0</td>\n",
              "      <td>0</td>\n",
              "      <td>0</td>\n",
              "      <td>0</td>\n",
              "      <td>0</td>\n",
              "      <td>0</td>\n",
              "      <td>0</td>\n",
              "      <td>0</td>\n",
              "      <td>0</td>\n",
              "      <td>0</td>\n",
              "      <td>0</td>\n",
              "      <td>0</td>\n",
              "      <td>0</td>\n",
              "      <td>0</td>\n",
              "      <td>1</td>\n",
              "      <td>1</td>\n",
              "      <td>0</td>\n",
              "      <td>0</td>\n",
              "      <td>0</td>\n",
              "    </tr>\n",
              "    <tr>\n",
              "      <th>4</th>\n",
              "      <td>8.93</td>\n",
              "      <td>0.000000</td>\n",
              "      <td>53.8614</td>\n",
              "      <td>1987</td>\n",
              "      <td>994.7052</td>\n",
              "      <td>0</td>\n",
              "      <td>1</td>\n",
              "      <td>0</td>\n",
              "      <td>0</td>\n",
              "      <td>0</td>\n",
              "      <td>0</td>\n",
              "      <td>0</td>\n",
              "      <td>0</td>\n",
              "      <td>0</td>\n",
              "      <td>0</td>\n",
              "      <td>0</td>\n",
              "      <td>0</td>\n",
              "      <td>0</td>\n",
              "      <td>0</td>\n",
              "      <td>1</td>\n",
              "      <td>0</td>\n",
              "      <td>0</td>\n",
              "      <td>0</td>\n",
              "      <td>0</td>\n",
              "      <td>0</td>\n",
              "      <td>0</td>\n",
              "      <td>0</td>\n",
              "      <td>1</td>\n",
              "      <td>0</td>\n",
              "      <td>0</td>\n",
              "      <td>0</td>\n",
              "      <td>0</td>\n",
              "      <td>0</td>\n",
              "      <td>0</td>\n",
              "      <td>0</td>\n",
              "      <td>0</td>\n",
              "      <td>1</td>\n",
              "      <td>0</td>\n",
              "      <td>0</td>\n",
              "      <td>0</td>\n",
              "      <td>0</td>\n",
              "      <td>1</td>\n",
              "      <td>0</td>\n",
              "      <td>1</td>\n",
              "      <td>0</td>\n",
              "      <td>0</td>\n",
              "    </tr>\n",
              "  </tbody>\n",
              "</table>\n",
              "</div>"
            ],
            "text/plain": [
              "   Item_Weight  ...  Outlet_Type_Supermarket Type3\n",
              "0         9.30  ...                              0\n",
              "1         5.92  ...                              0\n",
              "2        17.50  ...                              0\n",
              "3        19.20  ...                              0\n",
              "4         8.93  ...                              0\n",
              "\n",
              "[5 rows x 46 columns]"
            ]
          },
          "metadata": {
            "tags": []
          },
          "execution_count": 12
        }
      ]
    },
    {
      "cell_type": "markdown",
      "metadata": {
        "id": "hGxgnJmxj3nv"
      },
      "source": [
        "### Segregating variables: Independent and Dependent Variables"
      ]
    },
    {
      "cell_type": "code",
      "metadata": {
        "id": "rym4fnPq9xXG",
        "colab": {
          "base_uri": "https://localhost:8080/",
          "height": 34
        },
        "outputId": "d429084e-1684-424f-95a3-81e5cfa2f577"
      },
      "source": [
        "#seperating independent and dependent variables\n",
        "x = data.drop(['Item_Outlet_Sales'], axis=1)\n",
        "y = data['Item_Outlet_Sales']\n",
        "x.shape, y.shape"
      ],
      "execution_count": null,
      "outputs": [
        {
          "output_type": "execute_result",
          "data": {
            "text/plain": [
              "((8523, 45), (8523,))"
            ]
          },
          "metadata": {
            "tags": []
          },
          "execution_count": 13
        }
      ]
    },
    {
      "cell_type": "code",
      "metadata": {
        "id": "c4DYCeg9r6K2"
      },
      "source": [
        "#y"
      ],
      "execution_count": null,
      "outputs": []
    },
    {
      "cell_type": "markdown",
      "metadata": {
        "id": "pAQY_EKnGpZ3"
      },
      "source": [
        "### Splitting the data into train set and the test set"
      ]
    },
    {
      "cell_type": "code",
      "metadata": {
        "id": "-PcDK1re9xXM"
      },
      "source": [
        "# Importing the train test split function\n",
        "from sklearn.model_selection import train_test_split\n",
        "train_x,test_x,train_y,test_y = train_test_split(x,y, random_state = 56)"
      ],
      "execution_count": null,
      "outputs": []
    },
    {
      "cell_type": "markdown",
      "metadata": {
        "id": "WvsDKzjdyNWi"
      },
      "source": [
        "### Implementing Linear Regression"
      ]
    },
    {
      "cell_type": "code",
      "metadata": {
        "id": "yCG2gM5KyM-1"
      },
      "source": [
        "#importing Linear Regression and metric mean square error\n",
        "from sklearn.linear_model import LinearRegression as LR\n",
        "from sklearn.metrics import mean_absolute_error as mae"
      ],
      "execution_count": null,
      "outputs": []
    },
    {
      "cell_type": "code",
      "metadata": {
        "id": "TFrwDTRdybYF",
        "colab": {
          "base_uri": "https://localhost:8080/",
          "height": 34
        },
        "outputId": "97ee06fb-58f5-440d-c490-e9afe985141a"
      },
      "source": [
        "# Creating instance of Linear Regresssion\n",
        "lr = LR()\n",
        "\n",
        "# Fitting the model\n",
        "lr.fit(train_x, train_y)"
      ],
      "execution_count": null,
      "outputs": [
        {
          "output_type": "execute_result",
          "data": {
            "text/plain": [
              "LinearRegression(copy_X=True, fit_intercept=True, n_jobs=None, normalize=False)"
            ]
          },
          "metadata": {
            "tags": []
          },
          "execution_count": 17
        }
      ]
    },
    {
      "cell_type": "code",
      "metadata": {
        "id": "8lCGfbmBI-kj",
        "colab": {
          "base_uri": "https://localhost:8080/",
          "height": 34
        },
        "outputId": "e8c6491d-9e4c-4141-8f48-3fcc37301016"
      },
      "source": [
        "# Predicting over the Train Set and calculating error\n",
        "train_predict = lr.predict(train_x)\n",
        "k = mae(train_predict, train_y)\n",
        "print('Training Mean Absolute Error', k )"
      ],
      "execution_count": null,
      "outputs": [
        {
          "output_type": "stream",
          "text": [
            "Training Mean Absolute Error 821.4206146753687\n"
          ],
          "name": "stdout"
        }
      ]
    },
    {
      "cell_type": "code",
      "metadata": {
        "id": "Wf4id-DOJCsn",
        "colab": {
          "base_uri": "https://localhost:8080/",
          "height": 34
        },
        "outputId": "0bef15f2-287e-409d-a5a1-8a27f93a153d"
      },
      "source": [
        "# Predicting over the Test Set and calculating error\n",
        "test_predict = lr.predict(test_x)\n",
        "k = mae(test_predict, test_y)\n",
        "print('Test Mean Absolute Error    ', k )"
      ],
      "execution_count": null,
      "outputs": [
        {
          "output_type": "stream",
          "text": [
            "Test Mean Absolute Error     875.2688982985251\n"
          ],
          "name": "stdout"
        }
      ]
    },
    {
      "cell_type": "markdown",
      "metadata": {
        "id": "Tx7pAs3cosaz"
      },
      "source": [
        "### Parameters of Linear Regression"
      ]
    },
    {
      "cell_type": "code",
      "metadata": {
        "id": "jjMoVU-VoyVo",
        "colab": {
          "base_uri": "https://localhost:8080/",
          "height": 221
        },
        "outputId": "480e06a9-c6a7-4efd-c348-7c17706094fe"
      },
      "source": [
        "# coef ???\n",
        "lr.coef_"
      ],
      "execution_count": null,
      "outputs": [
        {
          "output_type": "execute_result",
          "data": {
            "text/plain": [
              "array([ 1.78450035e-01, -3.84642222e+02,  1.54980674e+01, -1.84444754e+01,\n",
              "       -3.78808067e+01,  3.31502849e+01,  4.06819896e+01,  4.76424149e+01,\n",
              "       -8.35938826e+01,  2.81126002e+00, -1.19848265e+00, -1.57618523e+02,\n",
              "        6.71387323e+01, -5.33492180e+01, -3.06556852e+01,  4.23212148e+01,\n",
              "       -2.30260247e+01, -4.27876198e+01, -7.54301779e+01, -3.65824873e+00,\n",
              "       -7.87129822e+01,  2.60470952e+02,  1.41600650e+01, -1.46932400e+01,\n",
              "        9.42279781e+01, -4.64999137e+02, -5.51947683e+01,  1.53301072e+02,\n",
              "       -4.68181522e+01, -4.71597876e+02,  5.87820902e+02,  1.24396682e+02,\n",
              "       -8.80903933e+01,  3.17298874e+02, -5.61172040e+01, -5.51947683e+01,\n",
              "        4.84885546e+02, -2.99023193e+01, -2.10416205e+02,  1.89607361e+02,\n",
              "        2.08088447e+01, -9.36597012e+02,  3.95594262e+02, -4.68181522e+01,\n",
              "        5.87820902e+02])"
            ]
          },
          "metadata": {
            "tags": []
          },
          "execution_count": 20
        }
      ]
    },
    {
      "cell_type": "markdown",
      "metadata": {
        "id": "JefxBNm_ea_t"
      },
      "source": [
        "### Plotting the coefficients"
      ]
    },
    {
      "cell_type": "code",
      "metadata": {
        "id": "wxkPFx7Yp3Du",
        "colab": {
          "base_uri": "https://localhost:8080/",
          "height": 680
        },
        "outputId": "a5c81f5c-6969-4937-f06a-cf783fba39b6"
      },
      "source": [
        "plt.figure(figsize=(8, 6), dpi=120, facecolor='w', edgecolor='b')\n",
        "x = range(len(train_x.columns))\n",
        "y = lr.coef_\n",
        "plt.bar( x, y )\n",
        "plt.xlabel( \"Variables\")\n",
        "plt.ylabel('Coefficients')\n",
        "plt.title('Coefficient plot')"
      ],
      "execution_count": null,
      "outputs": [
        {
          "output_type": "execute_result",
          "data": {
            "text/plain": [
              "Text(0.5, 1.0, 'Coefficient plot')"
            ]
          },
          "metadata": {
            "tags": []
          },
          "execution_count": 44
        },
        {
          "output_type": "display_data",
          "data": {
            "image/png": "[encoded data removed]",
            "text/plain": [
              "<Figure size 960x720 with 1 Axes>"
            ]
          },
          "metadata": {
            "tags": []
          }
        }
      ]
    },
    {
      "cell_type": "markdown",
      "metadata": {
        "id": "THh6jCiHGr1S"
      },
      "source": [
        "Here we can see that the model depends upon some Independent variables toos much, But these coefficients are not suitable for interpretation because these are not scaled, therefore we will perform the interpretation in this note book later."
      ]
    },
    {
      "cell_type": "markdown",
      "metadata": {
        "id": "6Go_VU3igLFl"
      },
      "source": [
        "## Checking assumptions of Linear Model"
      ]
    },
    {
      "cell_type": "code",
      "metadata": {
        "id": "Lx_yVB9Hf9ga",
        "colab": {
          "base_uri": "https://localhost:8080/",
          "height": 204
        },
        "outputId": "5f77ae13-cd68-460e-9b6d-a4b0e4641e71"
      },
      "source": [
        "# Arranging and calculating the Residuals\n",
        "residuals = pd.DataFrame({\n",
        "    'fitted values' : test_y,\n",
        "    'predicted values' : test_predict,\n",
        "})\n",
        "\n",
        "residuals['residuals'] = residuals['fitted values'] - residuals['predicted values']\n",
        "residuals.head()"
      ],
      "execution_count": null,
      "outputs": [
        {
          "output_type": "execute_result",
          "data": {
            "text/html": [
              "<div>\n",
              "<style scoped>\n",
              "    .dataframe tbody tr th:only-of-type {\n",
              "        vertical-align: middle;\n",
              "    }\n",
              "\n",
              "    .dataframe tbody tr th {\n",
              "        vertical-align: top;\n",
              "    }\n",
              "\n",
              "    .dataframe thead th {\n",
              "        text-align: right;\n",
              "    }\n",
              "</style>\n",
              "<table border=\"1\" class=\"dataframe\">\n",
              "  <thead>\n",
              "    <tr style=\"text-align: right;\">\n",
              "      <th></th>\n",
              "      <th>fitted values</th>\n",
              "      <th>predicted values</th>\n",
              "      <th>residuals</th>\n",
              "    </tr>\n",
              "  </thead>\n",
              "  <tbody>\n",
              "    <tr>\n",
              "      <th>2172</th>\n",
              "      <td>697.7584</td>\n",
              "      <td>906.204648</td>\n",
              "      <td>-208.446248</td>\n",
              "    </tr>\n",
              "    <tr>\n",
              "      <th>6228</th>\n",
              "      <td>1414.1592</td>\n",
              "      <td>2544.719495</td>\n",
              "      <td>-1130.560295</td>\n",
              "    </tr>\n",
              "    <tr>\n",
              "      <th>2404</th>\n",
              "      <td>3078.6592</td>\n",
              "      <td>3008.957438</td>\n",
              "      <td>69.701762</td>\n",
              "    </tr>\n",
              "    <tr>\n",
              "      <th>99</th>\n",
              "      <td>1314.2892</td>\n",
              "      <td>3045.197114</td>\n",
              "      <td>-1730.907914</td>\n",
              "    </tr>\n",
              "    <tr>\n",
              "      <th>4945</th>\n",
              "      <td>1403.5064</td>\n",
              "      <td>1453.011713</td>\n",
              "      <td>-49.505313</td>\n",
              "    </tr>\n",
              "  </tbody>\n",
              "</table>\n",
              "</div>"
            ],
            "text/plain": [
              "      fitted values  predicted values    residuals\n",
              "2172       697.7584        906.204648  -208.446248\n",
              "6228      1414.1592       2544.719495 -1130.560295\n",
              "2404      3078.6592       3008.957438    69.701762\n",
              "99        1314.2892       3045.197114 -1730.907914\n",
              "4945      1403.5064       1453.011713   -49.505313"
            ]
          },
          "metadata": {
            "tags": []
          },
          "execution_count": 22
        }
      ]
    },
    {
      "cell_type": "markdown",
      "metadata": {
        "id": "aCBOM01ghacE"
      },
      "source": [
        "### Plotting residual curve (Is there constant Variance OR Homoscedastic?)"
      ]
    },
    {
      "cell_type": "code",
      "metadata": {
        "id": "457Ll3y2g_Qn",
        "colab": {
          "base_uri": "https://localhost:8080/",
          "height": 680
        },
        "outputId": "d3f6f108-22c4-4db7-df4e-792701f12a37"
      },
      "source": [
        "plt.figure(figsize=(10, 6), dpi=120, facecolor='w', edgecolor='b')\n",
        "f = range(0,2131)\n",
        "k = [0 for i in range(0,2131)]\n",
        "plt.scatter( f, residuals.residuals[:], label = 'residuals')\n",
        "plt.plot( f, k , color = 'red', label = 'regression line' )\n",
        "plt.xlabel('fitted points ')\n",
        "plt.ylabel('residuals')\n",
        "plt.title('Residual plot')\n",
        "plt.ylim(-4000, 4000)\n",
        "plt.legend()"
      ],
      "execution_count": null,
      "outputs": [
        {
          "output_type": "execute_result",
          "data": {
            "text/plain": [
              "<matplotlib.legend.Legend at 0x7f109fa0a630>"
            ]
          },
          "metadata": {
            "tags": []
          },
          "execution_count": 23
        },
        {
          "output_type": "display_data",
          "data": {
            "image/png": "[encoded data removed]",
            "text/plain": [
              "<Figure size 1200x720 with 1 Axes>"
            ]
          },
          "metadata": {
            "tags": []
          }
        }
      ]
    },
    {
      "cell_type": "markdown",
      "metadata": {
        "id": "dUPGh_txeju7"
      },
      "source": [
        "The Residual plot clearly Looks Homoscedastic, i.e. the the variance of the error across the dataset is nearly constant."
      ]
    },
    {
      "cell_type": "markdown",
      "metadata": {
        "id": "KrwCPPdcUfby"
      },
      "source": [
        "### Checking Distribution of Residuals"
      ]
    },
    {
      "cell_type": "code",
      "metadata": {
        "id": "kzfrbW3viDdC",
        "colab": {
          "base_uri": "https://localhost:8080/",
          "height": 663
        },
        "outputId": "9d15505b-d945-428d-d984-601f9f2d7c45"
      },
      "source": [
        "# Histogram for distribution\n",
        "plt.figure(figsize=(10, 6), dpi=120, facecolor='w', edgecolor='b')\n",
        "plt.hist(residuals.residuals, bins = 150)\n",
        "plt.xlabel('Error')\n",
        "plt.ylabel('Frequency')\n",
        "plt.title('Distribution of Error Terms')\n",
        "plt.show()"
      ],
      "execution_count": null,
      "outputs": [
        {
          "output_type": "display_data",
          "data": {
            "image/png": "[encoded data removed]",
            "text/plain": [
              "<Figure size 1200x720 with 1 Axes>"
            ]
          },
          "metadata": {
            "tags": []
          }
        }
      ]
    },
    {
      "cell_type": "markdown",
      "metadata": {
        "id": "CmK7C1bte1zU"
      },
      "source": [
        "According to the Histogram, the distribution of error is nearly normal, But there are some outliers on the Higher end of the errors."
      ]
    },
    {
      "cell_type": "markdown",
      "metadata": {
        "id": "UTUu_EwTUmf0"
      },
      "source": [
        "### QQ-Plot (Is the data Normally Distributed?)"
      ]
    },
    {
      "cell_type": "code",
      "metadata": {
        "id": "PHOiJGUKVE5u",
        "colab": {
          "base_uri": "https://localhost:8080/",
          "height": 627
        },
        "outputId": "35c155d0-8974-4066-bb7a-943f7333832b"
      },
      "source": [
        "# importing the QQ-plot from the from the statsmodels\n",
        "from statsmodels.graphics.gofplots import qqplot\n",
        "\n",
        "## Plotting the QQ plot\n",
        "fig, ax = plt.subplots(figsize=(5,5) , dpi = 120)\n",
        "qqplot(residuals.residuals, line = 's' , ax = ax)\n",
        "plt.ylabel('Residual Quantiles')\n",
        "plt.xlabel('Ideal Scaled Quantiles')\n",
        "plt.title('Checking distribution of Residual Errors')\n",
        "plt.show()"
      ],
      "execution_count": null,
      "outputs": [
        {
          "output_type": "stream",
          "text": [
            "/usr/local/lib/python3.6/dist-packages/statsmodels/tools/_testing.py:19: FutureWarning: pandas.util.testing is deprecated. Use the functions in the public API at pandas.testing instead.\n",
            "  import pandas.util.testing as tm\n"
          ],
          "name": "stderr"
        },
        {
          "output_type": "display_data",
          "data": {
            "image/png": "[encoded data removed]",
            "text/plain": [
              "<Figure size 600x600 with 1 Axes>"
            ]
          },
          "metadata": {
            "tags": [],
            "needs_background": "light"
          }
        }
      ]
    },
    {
      "cell_type": "markdown",
      "metadata": {
        "id": "vv6r1ikegVD4"
      },
      "source": [
        "The QQ-plot clearly verifies our findings from the the histogram of the residuals, the data is mostly normal in nature, but there sre some outliers on the higher end of the Residues."
      ]
    },
    {
      "cell_type": "markdown",
      "metadata": {
        "id": "-UvB6e0ugqHp"
      },
      "source": [
        "From the ACF plot, we can clearly see that there is almost negligible correlation between the error terms. Hence there is no autocorrelation present in the data."
      ]
    },
    {
      "cell_type": "markdown",
      "metadata": {
        "id": "y_ull_aGYPwi"
      },
      "source": [
        "### Variance Inflation Factor (VIF) (Checking for multi collinearity)"
      ]
    },
    {
      "cell_type": "code",
      "metadata": {
        "id": "0dkJAXOfRSww",
        "colab": {
          "base_uri": "https://localhost:8080/",
          "height": 870
        },
        "outputId": "543b158b-4f6b-4c3d-ee3f-105b9a041602"
      },
      "source": [
        "# Importing Variance_inflation_Factor funtion from the Statsmodels\n",
        "from statsmodels.stats.outliers_influence import variance_inflation_factor\n",
        "from statsmodels.tools.tools import add_constant\n",
        "\n",
        "# Calculating VIF for every column (only works for the not Catagorical)\n",
        "VIF = pd.Series([variance_inflation_factor(data.values, i) for i in range(data.shape[1])], index =data.columns)\n",
        "VIF"
      ],
      "execution_count": null,
      "outputs": [
        {
          "output_type": "stream",
          "text": [
            "/usr/local/lib/python3.6/dist-packages/statsmodels/stats/outliers_influence.py:185: RuntimeWarning: divide by zero encountered in double_scalars\n",
            "  vif = 1. / (1. - r_squared_i)\n"
          ],
          "name": "stderr"
        },
        {
          "output_type": "execute_result",
          "data": {
            "text/plain": [
              "Item_Weight                        2.349925\n",
              "Item_Visibility                    1.101456\n",
              "Item_MRP                           1.753170\n",
              "Outlet_Establishment_Year               inf\n",
              "Item_Outlet_Sales                  2.292720\n",
              "Item_Fat_Content_LF                     inf\n",
              "Item_Fat_Content_Low Fat                inf\n",
              "Item_Fat_Content_Regular                inf\n",
              "Item_Fat_Content_low fat                inf\n",
              "Item_Fat_Content_reg                    inf\n",
              "Item_Type_Baking Goods                  inf\n",
              "Item_Type_Breads                        inf\n",
              "Item_Type_Breakfast                     inf\n",
              "Item_Type_Canned                        inf\n",
              "Item_Type_Dairy                         inf\n",
              "Item_Type_Frozen Foods                  inf\n",
              "Item_Type_Fruits and Vegetables         inf\n",
              "Item_Type_Hard Drinks                   inf\n",
              "Item_Type_Health and Hygiene            inf\n",
              "Item_Type_Household                     inf\n",
              "Item_Type_Meat                          inf\n",
              "Item_Type_Others                        inf\n",
              "Item_Type_Seafood                       inf\n",
              "Item_Type_Snack Foods                   inf\n",
              "Item_Type_Soft Drinks                   inf\n",
              "Item_Type_Starchy Foods                 inf\n",
              "Outlet_Identifier_OUT010                inf\n",
              "Outlet_Identifier_OUT013                inf\n",
              "Outlet_Identifier_OUT017                inf\n",
              "Outlet_Identifier_OUT018                inf\n",
              "Outlet_Identifier_OUT019                inf\n",
              "Outlet_Identifier_OUT027                inf\n",
              "Outlet_Identifier_OUT035                inf\n",
              "Outlet_Identifier_OUT045                inf\n",
              "Outlet_Identifier_OUT046                inf\n",
              "Outlet_Identifier_OUT049                inf\n",
              "Outlet_Size_High                        inf\n",
              "Outlet_Size_Medium                      inf\n",
              "Outlet_Size_Small                       inf\n",
              "Outlet_Location_Type_Tier 1             inf\n",
              "Outlet_Location_Type_Tier 2             inf\n",
              "Outlet_Location_Type_Tier 3             inf\n",
              "Outlet_Type_Grocery Store               inf\n",
              "Outlet_Type_Supermarket Type1           inf\n",
              "Outlet_Type_Supermarket Type2           inf\n",
              "Outlet_Type_Supermarket Type3           inf\n",
              "dtype: float64"
            ]
          },
          "metadata": {
            "tags": []
          },
          "execution_count": 26
        }
      ]
    },
    {
      "cell_type": "markdown",
      "metadata": {
        "id": "C3Wmd2YWhCf4"
      },
      "source": [
        "From this list, we clearly see that there happens to be no Independent Variable over the value of 5, which means that there are no features that exhibit the Multicollinearity in the dataset. Note that VIF only works for the Continuous Variables. "
      ]
    },
    {
      "cell_type": "markdown",
      "metadata": {
        "id": "k7-N6WuyGXSy"
      },
      "source": [
        "## Model Interpretability\n",
        "\n",
        "So far we have simply been predicting the values using the linear regression, But in order to Interpret the model, the normalising of the data is essential."
      ]
    },
    {
      "cell_type": "code",
      "metadata": {
        "id": "rS_vN2OkhjT6",
        "colab": {
          "base_uri": "https://localhost:8080/",
          "height": 34
        },
        "outputId": "f57d9989-63cb-43bf-85d1-945bfc103b71"
      },
      "source": [
        "# Creating instance of Linear Regresssion\n",
        "lr = LR(normalize = True)\n",
        "\n",
        "# Fitting the model\n",
        "lr.fit(train_x, train_y)"
      ],
      "execution_count": null,
      "outputs": [
        {
          "output_type": "execute_result",
          "data": {
            "text/plain": [
              "LinearRegression(copy_X=True, fit_intercept=True, n_jobs=None, normalize=True)"
            ]
          },
          "metadata": {
            "tags": []
          },
          "execution_count": 27
        }
      ]
    },
    {
      "cell_type": "code",
      "metadata": {
        "id": "bQUV6sq_H281",
        "colab": {
          "base_uri": "https://localhost:8080/",
          "height": 34
        },
        "outputId": "0aa3415f-0f3e-4aa8-d601-886d94583b3b"
      },
      "source": [
        "# Predicting over the Train Set and calculating error\n",
        "train_predict = lr.predict(train_x)\n",
        "k = mae(train_predict, train_y)\n",
        "print('Training Mean Absolute Error', k )"
      ],
      "execution_count": null,
      "outputs": [
        {
          "output_type": "stream",
          "text": [
            "Training Mean Absolute Error 824.7767490613268\n"
          ],
          "name": "stdout"
        }
      ]
    },
    {
      "cell_type": "code",
      "metadata": {
        "id": "3mCEp-QOH286",
        "colab": {
          "base_uri": "https://localhost:8080/",
          "height": 34
        },
        "outputId": "d9f93de5-2951-449a-bc39-c9512d3a437a"
      },
      "source": [
        "# Predicting over the Test Set and calculating error\n",
        "test_predict = lr.predict(test_x)\n",
        "k = mae(test_predict, test_y)\n",
        "print('Test Mean Absolute Error    ', k )"
      ],
      "execution_count": null,
      "outputs": [
        {
          "output_type": "stream",
          "text": [
            "Test Mean Absolute Error     878.6566868137025\n"
          ],
          "name": "stdout"
        }
      ]
    },
    {
      "cell_type": "code",
      "metadata": {
        "id": "IwJUupk4H40S",
        "colab": {
          "base_uri": "https://localhost:8080/",
          "height": 680
        },
        "outputId": "de4ef9ef-20ad-4361-9c56-39e8ee179f58"
      },
      "source": [
        "plt.figure(figsize=(8, 6), dpi=120, facecolor='w', edgecolor='b')\n",
        "x = range(len(train_x.columns))\n",
        "y = lr.coef_\n",
        "plt.bar( x, y )\n",
        "plt.xlabel( \"Variables\")\n",
        "plt.ylabel('Coefficients')\n",
        "plt.title('Normalized Coefficient plot')"
      ],
      "execution_count": null,
      "outputs": [
        {
          "output_type": "execute_result",
          "data": {
            "text/plain": [
              "Text(0.5, 1.0, 'Normalized Coefficient plot')"
            ]
          },
          "metadata": {
            "tags": []
          },
          "execution_count": 30
        },
        {
          "output_type": "display_data",
          "data": {
            "image/png": "[encoded data removed]",
            "text/plain": [
              "<Figure size 960x720 with 1 Axes>"
            ]
          },
          "metadata": {
            "tags": []
          }
        }
      ]
    },
    {
      "cell_type": "markdown",
      "metadata": {
        "id": "96zBnTnYIOYs"
      },
      "source": [
        "Now the coefficients we see are normalised and we can easily make final inferences out of it.\n",
        "\n",
        "Here we can see that there are a lot of Coefficients which are near to zero and not Significant.\n",
        "So let us try removing them and build the model again."
      ]
    },
    {
      "cell_type": "markdown",
      "metadata": {
        "id": "T3qFZlh3M52j"
      },
      "source": [
        "#### Creating new subsets of data"
      ]
    },
    {
      "cell_type": "code",
      "metadata": {
        "id": "693ZFEkvKMsh",
        "colab": {
          "base_uri": "https://localhost:8080/",
          "height": 34
        },
        "outputId": "defada09-6008-4d64-e03c-661a3a243151"
      },
      "source": [
        "#seperating independent and dependent variables\n",
        "x = data.drop(['Item_Outlet_Sales'], axis=1)\n",
        "y = data['Item_Outlet_Sales']\n",
        "x.shape, y.shape"
      ],
      "execution_count": null,
      "outputs": [
        {
          "output_type": "execute_result",
          "data": {
            "text/plain": [
              "((8523, 45), (8523,))"
            ]
          },
          "metadata": {
            "tags": []
          },
          "execution_count": 31
        }
      ]
    },
    {
      "cell_type": "markdown",
      "metadata": {
        "id": "pGIXHPaiNAda"
      },
      "source": [
        "#### Arranging coefficients with features"
      ]
    },
    {
      "cell_type": "code",
      "metadata": {
        "id": "eYqVO5oZICzq",
        "colab": {
          "base_uri": "https://localhost:8080/",
          "height": 204
        },
        "outputId": "ac5ab102-2245-48aa-9db7-21f9126667fb"
      },
      "source": [
        "Coefficients = pd.DataFrame({\n",
        "    'Variable'    : x.columns,\n",
        "    'coefficient' : lr.coef_\n",
        "})\n",
        "Coefficients.head()"
      ],
      "execution_count": null,
      "outputs": [
        {
          "output_type": "execute_result",
          "data": {
            "text/html": [
              "<div>\n",
              "<style scoped>\n",
              "    .dataframe tbody tr th:only-of-type {\n",
              "        vertical-align: middle;\n",
              "    }\n",
              "\n",
              "    .dataframe tbody tr th {\n",
              "        vertical-align: top;\n",
              "    }\n",
              "\n",
              "    .dataframe thead th {\n",
              "        text-align: right;\n",
              "    }\n",
              "</style>\n",
              "<table border=\"1\" class=\"dataframe\">\n",
              "  <thead>\n",
              "    <tr style=\"text-align: right;\">\n",
              "      <th></th>\n",
              "      <th>Variable</th>\n",
              "      <th>coefficient</th>\n",
              "    </tr>\n",
              "  </thead>\n",
              "  <tbody>\n",
              "    <tr>\n",
              "      <th>0</th>\n",
              "      <td>Item_Weight</td>\n",
              "      <td>4.867457e-01</td>\n",
              "    </tr>\n",
              "    <tr>\n",
              "      <th>1</th>\n",
              "      <td>Item_Visibility</td>\n",
              "      <td>-3.827646e+02</td>\n",
              "    </tr>\n",
              "    <tr>\n",
              "      <th>2</th>\n",
              "      <td>Item_MRP</td>\n",
              "      <td>1.549856e+01</td>\n",
              "    </tr>\n",
              "    <tr>\n",
              "      <th>3</th>\n",
              "      <td>Outlet_Establishment_Year</td>\n",
              "      <td>6.483759e+13</td>\n",
              "    </tr>\n",
              "    <tr>\n",
              "      <th>4</th>\n",
              "      <td>Item_Fat_Content_LF</td>\n",
              "      <td>-1.198396e+14</td>\n",
              "    </tr>\n",
              "  </tbody>\n",
              "</table>\n",
              "</div>"
            ],
            "text/plain": [
              "                    Variable   coefficient\n",
              "0                Item_Weight  4.867457e-01\n",
              "1            Item_Visibility -3.827646e+02\n",
              "2                   Item_MRP  1.549856e+01\n",
              "3  Outlet_Establishment_Year  6.483759e+13\n",
              "4        Item_Fat_Content_LF -1.198396e+14"
            ]
          },
          "metadata": {
            "tags": []
          },
          "execution_count": 32
        }
      ]
    },
    {
      "cell_type": "markdown",
      "metadata": {
        "id": "BUCtDApgNM6X"
      },
      "source": [
        "#### Chossing variables with sigificance greater than 0.5 ( Filtering Significant Features)"
      ]
    },
    {
      "cell_type": "code",
      "metadata": {
        "id": "e1aLhGv1JE7e"
      },
      "source": [
        "sig_var = Coefficients[Coefficients.coefficient > 0.5]"
      ],
      "execution_count": null,
      "outputs": []
    },
    {
      "cell_type": "markdown",
      "metadata": {
        "id": "nsfBK1cwNYeS"
      },
      "source": [
        "#### Extracting the significant subset do independent Variables"
      ]
    },
    {
      "cell_type": "code",
      "metadata": {
        "id": "W7WNJQ-5Lncx",
        "colab": {
          "base_uri": "https://localhost:8080/",
          "height": 241
        },
        "outputId": "5647a4c9-5d04-4cd9-e51a-eb37bf1b6d16"
      },
      "source": [
        "subset = data[sig_var['Variable'].values]\n",
        "subset.head()"
      ],
      "execution_count": null,
      "outputs": [
        {
          "output_type": "execute_result",
          "data": {
            "text/html": [
              "<div>\n",
              "<style scoped>\n",
              "    .dataframe tbody tr th:only-of-type {\n",
              "        vertical-align: middle;\n",
              "    }\n",
              "\n",
              "    .dataframe tbody tr th {\n",
              "        vertical-align: top;\n",
              "    }\n",
              "\n",
              "    .dataframe thead th {\n",
              "        text-align: right;\n",
              "    }\n",
              "</style>\n",
              "<table border=\"1\" class=\"dataframe\">\n",
              "  <thead>\n",
              "    <tr style=\"text-align: right;\">\n",
              "      <th></th>\n",
              "      <th>Item_MRP</th>\n",
              "      <th>Outlet_Establishment_Year</th>\n",
              "      <th>Outlet_Identifier_OUT010</th>\n",
              "      <th>Outlet_Identifier_OUT013</th>\n",
              "      <th>Outlet_Identifier_OUT018</th>\n",
              "      <th>Outlet_Identifier_OUT019</th>\n",
              "      <th>Outlet_Identifier_OUT027</th>\n",
              "      <th>Outlet_Identifier_OUT045</th>\n",
              "      <th>Outlet_Identifier_OUT046</th>\n",
              "      <th>Outlet_Identifier_OUT049</th>\n",
              "      <th>Outlet_Size_High</th>\n",
              "      <th>Outlet_Size_Small</th>\n",
              "      <th>Outlet_Location_Type_Tier 1</th>\n",
              "      <th>Outlet_Location_Type_Tier 2</th>\n",
              "      <th>Outlet_Type_Grocery Store</th>\n",
              "      <th>Outlet_Type_Supermarket Type1</th>\n",
              "      <th>Outlet_Type_Supermarket Type2</th>\n",
              "      <th>Outlet_Type_Supermarket Type3</th>\n",
              "    </tr>\n",
              "  </thead>\n",
              "  <tbody>\n",
              "    <tr>\n",
              "      <th>0</th>\n",
              "      <td>249.8092</td>\n",
              "      <td>1999</td>\n",
              "      <td>0</td>\n",
              "      <td>0</td>\n",
              "      <td>0</td>\n",
              "      <td>0</td>\n",
              "      <td>0</td>\n",
              "      <td>0</td>\n",
              "      <td>0</td>\n",
              "      <td>1</td>\n",
              "      <td>0</td>\n",
              "      <td>0</td>\n",
              "      <td>1</td>\n",
              "      <td>0</td>\n",
              "      <td>0</td>\n",
              "      <td>1</td>\n",
              "      <td>0</td>\n",
              "      <td>0</td>\n",
              "    </tr>\n",
              "    <tr>\n",
              "      <th>1</th>\n",
              "      <td>48.2692</td>\n",
              "      <td>2009</td>\n",
              "      <td>0</td>\n",
              "      <td>0</td>\n",
              "      <td>1</td>\n",
              "      <td>0</td>\n",
              "      <td>0</td>\n",
              "      <td>0</td>\n",
              "      <td>0</td>\n",
              "      <td>0</td>\n",
              "      <td>0</td>\n",
              "      <td>0</td>\n",
              "      <td>0</td>\n",
              "      <td>0</td>\n",
              "      <td>0</td>\n",
              "      <td>0</td>\n",
              "      <td>1</td>\n",
              "      <td>0</td>\n",
              "    </tr>\n",
              "    <tr>\n",
              "      <th>2</th>\n",
              "      <td>141.6180</td>\n",
              "      <td>1999</td>\n",
              "      <td>0</td>\n",
              "      <td>0</td>\n",
              "      <td>0</td>\n",
              "      <td>0</td>\n",
              "      <td>0</td>\n",
              "      <td>0</td>\n",
              "      <td>0</td>\n",
              "      <td>1</td>\n",
              "      <td>0</td>\n",
              "      <td>0</td>\n",
              "      <td>1</td>\n",
              "      <td>0</td>\n",
              "      <td>0</td>\n",
              "      <td>1</td>\n",
              "      <td>0</td>\n",
              "      <td>0</td>\n",
              "    </tr>\n",
              "    <tr>\n",
              "      <th>3</th>\n",
              "      <td>182.0950</td>\n",
              "      <td>1998</td>\n",
              "      <td>1</td>\n",
              "      <td>0</td>\n",
              "      <td>0</td>\n",
              "      <td>0</td>\n",
              "      <td>0</td>\n",
              "      <td>0</td>\n",
              "      <td>0</td>\n",
              "      <td>0</td>\n",
              "      <td>0</td>\n",
              "      <td>0</td>\n",
              "      <td>0</td>\n",
              "      <td>0</td>\n",
              "      <td>1</td>\n",
              "      <td>0</td>\n",
              "      <td>0</td>\n",
              "      <td>0</td>\n",
              "    </tr>\n",
              "    <tr>\n",
              "      <th>4</th>\n",
              "      <td>53.8614</td>\n",
              "      <td>1987</td>\n",
              "      <td>0</td>\n",
              "      <td>1</td>\n",
              "      <td>0</td>\n",
              "      <td>0</td>\n",
              "      <td>0</td>\n",
              "      <td>0</td>\n",
              "      <td>0</td>\n",
              "      <td>0</td>\n",
              "      <td>1</td>\n",
              "      <td>0</td>\n",
              "      <td>0</td>\n",
              "      <td>0</td>\n",
              "      <td>0</td>\n",
              "      <td>1</td>\n",
              "      <td>0</td>\n",
              "      <td>0</td>\n",
              "    </tr>\n",
              "  </tbody>\n",
              "</table>\n",
              "</div>"
            ],
            "text/plain": [
              "   Item_MRP  ...  Outlet_Type_Supermarket Type3\n",
              "0  249.8092  ...                              0\n",
              "1   48.2692  ...                              0\n",
              "2  141.6180  ...                              0\n",
              "3  182.0950  ...                              0\n",
              "4   53.8614  ...                              0\n",
              "\n",
              "[5 rows x 18 columns]"
            ]
          },
          "metadata": {
            "tags": []
          },
          "execution_count": 34
        }
      ]
    },
    {
      "cell_type": "markdown",
      "metadata": {
        "id": "U8JPAMHKKutz"
      },
      "source": [
        "#### Splitting the data into train set and the test set"
      ]
    },
    {
      "cell_type": "code",
      "metadata": {
        "id": "IgW8nm99Kut1"
      },
      "source": [
        "# Importing the train test split function\n",
        "from sklearn.model_selection import train_test_split\n",
        "train_x,test_x,train_y,test_y = train_test_split(subset, y , random_state = 56)"
      ],
      "execution_count": null,
      "outputs": []
    },
    {
      "cell_type": "markdown",
      "metadata": {
        "id": "vxgz_jCMKut4"
      },
      "source": [
        "#### Implementing Linear Regression"
      ]
    },
    {
      "cell_type": "code",
      "metadata": {
        "id": "Ju8gCMxZKut5"
      },
      "source": [
        "#importing Linear Regression and metric mean square error\n",
        "from sklearn.linear_model import LinearRegression as LR\n",
        "from sklearn.metrics import mean_absolute_error as mae"
      ],
      "execution_count": null,
      "outputs": []
    },
    {
      "cell_type": "markdown",
      "metadata": {
        "id": "lMRLnpT9NimN"
      },
      "source": [
        "#### Training Model"
      ]
    },
    {
      "cell_type": "code",
      "metadata": {
        "id": "yLeVFA7tMehg",
        "colab": {
          "base_uri": "https://localhost:8080/",
          "height": 34
        },
        "outputId": "ebdbcdf0-b4cc-4ddf-cac8-ff3414414ae8"
      },
      "source": [
        "# Creating instance of Linear Regresssion with Normalised Data\n",
        "lr = LR(normalize = True)\n",
        "\n",
        "# Fitting the model\n",
        "lr.fit(train_x, train_y)"
      ],
      "execution_count": null,
      "outputs": [
        {
          "output_type": "execute_result",
          "data": {
            "text/plain": [
              "LinearRegression(copy_X=True, fit_intercept=True, n_jobs=None, normalize=True)"
            ]
          },
          "metadata": {
            "tags": []
          },
          "execution_count": 37
        }
      ]
    },
    {
      "cell_type": "markdown",
      "metadata": {
        "id": "ubHMF3B_Nk0X"
      },
      "source": [
        "#### Predicting over the train set"
      ]
    },
    {
      "cell_type": "code",
      "metadata": {
        "id": "C7i0e7PlMPjK",
        "colab": {
          "base_uri": "https://localhost:8080/",
          "height": 34
        },
        "outputId": "04f80418-916d-4dba-c3a9-7d3e2561ab62"
      },
      "source": [
        "# Predicting over the Train Set and calculating error\n",
        "train_predict = lr.predict(train_x)\n",
        "k = mae(train_predict, train_y)\n",
        "print('Training Mean Absolute Error', k )"
      ],
      "execution_count": null,
      "outputs": [
        {
          "output_type": "stream",
          "text": [
            "Training Mean Absolute Error 822.5458775969962\n"
          ],
          "name": "stdout"
        }
      ]
    },
    {
      "cell_type": "markdown",
      "metadata": {
        "id": "UEdgX_PYNnui"
      },
      "source": [
        "#### Predicting over the test set"
      ]
    },
    {
      "cell_type": "code",
      "metadata": {
        "id": "OnqWeXvGMPjN",
        "colab": {
          "base_uri": "https://localhost:8080/",
          "height": 34
        },
        "outputId": "e8575b75-f2e6-4e92-e736-dbc3a45f2686"
      },
      "source": [
        "# Predicting over the Test Set and calculating error\n",
        "test_predict = lr.predict(test_x)\n",
        "k = mae(test_predict, test_y)\n",
        "print('Test Mean Absolute Error    ', k )"
      ],
      "execution_count": null,
      "outputs": [
        {
          "output_type": "stream",
          "text": [
            "Test Mean Absolute Error     872.4151667761614\n"
          ],
          "name": "stdout"
        }
      ]
    },
    {
      "cell_type": "markdown",
      "metadata": {
        "id": "4hH6SeJnNryh"
      },
      "source": [
        "#### Plotting the coefficients"
      ]
    },
    {
      "cell_type": "code",
      "metadata": {
        "id": "wfa5P4tUMPjR",
        "colab": {
          "base_uri": "https://localhost:8080/",
          "height": 680
        },
        "outputId": "8b1b4327-1407-4dc4-b6f2-b253a4dd5b92"
      },
      "source": [
        "plt.figure(figsize=(8, 6), dpi=120, facecolor='w', edgecolor='b')\n",
        "x = range(len(train_x.columns))\n",
        "y = lr.coef_\n",
        "plt.bar( x, y )\n",
        "plt.xlabel( \"Variables\")\n",
        "plt.ylabel('Coefficients')\n",
        "plt.title('Normalized Coefficient plot')"
      ],
      "execution_count": null,
      "outputs": [
        {
          "output_type": "execute_result",
          "data": {
            "text/plain": [
              "Text(0.5, 1.0, 'Normalized Coefficient plot')"
            ]
          },
          "metadata": {
            "tags": []
          },
          "execution_count": 40
        },
        {
          "output_type": "display_data",
          "data": {
            "image/png": "[encoded data removed]",
            "text/plain": [
              "<Figure size 960x720 with 1 Axes>"
            ]
          },
          "metadata": {
            "tags": []
          }
        }
      ]
    },
    {
      "cell_type": "code",
      "metadata": {
        "id": "ukKOCOSfOKd2"
      },
      "source": [
        ""
      ],
      "execution_count": null,
      "outputs": []
    }
  ]
}