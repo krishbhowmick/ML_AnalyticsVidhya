{
  "nbformat": 4,
  "nbformat_minor": 0,
  "metadata": {
    "colab": {
      "name": "ML8.1_Underfit_Overfit_using_KNN_1.ipynb",
      "provenance": [],
      "collapsed_sections": [],
      "include_colab_link": true
    },
    "kernelspec": {
      "display_name": "Python 3",
      "language": "python",
      "name": "python3"
    },
    "language_info": {
      "codemirror_mode": {
        "name": "ipython",
        "version": 3
      },
      "file_extension": ".py",
      "mimetype": "text/x-python",
      "name": "python",
      "nbconvert_exporter": "python",
      "pygments_lexer": "ipython3",
      "version": "3.6.8"
    }
  },
  "cells": [
    {
      "cell_type": "markdown",
      "metadata": {
        "id": "view-in-github",
        "colab_type": "text"
      },
      "source": [
        "<a href=\"https://colab.research.google.com/github/krishbhowmick/ML_AnalyticsVidhya/blob/main/ML8.1_Underfit_Overfit_using_KNN_1.ipynb\" target=\"_parent\"><img src=\"https://colab.research.google.com/assets/colab-badge.svg\" alt=\"Open In Colab\"/></a>"
      ]
    },
    {
      "cell_type": "code",
      "metadata": {
        "id": "eWchGPfa9xW9",
        "colab": {
          "base_uri": "https://localhost:8080/",
          "height": 34
        },
        "outputId": "22edcfd9-8c52-4022-85d5-26a75fb67373"
      },
      "source": [
        "from google.colab import drive\n",
        "drive.mount('/content/drive/') "
      ],
      "execution_count": null,
      "outputs": [
        {
          "output_type": "stream",
          "text": [
            "Drive already mounted at /content/drive/; to attempt to forcibly remount, call drive.mount(\"/content/drive/\", force_remount=True).\n"
          ],
          "name": "stdout"
        }
      ]
    },
    {
      "cell_type": "code",
      "metadata": {
        "id": "m5xY-uzurzKE"
      },
      "source": [
        "#importing libraries \n",
        "import pandas as pd \n",
        "import numpy as np\n",
        "import matplotlib.pyplot as plt\n",
        "%matplotlib inline"
      ],
      "execution_count": null,
      "outputs": []
    },
    {
      "cell_type": "markdown",
      "metadata": {
        "id": "tHKgifnpjyvh"
      },
      "source": [
        "### Importing the data"
      ]
    },
    {
      "cell_type": "code",
      "metadata": {
        "id": "NB5xYyHg9xXA"
      },
      "source": [
        "data = pd.read_csv('/content/drive/My Drive/ML_Code/8_Select the right model/2.  Visualizing overfitting and underfitting using knn/data_cleaned.csv')"
      ],
      "execution_count": null,
      "outputs": []
    },
    {
      "cell_type": "code",
      "metadata": {
        "id": "qjISR4M_9xXE",
        "colab": {
          "base_uri": "https://localhost:8080/",
          "height": 100
        },
        "outputId": "d461e03d-91aa-45d3-c8dd-d75e5063cfd4"
      },
      "source": [
        "data.head(1)"
      ],
      "execution_count": null,
      "outputs": [
        {
          "output_type": "execute_result",
          "data": {
            "text/html": [
              "<div>\n",
              "<style scoped>\n",
              "    .dataframe tbody tr th:only-of-type {\n",
              "        vertical-align: middle;\n",
              "    }\n",
              "\n",
              "    .dataframe tbody tr th {\n",
              "        vertical-align: top;\n",
              "    }\n",
              "\n",
              "    .dataframe thead th {\n",
              "        text-align: right;\n",
              "    }\n",
              "</style>\n",
              "<table border=\"1\" class=\"dataframe\">\n",
              "  <thead>\n",
              "    <tr style=\"text-align: right;\">\n",
              "      <th></th>\n",
              "      <th>Survived</th>\n",
              "      <th>Age</th>\n",
              "      <th>Fare</th>\n",
              "      <th>Pclass_1</th>\n",
              "      <th>Pclass_2</th>\n",
              "      <th>Pclass_3</th>\n",
              "      <th>Sex_female</th>\n",
              "      <th>Sex_male</th>\n",
              "      <th>SibSp_0</th>\n",
              "      <th>SibSp_1</th>\n",
              "      <th>SibSp_2</th>\n",
              "      <th>SibSp_3</th>\n",
              "      <th>SibSp_4</th>\n",
              "      <th>SibSp_5</th>\n",
              "      <th>SibSp_8</th>\n",
              "      <th>Parch_0</th>\n",
              "      <th>Parch_1</th>\n",
              "      <th>Parch_2</th>\n",
              "      <th>Parch_3</th>\n",
              "      <th>Parch_4</th>\n",
              "      <th>Parch_5</th>\n",
              "      <th>Parch_6</th>\n",
              "      <th>Embarked_C</th>\n",
              "      <th>Embarked_Q</th>\n",
              "      <th>Embarked_S</th>\n",
              "    </tr>\n",
              "  </thead>\n",
              "  <tbody>\n",
              "    <tr>\n",
              "      <th>0</th>\n",
              "      <td>0</td>\n",
              "      <td>22.0</td>\n",
              "      <td>7.25</td>\n",
              "      <td>0</td>\n",
              "      <td>0</td>\n",
              "      <td>1</td>\n",
              "      <td>0</td>\n",
              "      <td>1</td>\n",
              "      <td>0</td>\n",
              "      <td>1</td>\n",
              "      <td>0</td>\n",
              "      <td>0</td>\n",
              "      <td>0</td>\n",
              "      <td>0</td>\n",
              "      <td>0</td>\n",
              "      <td>1</td>\n",
              "      <td>0</td>\n",
              "      <td>0</td>\n",
              "      <td>0</td>\n",
              "      <td>0</td>\n",
              "      <td>0</td>\n",
              "      <td>0</td>\n",
              "      <td>0</td>\n",
              "      <td>0</td>\n",
              "      <td>1</td>\n",
              "    </tr>\n",
              "  </tbody>\n",
              "</table>\n",
              "</div>"
            ],
            "text/plain": [
              "   Survived   Age  Fare  Pclass_1  ...  Parch_6  Embarked_C  Embarked_Q  Embarked_S\n",
              "0         0  22.0  7.25         0  ...        0           0           0           1\n",
              "\n",
              "[1 rows x 25 columns]"
            ]
          },
          "metadata": {
            "tags": []
          },
          "execution_count": 41
        }
      ]
    },
    {
      "cell_type": "code",
      "metadata": {
        "id": "1UYXqY_P6YQz",
        "colab": {
          "base_uri": "https://localhost:8080/",
          "height": 459
        },
        "outputId": "2e027e3e-9cc4-40ce-ad65-e2f96c66e897"
      },
      "source": [
        "data.isnull().sum()"
      ],
      "execution_count": null,
      "outputs": [
        {
          "output_type": "execute_result",
          "data": {
            "text/plain": [
              "Survived      0\n",
              "Age           0\n",
              "Fare          0\n",
              "Pclass_1      0\n",
              "Pclass_2      0\n",
              "Pclass_3      0\n",
              "Sex_female    0\n",
              "Sex_male      0\n",
              "SibSp_0       0\n",
              "SibSp_1       0\n",
              "SibSp_2       0\n",
              "SibSp_3       0\n",
              "SibSp_4       0\n",
              "SibSp_5       0\n",
              "SibSp_8       0\n",
              "Parch_0       0\n",
              "Parch_1       0\n",
              "Parch_2       0\n",
              "Parch_3       0\n",
              "Parch_4       0\n",
              "Parch_5       0\n",
              "Parch_6       0\n",
              "Embarked_C    0\n",
              "Embarked_Q    0\n",
              "Embarked_S    0\n",
              "dtype: int64"
            ]
          },
          "metadata": {
            "tags": []
          },
          "execution_count": 49
        }
      ]
    },
    {
      "cell_type": "markdown",
      "metadata": {
        "id": "hGxgnJmxj3nv"
      },
      "source": [
        "### Segregating variables - Dependent & Independent "
      ]
    },
    {
      "cell_type": "code",
      "metadata": {
        "id": "rym4fnPq9xXG"
      },
      "source": [
        "#seperating independent and dependent variables\n",
        "\n",
        "x = data.drop(['Survived'], axis=1)  # drop\n",
        "y = data['Survived']"
      ],
      "execution_count": null,
      "outputs": []
    },
    {
      "cell_type": "markdown",
      "metadata": {
        "id": "YXztAQ_Ded3q"
      },
      "source": [
        "#### Scaling the data"
      ]
    },
    {
      "cell_type": "code",
      "metadata": {
        "id": "mBlVReHxd2eb"
      },
      "source": [
        "from sklearn.preprocessing import StandardScaler\n",
        "ss = StandardScaler()\n",
        "x = ss.fit_transform(x)"
      ],
      "execution_count": null,
      "outputs": []
    },
    {
      "cell_type": "code",
      "metadata": {
        "id": "-PcDK1re9xXM"
      },
      "source": [
        "from sklearn.model_selection import train_test_split\n",
        "train_x,test_x,train_y,test_y = train_test_split(x,y, random_state = 96, stratify=y) "
      ],
      "execution_count": null,
      "outputs": []
    },
    {
      "cell_type": "markdown",
      "metadata": {
        "id": "WvsDKzjdyNWi"
      },
      "source": [
        "### Implementing KNN"
      ]
    },
    {
      "cell_type": "code",
      "metadata": {
        "id": "yCG2gM5KyM-1"
      },
      "source": [
        "#importing KNN classifier and metric F1score\n",
        "\n",
        "from sklearn.neighbors import KNeighborsClassifier as KNN\n",
        "from sklearn.metrics import f1_score "
      ],
      "execution_count": null,
      "outputs": []
    },
    {
      "cell_type": "code",
      "metadata": {
        "id": "TFrwDTRdybYF",
        "colab": {
          "base_uri": "https://localhost:8080/",
          "height": 51
        },
        "outputId": "d0ae55f1-65b3-483c-cd7b-eae77bd55a6e"
      },
      "source": [
        "# Creating instance of KNN\n",
        "clf = KNN(n_neighbors = 3)\n",
        "\n",
        "# Fitting the model\n",
        "clf.fit(train_x, train_y)            #fit is for train\n",
        "\n",
        "# Predicting over the Train Set and calculating F1\n",
        "train_predict = clf.predict(train_x)         # predict for train\n",
        "k = f1_score(train_predict, train_y)         # F1 score for test\n",
        "print('Training F1 Score', k )\n",
        "\n",
        "# Predicting over the Train Set and calculating F1\n",
        "test_predict = clf.predict(test_x)           # predict for test\n",
        "k = f1_score(test_predict, test_y)           # F1 score for test\n",
        "print('Test F1 Score    ', k ) "
      ],
      "execution_count": null,
      "outputs": [
        {
          "output_type": "stream",
          "text": [
            "Training F1 Score 0.8209255533199196\n",
            "Test F1 Score     0.7080745341614907\n"
          ],
          "name": "stdout"
        }
      ]
    },
    {
      "cell_type": "markdown",
      "metadata": {
        "id": "WUlYDj9Xkmvy"
      },
      "source": [
        "### Checking the Training F1 and Test F1curve"
      ]
    },
    {
      "cell_type": "code",
      "metadata": {
        "id": "RpNtm5XLoqmm"
      },
      "source": [
        "def F1score(K):\n",
        "    '''\n",
        "  Takes an input K consisting of a range of K values for KNN\n",
        "  Input:\n",
        "  K = list\n",
        "  \n",
        "  Returns: lists containing F1 corresponding to every value of K\n",
        "  train_f1 = list of train f1 score corresponding K\n",
        "  test_f1  = list of test f1 score corresponding to K\n",
        "    '''\n",
        "      # initiating empty list\n",
        "    train_f1 = []\n",
        "    test_f1 = []\n",
        "  \n",
        "      # training model for evey value of K\n",
        "    for i in K:\n",
        "        # Instance oh KNN\n",
        "        clf  = KNN(n_neighbors = i)\n",
        "        clf.fit(train_x, train_y)       \n",
        "        # Appending F1 scores to empty list claculated using the predictions\n",
        "        tmp = clf.predict(train_x)    # predict for train\n",
        "        tmp = f1_score(tmp,train_y)   # F1 score for train\n",
        "        train_f1.append(tmp)          # add to list for train_F1\n",
        "    \n",
        "        tmp = clf.predict(test_x)\n",
        "        tmp = f1_score(tmp,test_y)\n",
        "        test_f1.append(tmp)\n",
        "    \n",
        "    return train_f1, test_f1"
      ],
      "execution_count": null,
      "outputs": []
    },
    {
      "cell_type": "code",
      "metadata": {
        "id": "61WGHNM_Cxn2"
      },
      "source": [
        "#Defining K range\n",
        "k = range(1,150)"
      ],
      "execution_count": null,
      "outputs": []
    },
    {
      "cell_type": "code",
      "metadata": {
        "id": "SNBDTcSf9xXW"
      },
      "source": [
        "# calling above defined function\n",
        "train_f1, test_f1 = F1score(k)"
      ],
      "execution_count": null,
      "outputs": []
    },
    {
      "cell_type": "code",
      "metadata": {
        "id": "abj-VZlbPqCJ",
        "colab": {
          "base_uri": "https://localhost:8080/",
          "height": 419
        },
        "outputId": "1debb7e5-75ae-402b-c819-5d5af74520ee"
      },
      "source": [
        "# Dataframe is for\n",
        "# index  ?\n",
        "score = pd.DataFrame({'train score': train_f1, 'test score': test_f1}, index = k)    \n",
        "score"
      ],
      "execution_count": null,
      "outputs": [
        {
          "output_type": "execute_result",
          "data": {
            "text/html": [
              "<div>\n",
              "<style scoped>\n",
              "    .dataframe tbody tr th:only-of-type {\n",
              "        vertical-align: middle;\n",
              "    }\n",
              "\n",
              "    .dataframe tbody tr th {\n",
              "        vertical-align: top;\n",
              "    }\n",
              "\n",
              "    .dataframe thead th {\n",
              "        text-align: right;\n",
              "    }\n",
              "</style>\n",
              "<table border=\"1\" class=\"dataframe\">\n",
              "  <thead>\n",
              "    <tr style=\"text-align: right;\">\n",
              "      <th></th>\n",
              "      <th>train score</th>\n",
              "      <th>test score</th>\n",
              "    </tr>\n",
              "  </thead>\n",
              "  <tbody>\n",
              "    <tr>\n",
              "      <th>1</th>\n",
              "      <td>0.976654</td>\n",
              "      <td>0.701149</td>\n",
              "    </tr>\n",
              "    <tr>\n",
              "      <th>2</th>\n",
              "      <td>0.804651</td>\n",
              "      <td>0.595745</td>\n",
              "    </tr>\n",
              "    <tr>\n",
              "      <th>3</th>\n",
              "      <td>0.820926</td>\n",
              "      <td>0.708075</td>\n",
              "    </tr>\n",
              "    <tr>\n",
              "      <th>4</th>\n",
              "      <td>0.773034</td>\n",
              "      <td>0.628571</td>\n",
              "    </tr>\n",
              "    <tr>\n",
              "      <th>5</th>\n",
              "      <td>0.771784</td>\n",
              "      <td>0.675497</td>\n",
              "    </tr>\n",
              "    <tr>\n",
              "      <th>...</th>\n",
              "      <td>...</td>\n",
              "      <td>...</td>\n",
              "    </tr>\n",
              "    <tr>\n",
              "      <th>145</th>\n",
              "      <td>0.552632</td>\n",
              "      <td>0.517241</td>\n",
              "    </tr>\n",
              "    <tr>\n",
              "      <th>146</th>\n",
              "      <td>0.552632</td>\n",
              "      <td>0.517241</td>\n",
              "    </tr>\n",
              "    <tr>\n",
              "      <th>147</th>\n",
              "      <td>0.552632</td>\n",
              "      <td>0.517241</td>\n",
              "    </tr>\n",
              "    <tr>\n",
              "      <th>148</th>\n",
              "      <td>0.552632</td>\n",
              "      <td>0.517241</td>\n",
              "    </tr>\n",
              "    <tr>\n",
              "      <th>149</th>\n",
              "      <td>0.551181</td>\n",
              "      <td>0.517241</td>\n",
              "    </tr>\n",
              "  </tbody>\n",
              "</table>\n",
              "<p>149 rows × 2 columns</p>\n",
              "</div>"
            ],
            "text/plain": [
              "     train score  test score\n",
              "1       0.976654    0.701149\n",
              "2       0.804651    0.595745\n",
              "3       0.820926    0.708075\n",
              "4       0.773034    0.628571\n",
              "5       0.771784    0.675497\n",
              "..           ...         ...\n",
              "145     0.552632    0.517241\n",
              "146     0.552632    0.517241\n",
              "147     0.552632    0.517241\n",
              "148     0.552632    0.517241\n",
              "149     0.551181    0.517241\n",
              "\n",
              "[149 rows x 2 columns]"
            ]
          },
          "metadata": {
            "tags": []
          },
          "execution_count": 33
        }
      ]
    },
    {
      "cell_type": "markdown",
      "metadata": {
        "id": "hcEpjkQ8O6M8"
      },
      "source": [
        "### Visualizing"
      ]
    },
    {
      "cell_type": "code",
      "metadata": {
        "id": "tSbdFLQooqm7"
      },
      "source": [
        "from pylab import rcParams\n",
        "rcParams['figure.figsize'] = 8, 6"
      ],
      "execution_count": null,
      "outputs": []
    },
    {
      "cell_type": "code",
      "metadata": {
        "id": "sZPmBD6qr9NT",
        "colab": {
          "base_uri": "https://localhost:8080/",
          "height": 384
        },
        "outputId": "33651aba-d08a-4c84-b4be-973f17a3cde9"
      },
      "source": [
        "# plotting the Curvesg\n",
        "plt.figure(figsize=(4,2), dpi=150)\n",
        "plt.plot(k[0:60], test_f1[0:60], color = 'red' , label = 'test')\n",
        "plt.plot(k[0:60], train_f1[0:60], color = 'green', label = 'train')\n",
        "plt.xlabel('K Neighbors')\n",
        "plt.ylabel('F1 Score')\n",
        "plt.title('F1 Curve')\n",
        "plt.ylim(0.4,1)\n",
        "plt.legend()"
      ],
      "execution_count": null,
      "outputs": [
        {
          "output_type": "execute_result",
          "data": {
            "text/plain": [
              "<matplotlib.legend.Legend at 0x7f4704ea6710>"
            ]
          },
          "metadata": {
            "tags": []
          },
          "execution_count": 74
        },
        {
          "output_type": "display_data",
          "data": {
            "image/png": "[encoded data removed]",
            "text/plain": [
              "<Figure size 600x300 with 1 Axes>"
            ]
          },
          "metadata": {
            "tags": [],
            "needs_background": "light"
          }
        }
      ]
    },
    {
      "cell_type": "markdown",
      "metadata": {
        "id": "LHnfg5mDoYj0"
      },
      "source": [
        "# Challenges with Test set"
      ]
    },
    {
      "cell_type": "code",
      "metadata": {
        "id": "3QOAnWKToIvm"
      },
      "source": [
        "from sklearn.model_selection import train_test_split\n",
        "train_x,test_x,train_y,test_y = train_test_split(x,y, random_state = 96, stratify = y) # stratify"
      ],
      "execution_count": null,
      "outputs": []
    },
    {
      "cell_type": "code",
      "metadata": {
        "id": "jLNF8Wn3oIsm"
      },
      "source": [
        "# calling above defined function\n",
        "k = range(1,50)\n",
        "train, test = F1score(k) "
      ],
      "execution_count": null,
      "outputs": []
    },
    {
      "cell_type": "code",
      "metadata": {
        "id": "-CANSLb1PEZT",
        "colab": {
          "base_uri": "https://localhost:8080/",
          "height": 384
        },
        "outputId": "c49fdbc3-747a-41bf-a6dc-0fbe600f9e1a"
      },
      "source": [
        "# plotting the Curves\n",
        "plt.figure(figsize=(4,2), dpi=150)\n",
        "plt.plot(k, test, color = 'red' , label = 'test')\n",
        "plt.plot(k, train, color = 'green', label = 'train')\n",
        "plt.xlabel('K Neighbors')\n",
        "plt.ylabel('F1 Score')\n",
        "plt.title('F1 Curve')\n",
        "plt.ylim(0.4,1)\n",
        "plt.legend()"
      ],
      "execution_count": null,
      "outputs": [
        {
          "output_type": "execute_result",
          "data": {
            "text/plain": [
              "<matplotlib.legend.Legend at 0x7f4704b02668>"
            ]
          },
          "metadata": {
            "tags": []
          },
          "execution_count": 85
        },
        {
          "output_type": "display_data",
          "data": {
            "image/png": "[encoded data removed]",
            "text/plain": [
              "<Figure size 600x300 with 1 Axes>"
            ]
          },
          "metadata": {
            "tags": [],
            "needs_background": "light"
          }
        }
      ]
    }
  ]
}