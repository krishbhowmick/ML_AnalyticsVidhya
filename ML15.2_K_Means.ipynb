{
  "nbformat": 4,
  "nbformat_minor": 0,
  "metadata": {
    "kernelspec": {
      "display_name": "Python 3",
      "language": "python",
      "name": "python3"
    },
    "language_info": {
      "codemirror_mode": {
        "name": "ipython",
        "version": 3
      },
      "file_extension": ".py",
      "mimetype": "text/x-python",
      "name": "python",
      "nbconvert_exporter": "python",
      "pygments_lexer": "ipython3",
      "version": "3.6.5"
    },
    "colab": {
      "name": "ML15.2_K-Means",
      "provenance": [],
      "include_colab_link": true
    }
  },
  "cells": [
    {
      "cell_type": "markdown",
      "metadata": {
        "id": "view-in-github",
        "colab_type": "text"
      },
      "source": [
        "<a href=\"https://colab.research.google.com/github/krishbhowmick/ML_AnalyticsVidhya/blob/main/ML15.2_K_Means.ipynb\" target=\"_parent\"><img src=\"https://colab.research.google.com/assets/colab-badge.svg\" alt=\"Open In Colab\"/></a>"
      ]
    },
    {
      "cell_type": "code",
      "metadata": {
        "id": "gACbt300ZRiS",
        "colab": {
          "base_uri": "https://localhost:8080/",
          "height": 122
        },
        "outputId": "a2da5d06-1b75-4d1e-d15d-1accdc21f847"
      },
      "source": [
        "from google.colab import drive\n",
        "drive.mount('/content/drive/')\n"
      ],
      "execution_count": null,
      "outputs": [
        {
          "output_type": "stream",
          "text": [
            "Go to this URL in a browser: https://accounts.google.com/o/oauth2/auth?client_id=947318989803-6bn6qk8qdgf4n4g3pfee6491hc0brc4i.apps.googleusercontent.com&redirect_uri=urn%3aietf%3awg%3aoauth%3a2.0%3aoob&response_type=code&scope=email%20https%3a%2f%2fwww.googleapis.com%2fauth%2fdocs.test%20https%3a%2f%2fwww.googleapis.com%2fauth%2fdrive%20https%3a%2f%2fwww.googleapis.com%2fauth%2fdrive.photos.readonly%20https%3a%2f%2fwww.googleapis.com%2fauth%2fpeopleapi.readonly\n",
            "\n",
            "Enter your authorization code:\n",
            "··········\n",
            "Mounted at /content/drive/\n"
          ],
          "name": "stdout"
        }
      ]
    },
    {
      "cell_type": "code",
      "metadata": {
        "id": "ikmUlF3YZ_uq"
      },
      "source": [
        "import pandas as pd\n",
        "import numpy as np\n",
        "import matplotlib.pyplot as plt\n",
        "%matplotlib inline \n",
        "from sklearn.cluster import KMeans"
      ],
      "execution_count": null,
      "outputs": []
    },
    {
      "cell_type": "code",
      "metadata": {
        "id": "r3GkK6WiZRib"
      },
      "source": [
        "data=pd.read_csv(\"/content/drive/My Drive/ML_Code/15_Clustering/10. K-Means Implementation/student_evaluation.csv\")"
      ],
      "execution_count": null,
      "outputs": []
    },
    {
      "cell_type": "code",
      "metadata": {
        "id": "HZLCsqkCZRih",
        "colab": {
          "base_uri": "https://localhost:8080/",
          "height": 34
        },
        "outputId": "36ab1b94-b3ce-49ca-9c3f-eb195f2d5b69"
      },
      "source": [
        "data.shape"
      ],
      "execution_count": null,
      "outputs": [
        {
          "output_type": "execute_result",
          "data": {
            "text/plain": [
              "(5820, 33)"
            ]
          },
          "metadata": {
            "tags": []
          },
          "execution_count": 5
        }
      ]
    },
    {
      "cell_type": "code",
      "metadata": {
        "id": "TSPOSl0CZRio",
        "colab": {
          "base_uri": "https://localhost:8080/",
          "height": 224
        },
        "outputId": "5310212c-59d2-4734-b921-b98e22b7f992"
      },
      "source": [
        "data.head()"
      ],
      "execution_count": null,
      "outputs": [
        {
          "output_type": "execute_result",
          "data": {
            "text/html": [
              "<div>\n",
              "<style scoped>\n",
              "    .dataframe tbody tr th:only-of-type {\n",
              "        vertical-align: middle;\n",
              "    }\n",
              "\n",
              "    .dataframe tbody tr th {\n",
              "        vertical-align: top;\n",
              "    }\n",
              "\n",
              "    .dataframe thead th {\n",
              "        text-align: right;\n",
              "    }\n",
              "</style>\n",
              "<table border=\"1\" class=\"dataframe\">\n",
              "  <thead>\n",
              "    <tr style=\"text-align: right;\">\n",
              "      <th></th>\n",
              "      <th>instr</th>\n",
              "      <th>class</th>\n",
              "      <th>nb.repeat</th>\n",
              "      <th>attendance</th>\n",
              "      <th>difficulty</th>\n",
              "      <th>Q1</th>\n",
              "      <th>Q2</th>\n",
              "      <th>Q3</th>\n",
              "      <th>Q4</th>\n",
              "      <th>Q5</th>\n",
              "      <th>Q6</th>\n",
              "      <th>Q7</th>\n",
              "      <th>Q8</th>\n",
              "      <th>Q9</th>\n",
              "      <th>Q10</th>\n",
              "      <th>Q11</th>\n",
              "      <th>Q12</th>\n",
              "      <th>Q13</th>\n",
              "      <th>Q14</th>\n",
              "      <th>Q15</th>\n",
              "      <th>Q16</th>\n",
              "      <th>Q17</th>\n",
              "      <th>Q18</th>\n",
              "      <th>Q19</th>\n",
              "      <th>Q20</th>\n",
              "      <th>Q21</th>\n",
              "      <th>Q22</th>\n",
              "      <th>Q23</th>\n",
              "      <th>Q24</th>\n",
              "      <th>Q25</th>\n",
              "      <th>Q26</th>\n",
              "      <th>Q27</th>\n",
              "      <th>Q28</th>\n",
              "    </tr>\n",
              "  </thead>\n",
              "  <tbody>\n",
              "    <tr>\n",
              "      <th>0</th>\n",
              "      <td>1</td>\n",
              "      <td>2</td>\n",
              "      <td>1</td>\n",
              "      <td>0</td>\n",
              "      <td>4</td>\n",
              "      <td>3</td>\n",
              "      <td>3</td>\n",
              "      <td>3</td>\n",
              "      <td>3</td>\n",
              "      <td>3</td>\n",
              "      <td>3</td>\n",
              "      <td>3</td>\n",
              "      <td>3</td>\n",
              "      <td>3</td>\n",
              "      <td>3</td>\n",
              "      <td>3</td>\n",
              "      <td>3</td>\n",
              "      <td>3</td>\n",
              "      <td>3</td>\n",
              "      <td>3</td>\n",
              "      <td>3</td>\n",
              "      <td>3</td>\n",
              "      <td>3</td>\n",
              "      <td>3</td>\n",
              "      <td>3</td>\n",
              "      <td>3</td>\n",
              "      <td>3</td>\n",
              "      <td>3</td>\n",
              "      <td>3</td>\n",
              "      <td>3</td>\n",
              "      <td>3</td>\n",
              "      <td>3</td>\n",
              "      <td>3</td>\n",
              "    </tr>\n",
              "    <tr>\n",
              "      <th>1</th>\n",
              "      <td>1</td>\n",
              "      <td>2</td>\n",
              "      <td>1</td>\n",
              "      <td>1</td>\n",
              "      <td>3</td>\n",
              "      <td>3</td>\n",
              "      <td>3</td>\n",
              "      <td>3</td>\n",
              "      <td>3</td>\n",
              "      <td>3</td>\n",
              "      <td>3</td>\n",
              "      <td>3</td>\n",
              "      <td>3</td>\n",
              "      <td>3</td>\n",
              "      <td>3</td>\n",
              "      <td>3</td>\n",
              "      <td>3</td>\n",
              "      <td>3</td>\n",
              "      <td>3</td>\n",
              "      <td>3</td>\n",
              "      <td>3</td>\n",
              "      <td>3</td>\n",
              "      <td>3</td>\n",
              "      <td>3</td>\n",
              "      <td>3</td>\n",
              "      <td>3</td>\n",
              "      <td>3</td>\n",
              "      <td>3</td>\n",
              "      <td>3</td>\n",
              "      <td>3</td>\n",
              "      <td>3</td>\n",
              "      <td>3</td>\n",
              "      <td>3</td>\n",
              "    </tr>\n",
              "    <tr>\n",
              "      <th>2</th>\n",
              "      <td>1</td>\n",
              "      <td>2</td>\n",
              "      <td>1</td>\n",
              "      <td>2</td>\n",
              "      <td>4</td>\n",
              "      <td>5</td>\n",
              "      <td>5</td>\n",
              "      <td>5</td>\n",
              "      <td>5</td>\n",
              "      <td>5</td>\n",
              "      <td>5</td>\n",
              "      <td>5</td>\n",
              "      <td>5</td>\n",
              "      <td>5</td>\n",
              "      <td>5</td>\n",
              "      <td>5</td>\n",
              "      <td>5</td>\n",
              "      <td>5</td>\n",
              "      <td>5</td>\n",
              "      <td>5</td>\n",
              "      <td>5</td>\n",
              "      <td>5</td>\n",
              "      <td>5</td>\n",
              "      <td>5</td>\n",
              "      <td>5</td>\n",
              "      <td>5</td>\n",
              "      <td>5</td>\n",
              "      <td>5</td>\n",
              "      <td>5</td>\n",
              "      <td>5</td>\n",
              "      <td>5</td>\n",
              "      <td>5</td>\n",
              "      <td>5</td>\n",
              "    </tr>\n",
              "    <tr>\n",
              "      <th>3</th>\n",
              "      <td>1</td>\n",
              "      <td>2</td>\n",
              "      <td>1</td>\n",
              "      <td>1</td>\n",
              "      <td>3</td>\n",
              "      <td>3</td>\n",
              "      <td>3</td>\n",
              "      <td>3</td>\n",
              "      <td>3</td>\n",
              "      <td>3</td>\n",
              "      <td>3</td>\n",
              "      <td>3</td>\n",
              "      <td>3</td>\n",
              "      <td>3</td>\n",
              "      <td>3</td>\n",
              "      <td>3</td>\n",
              "      <td>3</td>\n",
              "      <td>3</td>\n",
              "      <td>3</td>\n",
              "      <td>3</td>\n",
              "      <td>3</td>\n",
              "      <td>3</td>\n",
              "      <td>3</td>\n",
              "      <td>3</td>\n",
              "      <td>3</td>\n",
              "      <td>3</td>\n",
              "      <td>3</td>\n",
              "      <td>3</td>\n",
              "      <td>3</td>\n",
              "      <td>3</td>\n",
              "      <td>3</td>\n",
              "      <td>3</td>\n",
              "      <td>3</td>\n",
              "    </tr>\n",
              "    <tr>\n",
              "      <th>4</th>\n",
              "      <td>1</td>\n",
              "      <td>2</td>\n",
              "      <td>1</td>\n",
              "      <td>0</td>\n",
              "      <td>1</td>\n",
              "      <td>1</td>\n",
              "      <td>1</td>\n",
              "      <td>1</td>\n",
              "      <td>1</td>\n",
              "      <td>1</td>\n",
              "      <td>1</td>\n",
              "      <td>1</td>\n",
              "      <td>1</td>\n",
              "      <td>1</td>\n",
              "      <td>1</td>\n",
              "      <td>1</td>\n",
              "      <td>1</td>\n",
              "      <td>1</td>\n",
              "      <td>1</td>\n",
              "      <td>1</td>\n",
              "      <td>1</td>\n",
              "      <td>1</td>\n",
              "      <td>1</td>\n",
              "      <td>1</td>\n",
              "      <td>1</td>\n",
              "      <td>1</td>\n",
              "      <td>1</td>\n",
              "      <td>1</td>\n",
              "      <td>1</td>\n",
              "      <td>1</td>\n",
              "      <td>1</td>\n",
              "      <td>1</td>\n",
              "      <td>1</td>\n",
              "    </tr>\n",
              "  </tbody>\n",
              "</table>\n",
              "</div>"
            ],
            "text/plain": [
              "   instr  class  nb.repeat  attendance  difficulty  ...  Q24  Q25  Q26  Q27  Q28\n",
              "0      1      2          1           0           4  ...    3    3    3    3    3\n",
              "1      1      2          1           1           3  ...    3    3    3    3    3\n",
              "2      1      2          1           2           4  ...    5    5    5    5    5\n",
              "3      1      2          1           1           3  ...    3    3    3    3    3\n",
              "4      1      2          1           0           1  ...    1    1    1    1    1\n",
              "\n",
              "[5 rows x 33 columns]"
            ]
          },
          "metadata": {
            "tags": []
          },
          "execution_count": 6
        }
      ]
    },
    {
      "cell_type": "code",
      "metadata": {
        "id": "UVYEIG2RZRiu",
        "colab": {
          "base_uri": "https://localhost:8080/",
          "height": 595
        },
        "outputId": "9d619d92-e626-42de-9f6e-80bc217ff861"
      },
      "source": [
        "data.isnull().sum()"
      ],
      "execution_count": null,
      "outputs": [
        {
          "output_type": "execute_result",
          "data": {
            "text/plain": [
              "instr         0\n",
              "class         0\n",
              "nb.repeat     0\n",
              "attendance    0\n",
              "difficulty    0\n",
              "Q1            0\n",
              "Q2            0\n",
              "Q3            0\n",
              "Q4            0\n",
              "Q5            0\n",
              "Q6            0\n",
              "Q7            0\n",
              "Q8            0\n",
              "Q9            0\n",
              "Q10           0\n",
              "Q11           0\n",
              "Q12           0\n",
              "Q13           0\n",
              "Q14           0\n",
              "Q15           0\n",
              "Q16           0\n",
              "Q17           0\n",
              "Q18           0\n",
              "Q19           0\n",
              "Q20           0\n",
              "Q21           0\n",
              "Q22           0\n",
              "Q23           0\n",
              "Q24           0\n",
              "Q25           0\n",
              "Q26           0\n",
              "Q27           0\n",
              "Q28           0\n",
              "dtype: int64"
            ]
          },
          "metadata": {
            "tags": []
          },
          "execution_count": 7
        }
      ]
    },
    {
      "cell_type": "code",
      "metadata": {
        "id": "MbDO-mcQZRiz",
        "colab": {
          "base_uri": "https://localhost:8080/",
          "height": 317
        },
        "outputId": "2d72c8d0-03ec-49e9-d769-28cd570e6a99"
      },
      "source": [
        "data.describe()"
      ],
      "execution_count": null,
      "outputs": [
        {
          "output_type": "execute_result",
          "data": {
            "text/html": [
              "<div>\n",
              "<style scoped>\n",
              "    .dataframe tbody tr th:only-of-type {\n",
              "        vertical-align: middle;\n",
              "    }\n",
              "\n",
              "    .dataframe tbody tr th {\n",
              "        vertical-align: top;\n",
              "    }\n",
              "\n",
              "    .dataframe thead th {\n",
              "        text-align: right;\n",
              "    }\n",
              "</style>\n",
              "<table border=\"1\" class=\"dataframe\">\n",
              "  <thead>\n",
              "    <tr style=\"text-align: right;\">\n",
              "      <th></th>\n",
              "      <th>instr</th>\n",
              "      <th>class</th>\n",
              "      <th>nb.repeat</th>\n",
              "      <th>attendance</th>\n",
              "      <th>difficulty</th>\n",
              "      <th>Q1</th>\n",
              "      <th>Q2</th>\n",
              "      <th>Q3</th>\n",
              "      <th>Q4</th>\n",
              "      <th>Q5</th>\n",
              "      <th>Q6</th>\n",
              "      <th>Q7</th>\n",
              "      <th>Q8</th>\n",
              "      <th>Q9</th>\n",
              "      <th>Q10</th>\n",
              "      <th>Q11</th>\n",
              "      <th>Q12</th>\n",
              "      <th>Q13</th>\n",
              "      <th>Q14</th>\n",
              "      <th>Q15</th>\n",
              "      <th>Q16</th>\n",
              "      <th>Q17</th>\n",
              "      <th>Q18</th>\n",
              "      <th>Q19</th>\n",
              "      <th>Q20</th>\n",
              "      <th>Q21</th>\n",
              "      <th>Q22</th>\n",
              "      <th>Q23</th>\n",
              "      <th>Q24</th>\n",
              "      <th>Q25</th>\n",
              "      <th>Q26</th>\n",
              "      <th>Q27</th>\n",
              "      <th>Q28</th>\n",
              "    </tr>\n",
              "  </thead>\n",
              "  <tbody>\n",
              "    <tr>\n",
              "      <th>count</th>\n",
              "      <td>5820.000000</td>\n",
              "      <td>5820.000000</td>\n",
              "      <td>5820.000000</td>\n",
              "      <td>5820.000000</td>\n",
              "      <td>5820.000000</td>\n",
              "      <td>5820.000000</td>\n",
              "      <td>5820.000000</td>\n",
              "      <td>5820.000000</td>\n",
              "      <td>5820.000000</td>\n",
              "      <td>5820.000000</td>\n",
              "      <td>5820.000000</td>\n",
              "      <td>5820.000000</td>\n",
              "      <td>5820.000000</td>\n",
              "      <td>5820.000000</td>\n",
              "      <td>5820.000000</td>\n",
              "      <td>5820.000000</td>\n",
              "      <td>5820.000000</td>\n",
              "      <td>5820.000000</td>\n",
              "      <td>5820.000000</td>\n",
              "      <td>5820.000000</td>\n",
              "      <td>5820.000000</td>\n",
              "      <td>5820.000000</td>\n",
              "      <td>5820.000000</td>\n",
              "      <td>5820.000000</td>\n",
              "      <td>5820.000000</td>\n",
              "      <td>5820.000000</td>\n",
              "      <td>5820.000000</td>\n",
              "      <td>5820.00000</td>\n",
              "      <td>5820.000000</td>\n",
              "      <td>5820.000000</td>\n",
              "      <td>5820.000000</td>\n",
              "      <td>5820.000000</td>\n",
              "      <td>5820.000000</td>\n",
              "    </tr>\n",
              "    <tr>\n",
              "      <th>mean</th>\n",
              "      <td>2.485567</td>\n",
              "      <td>7.276289</td>\n",
              "      <td>1.214089</td>\n",
              "      <td>1.675601</td>\n",
              "      <td>2.783505</td>\n",
              "      <td>2.929897</td>\n",
              "      <td>3.073883</td>\n",
              "      <td>3.178694</td>\n",
              "      <td>3.082474</td>\n",
              "      <td>3.105842</td>\n",
              "      <td>3.107388</td>\n",
              "      <td>3.066323</td>\n",
              "      <td>3.041924</td>\n",
              "      <td>3.165979</td>\n",
              "      <td>3.090722</td>\n",
              "      <td>3.183849</td>\n",
              "      <td>3.035567</td>\n",
              "      <td>3.242784</td>\n",
              "      <td>3.290893</td>\n",
              "      <td>3.287285</td>\n",
              "      <td>3.169588</td>\n",
              "      <td>3.398454</td>\n",
              "      <td>3.222509</td>\n",
              "      <td>3.261684</td>\n",
              "      <td>3.285395</td>\n",
              "      <td>3.307388</td>\n",
              "      <td>3.317526</td>\n",
              "      <td>3.20189</td>\n",
              "      <td>3.166838</td>\n",
              "      <td>3.312543</td>\n",
              "      <td>3.222165</td>\n",
              "      <td>3.154811</td>\n",
              "      <td>3.308076</td>\n",
              "    </tr>\n",
              "    <tr>\n",
              "      <th>std</th>\n",
              "      <td>0.718473</td>\n",
              "      <td>3.688175</td>\n",
              "      <td>0.532376</td>\n",
              "      <td>1.474975</td>\n",
              "      <td>1.348987</td>\n",
              "      <td>1.341077</td>\n",
              "      <td>1.285251</td>\n",
              "      <td>1.253567</td>\n",
              "      <td>1.284594</td>\n",
              "      <td>1.278989</td>\n",
              "      <td>1.280807</td>\n",
              "      <td>1.279097</td>\n",
              "      <td>1.283481</td>\n",
              "      <td>1.268930</td>\n",
              "      <td>1.275309</td>\n",
              "      <td>1.295443</td>\n",
              "      <td>1.305772</td>\n",
              "      <td>1.264201</td>\n",
              "      <td>1.255373</td>\n",
              "      <td>1.253122</td>\n",
              "      <td>1.288015</td>\n",
              "      <td>1.267530</td>\n",
              "      <td>1.279799</td>\n",
              "      <td>1.268442</td>\n",
              "      <td>1.276848</td>\n",
              "      <td>1.269974</td>\n",
              "      <td>1.268358</td>\n",
              "      <td>1.27259</td>\n",
              "      <td>1.275909</td>\n",
              "      <td>1.257286</td>\n",
              "      <td>1.270695</td>\n",
              "      <td>1.291872</td>\n",
              "      <td>1.278709</td>\n",
              "    </tr>\n",
              "    <tr>\n",
              "      <th>min</th>\n",
              "      <td>1.000000</td>\n",
              "      <td>1.000000</td>\n",
              "      <td>1.000000</td>\n",
              "      <td>0.000000</td>\n",
              "      <td>1.000000</td>\n",
              "      <td>1.000000</td>\n",
              "      <td>1.000000</td>\n",
              "      <td>1.000000</td>\n",
              "      <td>1.000000</td>\n",
              "      <td>1.000000</td>\n",
              "      <td>1.000000</td>\n",
              "      <td>1.000000</td>\n",
              "      <td>1.000000</td>\n",
              "      <td>1.000000</td>\n",
              "      <td>1.000000</td>\n",
              "      <td>1.000000</td>\n",
              "      <td>1.000000</td>\n",
              "      <td>1.000000</td>\n",
              "      <td>1.000000</td>\n",
              "      <td>1.000000</td>\n",
              "      <td>1.000000</td>\n",
              "      <td>1.000000</td>\n",
              "      <td>1.000000</td>\n",
              "      <td>1.000000</td>\n",
              "      <td>1.000000</td>\n",
              "      <td>1.000000</td>\n",
              "      <td>1.000000</td>\n",
              "      <td>1.00000</td>\n",
              "      <td>1.000000</td>\n",
              "      <td>1.000000</td>\n",
              "      <td>1.000000</td>\n",
              "      <td>1.000000</td>\n",
              "      <td>1.000000</td>\n",
              "    </tr>\n",
              "    <tr>\n",
              "      <th>25%</th>\n",
              "      <td>2.000000</td>\n",
              "      <td>4.000000</td>\n",
              "      <td>1.000000</td>\n",
              "      <td>0.000000</td>\n",
              "      <td>1.000000</td>\n",
              "      <td>2.000000</td>\n",
              "      <td>2.000000</td>\n",
              "      <td>2.000000</td>\n",
              "      <td>2.000000</td>\n",
              "      <td>2.000000</td>\n",
              "      <td>2.000000</td>\n",
              "      <td>2.000000</td>\n",
              "      <td>2.000000</td>\n",
              "      <td>2.000000</td>\n",
              "      <td>2.000000</td>\n",
              "      <td>2.000000</td>\n",
              "      <td>2.000000</td>\n",
              "      <td>2.000000</td>\n",
              "      <td>3.000000</td>\n",
              "      <td>3.000000</td>\n",
              "      <td>2.000000</td>\n",
              "      <td>3.000000</td>\n",
              "      <td>2.000000</td>\n",
              "      <td>3.000000</td>\n",
              "      <td>3.000000</td>\n",
              "      <td>3.000000</td>\n",
              "      <td>3.000000</td>\n",
              "      <td>2.00000</td>\n",
              "      <td>2.000000</td>\n",
              "      <td>3.000000</td>\n",
              "      <td>2.000000</td>\n",
              "      <td>2.000000</td>\n",
              "      <td>3.000000</td>\n",
              "    </tr>\n",
              "    <tr>\n",
              "      <th>50%</th>\n",
              "      <td>3.000000</td>\n",
              "      <td>7.000000</td>\n",
              "      <td>1.000000</td>\n",
              "      <td>1.000000</td>\n",
              "      <td>3.000000</td>\n",
              "      <td>3.000000</td>\n",
              "      <td>3.000000</td>\n",
              "      <td>3.000000</td>\n",
              "      <td>3.000000</td>\n",
              "      <td>3.000000</td>\n",
              "      <td>3.000000</td>\n",
              "      <td>3.000000</td>\n",
              "      <td>3.000000</td>\n",
              "      <td>3.000000</td>\n",
              "      <td>3.000000</td>\n",
              "      <td>3.000000</td>\n",
              "      <td>3.000000</td>\n",
              "      <td>3.000000</td>\n",
              "      <td>3.000000</td>\n",
              "      <td>3.000000</td>\n",
              "      <td>3.000000</td>\n",
              "      <td>4.000000</td>\n",
              "      <td>3.000000</td>\n",
              "      <td>3.000000</td>\n",
              "      <td>3.000000</td>\n",
              "      <td>3.000000</td>\n",
              "      <td>3.000000</td>\n",
              "      <td>3.00000</td>\n",
              "      <td>3.000000</td>\n",
              "      <td>3.000000</td>\n",
              "      <td>3.000000</td>\n",
              "      <td>3.000000</td>\n",
              "      <td>3.000000</td>\n",
              "    </tr>\n",
              "    <tr>\n",
              "      <th>75%</th>\n",
              "      <td>3.000000</td>\n",
              "      <td>10.000000</td>\n",
              "      <td>1.000000</td>\n",
              "      <td>3.000000</td>\n",
              "      <td>4.000000</td>\n",
              "      <td>4.000000</td>\n",
              "      <td>4.000000</td>\n",
              "      <td>4.000000</td>\n",
              "      <td>4.000000</td>\n",
              "      <td>4.000000</td>\n",
              "      <td>4.000000</td>\n",
              "      <td>4.000000</td>\n",
              "      <td>4.000000</td>\n",
              "      <td>4.000000</td>\n",
              "      <td>4.000000</td>\n",
              "      <td>4.000000</td>\n",
              "      <td>4.000000</td>\n",
              "      <td>4.000000</td>\n",
              "      <td>4.000000</td>\n",
              "      <td>4.000000</td>\n",
              "      <td>4.000000</td>\n",
              "      <td>4.000000</td>\n",
              "      <td>4.000000</td>\n",
              "      <td>4.000000</td>\n",
              "      <td>4.000000</td>\n",
              "      <td>4.000000</td>\n",
              "      <td>4.000000</td>\n",
              "      <td>4.00000</td>\n",
              "      <td>4.000000</td>\n",
              "      <td>4.000000</td>\n",
              "      <td>4.000000</td>\n",
              "      <td>4.000000</td>\n",
              "      <td>4.000000</td>\n",
              "    </tr>\n",
              "    <tr>\n",
              "      <th>max</th>\n",
              "      <td>3.000000</td>\n",
              "      <td>13.000000</td>\n",
              "      <td>3.000000</td>\n",
              "      <td>4.000000</td>\n",
              "      <td>5.000000</td>\n",
              "      <td>5.000000</td>\n",
              "      <td>5.000000</td>\n",
              "      <td>5.000000</td>\n",
              "      <td>5.000000</td>\n",
              "      <td>5.000000</td>\n",
              "      <td>5.000000</td>\n",
              "      <td>5.000000</td>\n",
              "      <td>5.000000</td>\n",
              "      <td>5.000000</td>\n",
              "      <td>5.000000</td>\n",
              "      <td>5.000000</td>\n",
              "      <td>5.000000</td>\n",
              "      <td>5.000000</td>\n",
              "      <td>5.000000</td>\n",
              "      <td>5.000000</td>\n",
              "      <td>5.000000</td>\n",
              "      <td>5.000000</td>\n",
              "      <td>5.000000</td>\n",
              "      <td>5.000000</td>\n",
              "      <td>5.000000</td>\n",
              "      <td>5.000000</td>\n",
              "      <td>5.000000</td>\n",
              "      <td>5.00000</td>\n",
              "      <td>5.000000</td>\n",
              "      <td>5.000000</td>\n",
              "      <td>5.000000</td>\n",
              "      <td>5.000000</td>\n",
              "      <td>5.000000</td>\n",
              "    </tr>\n",
              "  </tbody>\n",
              "</table>\n",
              "</div>"
            ],
            "text/plain": [
              "             instr        class  ...          Q27          Q28\n",
              "count  5820.000000  5820.000000  ...  5820.000000  5820.000000\n",
              "mean      2.485567     7.276289  ...     3.154811     3.308076\n",
              "std       0.718473     3.688175  ...     1.291872     1.278709\n",
              "min       1.000000     1.000000  ...     1.000000     1.000000\n",
              "25%       2.000000     4.000000  ...     2.000000     3.000000\n",
              "50%       3.000000     7.000000  ...     3.000000     3.000000\n",
              "75%       3.000000    10.000000  ...     4.000000     4.000000\n",
              "max       3.000000    13.000000  ...     5.000000     5.000000\n",
              "\n",
              "[8 rows x 33 columns]"
            ]
          },
          "metadata": {
            "tags": []
          },
          "execution_count": 8
        }
      ]
    },
    {
      "cell_type": "code",
      "metadata": {
        "id": "K0rDS85mZRi6"
      },
      "source": [
        "kmeans = KMeans(n_clusters=2)"
      ],
      "execution_count": null,
      "outputs": []
    },
    {
      "cell_type": "code",
      "metadata": {
        "id": "mF7tLgf2ZRjA",
        "colab": {
          "base_uri": "https://localhost:8080/",
          "height": 68
        },
        "outputId": "2cc09527-7730-40bf-999d-63225dcc67bc"
      },
      "source": [
        "kmeans.fit(data)"
      ],
      "execution_count": null,
      "outputs": [
        {
          "output_type": "execute_result",
          "data": {
            "text/plain": [
              "KMeans(algorithm='auto', copy_x=True, init='k-means++', max_iter=300,\n",
              "       n_clusters=2, n_init=10, n_jobs=None, precompute_distances='auto',\n",
              "       random_state=None, tol=0.0001, verbose=0)"
            ]
          },
          "metadata": {
            "tags": []
          },
          "execution_count": 10
        }
      ]
    },
    {
      "cell_type": "code",
      "metadata": {
        "id": "M973o8yJZRjI"
      },
      "source": [
        "pred=kmeans.predict(data)"
      ],
      "execution_count": null,
      "outputs": []
    },
    {
      "cell_type": "code",
      "metadata": {
        "id": "9mX1F3FwZRjP",
        "colab": {
          "base_uri": "https://localhost:8080/",
          "height": 34
        },
        "outputId": "56e808ea-1c3f-4c48-e607-a67491b9923f"
      },
      "source": [
        "pred"
      ],
      "execution_count": null,
      "outputs": [
        {
          "output_type": "execute_result",
          "data": {
            "text/plain": [
              "array([0, 0, 1, ..., 1, 0, 0], dtype=int32)"
            ]
          },
          "metadata": {
            "tags": []
          },
          "execution_count": 12
        }
      ]
    },
    {
      "cell_type": "code",
      "metadata": {
        "id": "yL6ZKxAEZRjZ",
        "colab": {
          "base_uri": "https://localhost:8080/",
          "height": 68
        },
        "outputId": "0d9b6b5c-d150-4b5a-94fe-52edba9d7584"
      },
      "source": [
        "pd.Series(pred).value_counts()"
      ],
      "execution_count": null,
      "outputs": [
        {
          "output_type": "execute_result",
          "data": {
            "text/plain": [
              "0    3148\n",
              "1    2672\n",
              "dtype: int64"
            ]
          },
          "metadata": {
            "tags": []
          },
          "execution_count": 13
        }
      ]
    },
    {
      "cell_type": "code",
      "metadata": {
        "id": "AElArS0vZRjh",
        "colab": {
          "base_uri": "https://localhost:8080/",
          "height": 34
        },
        "outputId": "94b242d7-20f8-4ae0-979c-6a76ba3a51d7"
      },
      "source": [
        "kmeans.inertia_"
      ],
      "execution_count": null,
      "outputs": [
        {
          "output_type": "execute_result",
          "data": {
            "text/plain": [
              "231353.7586857733"
            ]
          },
          "metadata": {
            "tags": []
          },
          "execution_count": 14
        }
      ]
    },
    {
      "cell_type": "code",
      "metadata": {
        "id": "q4EWEiYYZRjp",
        "colab": {
          "base_uri": "https://localhost:8080/",
          "height": 34
        },
        "outputId": "2c5fd72b-7ce7-4b57-ee08-4f9288876a09"
      },
      "source": [
        "kmeans.score(data)"
      ],
      "execution_count": null,
      "outputs": [
        {
          "output_type": "execute_result",
          "data": {
            "text/plain": [
              "-231353.75868577306"
            ]
          },
          "metadata": {
            "tags": []
          },
          "execution_count": 15
        }
      ]
    },
    {
      "cell_type": "code",
      "metadata": {
        "id": "dmM8zWVTZRju"
      },
      "source": [
        "SSE = []"
      ],
      "execution_count": null,
      "outputs": []
    },
    {
      "cell_type": "code",
      "metadata": {
        "id": "vmmSG22OZRjy"
      },
      "source": [
        "for cluster in range(1,20):\n",
        "    kmeans = KMeans(n_jobs = -1, n_clusters = cluster)\n",
        "    kmeans.fit(data)\n",
        "    SSE.append(kmeans.inertia_)"
      ],
      "execution_count": null,
      "outputs": []
    },
    {
      "cell_type": "code",
      "metadata": {
        "id": "lUxvaq0dZRj2"
      },
      "source": [
        "frame = pd.DataFrame({'Cluster':range(1,20), 'SSE':SSE})"
      ],
      "execution_count": null,
      "outputs": []
    },
    {
      "cell_type": "code",
      "metadata": {
        "id": "a1RWeYPCZRj5",
        "colab": {
          "base_uri": "https://localhost:8080/",
          "height": 405
        },
        "outputId": "c66b1463-88d1-4a5c-a63d-e6753a754fe9"
      },
      "source": [
        "plt.figure(figsize=(12,6))\n",
        "plt.plot(frame['Cluster'], frame['SSE'], marker='o')\n",
        "plt.xlabel('Number of clusters')\n",
        "plt.ylabel('Inertia')"
      ],
      "execution_count": null,
      "outputs": [
        {
          "output_type": "execute_result",
          "data": {
            "text/plain": [
              "Text(0, 0.5, 'Inertia')"
            ]
          },
          "metadata": {
            "tags": []
          },
          "execution_count": 19
        },
        {
          "output_type": "display_data",
          "data": {
            "image/png": "[encoded data removed]",
            "text/plain": [
              "<Figure size 864x432 with 1 Axes>"
            ]
          },
          "metadata": {
            "tags": [],
            "needs_background": "light"
          }
        }
      ]
    },
    {
      "cell_type": "code",
      "metadata": {
        "id": "qT5B0NLUZRj-"
      },
      "source": [
        "from sklearn.preprocessing import StandardScaler\n",
        "\n",
        "scaler = StandardScaler()\n",
        "\n",
        "data_scaled = scaler.fit_transform(data)"
      ],
      "execution_count": null,
      "outputs": []
    },
    {
      "cell_type": "code",
      "metadata": {
        "id": "XcTu74iKZRkH",
        "colab": {
          "base_uri": "https://localhost:8080/",
          "height": 402
        },
        "outputId": "be5aef3d-1be2-4260-80e4-59e5339ec1bf"
      },
      "source": [
        "pd.DataFrame(data_scaled).describe()"
      ],
      "execution_count": null,
      "outputs": [
        {
          "output_type": "execute_result",
          "data": {
            "text/html": [
              "<div>\n",
              "<style scoped>\n",
              "    .dataframe tbody tr th:only-of-type {\n",
              "        vertical-align: middle;\n",
              "    }\n",
              "\n",
              "    .dataframe tbody tr th {\n",
              "        vertical-align: top;\n",
              "    }\n",
              "\n",
              "    .dataframe thead th {\n",
              "        text-align: right;\n",
              "    }\n",
              "</style>\n",
              "<table border=\"1\" class=\"dataframe\">\n",
              "  <thead>\n",
              "    <tr style=\"text-align: right;\">\n",
              "      <th></th>\n",
              "      <th>0</th>\n",
              "      <th>1</th>\n",
              "      <th>2</th>\n",
              "      <th>3</th>\n",
              "      <th>4</th>\n",
              "      <th>5</th>\n",
              "      <th>6</th>\n",
              "      <th>7</th>\n",
              "      <th>8</th>\n",
              "      <th>9</th>\n",
              "      <th>10</th>\n",
              "      <th>11</th>\n",
              "      <th>12</th>\n",
              "      <th>13</th>\n",
              "      <th>14</th>\n",
              "      <th>15</th>\n",
              "      <th>16</th>\n",
              "      <th>17</th>\n",
              "      <th>18</th>\n",
              "      <th>19</th>\n",
              "      <th>20</th>\n",
              "      <th>21</th>\n",
              "      <th>22</th>\n",
              "      <th>23</th>\n",
              "      <th>24</th>\n",
              "      <th>25</th>\n",
              "      <th>26</th>\n",
              "      <th>27</th>\n",
              "      <th>28</th>\n",
              "      <th>29</th>\n",
              "      <th>30</th>\n",
              "      <th>31</th>\n",
              "      <th>32</th>\n",
              "    </tr>\n",
              "  </thead>\n",
              "  <tbody>\n",
              "    <tr>\n",
              "      <th>count</th>\n",
              "      <td>5.820000e+03</td>\n",
              "      <td>5.820000e+03</td>\n",
              "      <td>5.820000e+03</td>\n",
              "      <td>5.820000e+03</td>\n",
              "      <td>5.820000e+03</td>\n",
              "      <td>5.820000e+03</td>\n",
              "      <td>5.820000e+03</td>\n",
              "      <td>5.820000e+03</td>\n",
              "      <td>5.820000e+03</td>\n",
              "      <td>5.820000e+03</td>\n",
              "      <td>5.820000e+03</td>\n",
              "      <td>5.820000e+03</td>\n",
              "      <td>5.820000e+03</td>\n",
              "      <td>5.820000e+03</td>\n",
              "      <td>5.820000e+03</td>\n",
              "      <td>5.820000e+03</td>\n",
              "      <td>5.820000e+03</td>\n",
              "      <td>5.820000e+03</td>\n",
              "      <td>5.820000e+03</td>\n",
              "      <td>5.820000e+03</td>\n",
              "      <td>5.820000e+03</td>\n",
              "      <td>5.820000e+03</td>\n",
              "      <td>5.820000e+03</td>\n",
              "      <td>5.820000e+03</td>\n",
              "      <td>5.820000e+03</td>\n",
              "      <td>5.820000e+03</td>\n",
              "      <td>5.820000e+03</td>\n",
              "      <td>5.820000e+03</td>\n",
              "      <td>5.820000e+03</td>\n",
              "      <td>5.820000e+03</td>\n",
              "      <td>5.820000e+03</td>\n",
              "      <td>5.820000e+03</td>\n",
              "      <td>5.820000e+03</td>\n",
              "    </tr>\n",
              "    <tr>\n",
              "      <th>mean</th>\n",
              "      <td>-1.459981e-14</td>\n",
              "      <td>8.602130e-15</td>\n",
              "      <td>-7.344278e-15</td>\n",
              "      <td>-1.382514e-15</td>\n",
              "      <td>2.960976e-16</td>\n",
              "      <td>1.688760e-15</td>\n",
              "      <td>-1.091681e-15</td>\n",
              "      <td>-2.070890e-16</td>\n",
              "      <td>2.644849e-15</td>\n",
              "      <td>-8.257618e-16</td>\n",
              "      <td>-2.114384e-15</td>\n",
              "      <td>2.001606e-15</td>\n",
              "      <td>-2.075316e-15</td>\n",
              "      <td>1.337990e-15</td>\n",
              "      <td>-3.710892e-15</td>\n",
              "      <td>-5.502281e-16</td>\n",
              "      <td>1.857544e-15</td>\n",
              "      <td>9.385391e-16</td>\n",
              "      <td>-1.196294e-15</td>\n",
              "      <td>1.754076e-15</td>\n",
              "      <td>2.185423e-15</td>\n",
              "      <td>-8.511710e-16</td>\n",
              "      <td>1.865938e-15</td>\n",
              "      <td>-2.832251e-15</td>\n",
              "      <td>1.454354e-16</td>\n",
              "      <td>3.596054e-15</td>\n",
              "      <td>3.714783e-15</td>\n",
              "      <td>1.333717e-15</td>\n",
              "      <td>1.432836e-15</td>\n",
              "      <td>1.561485e-15</td>\n",
              "      <td>2.261345e-15</td>\n",
              "      <td>7.546464e-16</td>\n",
              "      <td>-1.237956e-15</td>\n",
              "    </tr>\n",
              "    <tr>\n",
              "      <th>std</th>\n",
              "      <td>1.000086e+00</td>\n",
              "      <td>1.000086e+00</td>\n",
              "      <td>1.000086e+00</td>\n",
              "      <td>1.000086e+00</td>\n",
              "      <td>1.000086e+00</td>\n",
              "      <td>1.000086e+00</td>\n",
              "      <td>1.000086e+00</td>\n",
              "      <td>1.000086e+00</td>\n",
              "      <td>1.000086e+00</td>\n",
              "      <td>1.000086e+00</td>\n",
              "      <td>1.000086e+00</td>\n",
              "      <td>1.000086e+00</td>\n",
              "      <td>1.000086e+00</td>\n",
              "      <td>1.000086e+00</td>\n",
              "      <td>1.000086e+00</td>\n",
              "      <td>1.000086e+00</td>\n",
              "      <td>1.000086e+00</td>\n",
              "      <td>1.000086e+00</td>\n",
              "      <td>1.000086e+00</td>\n",
              "      <td>1.000086e+00</td>\n",
              "      <td>1.000086e+00</td>\n",
              "      <td>1.000086e+00</td>\n",
              "      <td>1.000086e+00</td>\n",
              "      <td>1.000086e+00</td>\n",
              "      <td>1.000086e+00</td>\n",
              "      <td>1.000086e+00</td>\n",
              "      <td>1.000086e+00</td>\n",
              "      <td>1.000086e+00</td>\n",
              "      <td>1.000086e+00</td>\n",
              "      <td>1.000086e+00</td>\n",
              "      <td>1.000086e+00</td>\n",
              "      <td>1.000086e+00</td>\n",
              "      <td>1.000086e+00</td>\n",
              "    </tr>\n",
              "    <tr>\n",
              "      <th>min</th>\n",
              "      <td>-2.067850e+00</td>\n",
              "      <td>-1.701879e+00</td>\n",
              "      <td>-4.021740e-01</td>\n",
              "      <td>-1.136118e+00</td>\n",
              "      <td>-1.322221e+00</td>\n",
              "      <td>-1.439189e+00</td>\n",
              "      <td>-1.613740e+00</td>\n",
              "      <td>-1.738145e+00</td>\n",
              "      <td>-1.621254e+00</td>\n",
              "      <td>-1.646630e+00</td>\n",
              "      <td>-1.645501e+00</td>\n",
              "      <td>-1.615594e+00</td>\n",
              "      <td>-1.591064e+00</td>\n",
              "      <td>-1.707080e+00</td>\n",
              "      <td>-1.639525e+00</td>\n",
              "      <td>-1.685938e+00</td>\n",
              "      <td>-1.559033e+00</td>\n",
              "      <td>-1.774225e+00</td>\n",
              "      <td>-1.825028e+00</td>\n",
              "      <td>-1.825426e+00</td>\n",
              "      <td>-1.684588e+00</td>\n",
              "      <td>-1.892390e+00</td>\n",
              "      <td>-1.736757e+00</td>\n",
              "      <td>-1.783194e+00</td>\n",
              "      <td>-1.790026e+00</td>\n",
              "      <td>-1.817034e+00</td>\n",
              "      <td>-1.827343e+00</td>\n",
              "      <td>-1.730392e+00</td>\n",
              "      <td>-1.698417e+00</td>\n",
              "      <td>-1.839472e+00</td>\n",
              "      <td>-1.748929e+00</td>\n",
              "      <td>-1.668120e+00</td>\n",
              "      <td>-1.805160e+00</td>\n",
              "    </tr>\n",
              "    <tr>\n",
              "      <th>25%</th>\n",
              "      <td>-6.758900e-01</td>\n",
              "      <td>-8.883988e-01</td>\n",
              "      <td>-4.021740e-01</td>\n",
              "      <td>-1.136118e+00</td>\n",
              "      <td>-1.322221e+00</td>\n",
              "      <td>-6.934552e-01</td>\n",
              "      <td>-8.356154e-01</td>\n",
              "      <td>-9.403527e-01</td>\n",
              "      <td>-8.427308e-01</td>\n",
              "      <td>-8.646959e-01</td>\n",
              "      <td>-8.646760e-01</td>\n",
              "      <td>-8.337248e-01</td>\n",
              "      <td>-8.118657e-01</td>\n",
              "      <td>-9.189468e-01</td>\n",
              "      <td>-8.553341e-01</td>\n",
              "      <td>-9.139351e-01</td>\n",
              "      <td>-7.931366e-01</td>\n",
              "      <td>-9.831431e-01</td>\n",
              "      <td>-2.317387e-01</td>\n",
              "      <td>-2.292753e-01</td>\n",
              "      <td>-9.081325e-01</td>\n",
              "      <td>-3.143815e-01</td>\n",
              "      <td>-9.553171e-01</td>\n",
              "      <td>-2.063210e-01</td>\n",
              "      <td>-2.235345e-01</td>\n",
              "      <td>-2.420638e-01</td>\n",
              "      <td>-2.503655e-01</td>\n",
              "      <td>-9.445255e-01</td>\n",
              "      <td>-9.145943e-01</td>\n",
              "      <td>-2.486068e-01</td>\n",
              "      <td>-9.618909e-01</td>\n",
              "      <td>-8.939823e-01</td>\n",
              "      <td>-2.409479e-01</td>\n",
              "    </tr>\n",
              "    <tr>\n",
              "      <th>50%</th>\n",
              "      <td>7.160704e-01</td>\n",
              "      <td>-7.491846e-02</td>\n",
              "      <td>-4.021740e-01</td>\n",
              "      <td>-4.580819e-01</td>\n",
              "      <td>1.605008e-01</td>\n",
              "      <td>5.227822e-02</td>\n",
              "      <td>-5.749034e-02</td>\n",
              "      <td>-1.425608e-01</td>\n",
              "      <td>-6.420806e-02</td>\n",
              "      <td>-8.276145e-02</td>\n",
              "      <td>-8.385143e-02</td>\n",
              "      <td>-5.185591e-02</td>\n",
              "      <td>-3.266742e-02</td>\n",
              "      <td>-1.308138e-01</td>\n",
              "      <td>-7.114310e-02</td>\n",
              "      <td>-1.419319e-01</td>\n",
              "      <td>-2.724063e-02</td>\n",
              "      <td>-1.920616e-01</td>\n",
              "      <td>-2.317387e-01</td>\n",
              "      <td>-2.292753e-01</td>\n",
              "      <td>-1.316772e-01</td>\n",
              "      <td>4.746225e-01</td>\n",
              "      <td>-1.738771e-01</td>\n",
              "      <td>-2.063210e-01</td>\n",
              "      <td>-2.235345e-01</td>\n",
              "      <td>-2.420638e-01</td>\n",
              "      <td>-2.503655e-01</td>\n",
              "      <td>-1.586587e-01</td>\n",
              "      <td>-1.307718e-01</td>\n",
              "      <td>-2.486068e-01</td>\n",
              "      <td>-1.748524e-01</td>\n",
              "      <td>-1.198450e-01</td>\n",
              "      <td>-2.409479e-01</td>\n",
              "    </tr>\n",
              "    <tr>\n",
              "      <th>75%</th>\n",
              "      <td>7.160704e-01</td>\n",
              "      <td>7.385619e-01</td>\n",
              "      <td>-4.021740e-01</td>\n",
              "      <td>8.979896e-01</td>\n",
              "      <td>9.018615e-01</td>\n",
              "      <td>7.980117e-01</td>\n",
              "      <td>7.206347e-01</td>\n",
              "      <td>6.552312e-01</td>\n",
              "      <td>7.143147e-01</td>\n",
              "      <td>6.991730e-01</td>\n",
              "      <td>6.969731e-01</td>\n",
              "      <td>7.300129e-01</td>\n",
              "      <td>7.465309e-01</td>\n",
              "      <td>6.573191e-01</td>\n",
              "      <td>7.130479e-01</td>\n",
              "      <td>6.300713e-01</td>\n",
              "      <td>7.386554e-01</td>\n",
              "      <td>5.990200e-01</td>\n",
              "      <td>5.649058e-01</td>\n",
              "      <td>5.688003e-01</td>\n",
              "      <td>6.447781e-01</td>\n",
              "      <td>4.746225e-01</td>\n",
              "      <td>6.075629e-01</td>\n",
              "      <td>5.821153e-01</td>\n",
              "      <td>5.597111e-01</td>\n",
              "      <td>5.454215e-01</td>\n",
              "      <td>5.381232e-01</td>\n",
              "      <td>6.272081e-01</td>\n",
              "      <td>6.530507e-01</td>\n",
              "      <td>5.468257e-01</td>\n",
              "      <td>6.121861e-01</td>\n",
              "      <td>6.542923e-01</td>\n",
              "      <td>5.411584e-01</td>\n",
              "    </tr>\n",
              "    <tr>\n",
              "      <th>max</th>\n",
              "      <td>7.160704e-01</td>\n",
              "      <td>1.552042e+00</td>\n",
              "      <td>3.354893e+00</td>\n",
              "      <td>1.576025e+00</td>\n",
              "      <td>1.643222e+00</td>\n",
              "      <td>1.543745e+00</td>\n",
              "      <td>1.498760e+00</td>\n",
              "      <td>1.453023e+00</td>\n",
              "      <td>1.492837e+00</td>\n",
              "      <td>1.481107e+00</td>\n",
              "      <td>1.477798e+00</td>\n",
              "      <td>1.511882e+00</td>\n",
              "      <td>1.525729e+00</td>\n",
              "      <td>1.445452e+00</td>\n",
              "      <td>1.497239e+00</td>\n",
              "      <td>1.402075e+00</td>\n",
              "      <td>1.504551e+00</td>\n",
              "      <td>1.390102e+00</td>\n",
              "      <td>1.361550e+00</td>\n",
              "      <td>1.366876e+00</td>\n",
              "      <td>1.421233e+00</td>\n",
              "      <td>1.263627e+00</td>\n",
              "      <td>1.389003e+00</td>\n",
              "      <td>1.370552e+00</td>\n",
              "      <td>1.342957e+00</td>\n",
              "      <td>1.332907e+00</td>\n",
              "      <td>1.326612e+00</td>\n",
              "      <td>1.413075e+00</td>\n",
              "      <td>1.436873e+00</td>\n",
              "      <td>1.342258e+00</td>\n",
              "      <td>1.399225e+00</td>\n",
              "      <td>1.428430e+00</td>\n",
              "      <td>1.323265e+00</td>\n",
              "    </tr>\n",
              "  </tbody>\n",
              "</table>\n",
              "</div>"
            ],
            "text/plain": [
              "                 0             1   ...            31            32\n",
              "count  5.820000e+03  5.820000e+03  ...  5.820000e+03  5.820000e+03\n",
              "mean  -1.459981e-14  8.602130e-15  ...  7.546464e-16 -1.237956e-15\n",
              "std    1.000086e+00  1.000086e+00  ...  1.000086e+00  1.000086e+00\n",
              "min   -2.067850e+00 -1.701879e+00  ... -1.668120e+00 -1.805160e+00\n",
              "25%   -6.758900e-01 -8.883988e-01  ... -8.939823e-01 -2.409479e-01\n",
              "50%    7.160704e-01 -7.491846e-02  ... -1.198450e-01 -2.409479e-01\n",
              "75%    7.160704e-01  7.385619e-01  ...  6.542923e-01  5.411584e-01\n",
              "max    7.160704e-01  1.552042e+00  ...  1.428430e+00  1.323265e+00\n",
              "\n",
              "[8 rows x 33 columns]"
            ]
          },
          "metadata": {
            "tags": []
          },
          "execution_count": 21
        }
      ]
    },
    {
      "cell_type": "code",
      "metadata": {
        "id": "gnD5FndjZRkO"
      },
      "source": [
        "SSE_scaled = []"
      ],
      "execution_count": null,
      "outputs": []
    },
    {
      "cell_type": "code",
      "metadata": {
        "id": "Na9d1l1MZRkZ"
      },
      "source": [
        "for cluster in range(1,20):\n",
        "    kmeans = KMeans(n_jobs = -1, n_clusters = cluster)\n",
        "    kmeans.fit(data_scaled)\n",
        "    SSE_scaled.append(kmeans.inertia_)"
      ],
      "execution_count": null,
      "outputs": []
    },
    {
      "cell_type": "code",
      "metadata": {
        "id": "FHx2X4S8ZRkm",
        "colab": {
          "base_uri": "https://localhost:8080/",
          "height": 405
        },
        "outputId": "dfe35f0c-3491-46e9-d2b1-f63bd319aec5"
      },
      "source": [
        "plt.figure(figsize=(12,6))\n",
        "frame_scaled = pd.DataFrame({'Cluster':range(1,20), 'SSE':SSE_scaled})\n",
        "plt.plot(frame_scaled['Cluster'], frame_scaled['SSE'], marker='o')\n",
        "plt.xlabel(\"Clusters\")\n",
        "plt.ylabel(\"SSE\")"
      ],
      "execution_count": null,
      "outputs": [
        {
          "output_type": "execute_result",
          "data": {
            "text/plain": [
              "Text(0, 0.5, 'SSE')"
            ]
          },
          "metadata": {
            "tags": []
          },
          "execution_count": 24
        },
        {
          "output_type": "display_data",
          "data": {
            "image/png": "[encoded data removed]",
            "text/plain": [
              "<Figure size 864x432 with 1 Axes>"
            ]
          },
          "metadata": {
            "tags": [],
            "needs_background": "light"
          }
        }
      ]
    },
    {
      "cell_type": "code",
      "metadata": {
        "id": "u9atLSQdZRkt"
      },
      "source": [
        "kmeans = KMeans(n_jobs = -1, n_clusters = 4)\n",
        "kmeans.fit(data_scaled)\n",
        "pred = kmeans.predict(data_scaled)"
      ],
      "execution_count": null,
      "outputs": []
    },
    {
      "cell_type": "code",
      "metadata": {
        "id": "-T8Asi6gZRk0",
        "colab": {
          "base_uri": "https://localhost:8080/",
          "height": 34
        },
        "outputId": "913a3361-59d6-41f1-f945-43e1916b387a"
      },
      "source": [
        "pred"
      ],
      "execution_count": null,
      "outputs": [
        {
          "output_type": "execute_result",
          "data": {
            "text/plain": [
              "array([0, 0, 1, ..., 1, 2, 2], dtype=int32)"
            ]
          },
          "metadata": {
            "tags": []
          },
          "execution_count": 26
        }
      ]
    },
    {
      "cell_type": "code",
      "metadata": {
        "id": "9kKXu2j6ZRk8"
      },
      "source": [
        "frame = pd.DataFrame(data_scaled)"
      ],
      "execution_count": null,
      "outputs": []
    },
    {
      "cell_type": "code",
      "metadata": {
        "id": "pMYyTBjrZRlC"
      },
      "source": [
        "frame['cluster'] = pred"
      ],
      "execution_count": null,
      "outputs": []
    },
    {
      "cell_type": "code",
      "metadata": {
        "id": "jsXKu2jFZRlJ",
        "colab": {
          "base_uri": "https://localhost:8080/",
          "height": 102
        },
        "outputId": "a097d8c7-7999-4ed7-9015-d2690e76f184"
      },
      "source": [
        "frame['cluster'].value_counts()"
      ],
      "execution_count": null,
      "outputs": [
        {
          "output_type": "execute_result",
          "data": {
            "text/plain": [
              "0    2098\n",
              "3    1669\n",
              "2    1196\n",
              "1     857\n",
              "Name: cluster, dtype: int64"
            ]
          },
          "metadata": {
            "tags": []
          },
          "execution_count": 29
        }
      ]
    },
    {
      "cell_type": "code",
      "metadata": {
        "id": "zQAFpT7yZRlO",
        "colab": {
          "base_uri": "https://localhost:8080/",
          "height": 224
        },
        "outputId": "d5adde3a-6913-4e86-9ba0-53740bc69311"
      },
      "source": [
        "frame.head()"
      ],
      "execution_count": null,
      "outputs": [
        {
          "output_type": "execute_result",
          "data": {
            "text/html": [
              "<div>\n",
              "<style scoped>\n",
              "    .dataframe tbody tr th:only-of-type {\n",
              "        vertical-align: middle;\n",
              "    }\n",
              "\n",
              "    .dataframe tbody tr th {\n",
              "        vertical-align: top;\n",
              "    }\n",
              "\n",
              "    .dataframe thead th {\n",
              "        text-align: right;\n",
              "    }\n",
              "</style>\n",
              "<table border=\"1\" class=\"dataframe\">\n",
              "  <thead>\n",
              "    <tr style=\"text-align: right;\">\n",
              "      <th></th>\n",
              "      <th>0</th>\n",
              "      <th>1</th>\n",
              "      <th>2</th>\n",
              "      <th>3</th>\n",
              "      <th>4</th>\n",
              "      <th>5</th>\n",
              "      <th>6</th>\n",
              "      <th>7</th>\n",
              "      <th>8</th>\n",
              "      <th>9</th>\n",
              "      <th>10</th>\n",
              "      <th>11</th>\n",
              "      <th>12</th>\n",
              "      <th>13</th>\n",
              "      <th>14</th>\n",
              "      <th>15</th>\n",
              "      <th>16</th>\n",
              "      <th>17</th>\n",
              "      <th>18</th>\n",
              "      <th>19</th>\n",
              "      <th>20</th>\n",
              "      <th>21</th>\n",
              "      <th>22</th>\n",
              "      <th>23</th>\n",
              "      <th>24</th>\n",
              "      <th>25</th>\n",
              "      <th>26</th>\n",
              "      <th>27</th>\n",
              "      <th>28</th>\n",
              "      <th>29</th>\n",
              "      <th>30</th>\n",
              "      <th>31</th>\n",
              "      <th>32</th>\n",
              "      <th>cluster</th>\n",
              "    </tr>\n",
              "  </thead>\n",
              "  <tbody>\n",
              "    <tr>\n",
              "      <th>0</th>\n",
              "      <td>-2.06785</td>\n",
              "      <td>-1.430719</td>\n",
              "      <td>-0.402174</td>\n",
              "      <td>-1.136118</td>\n",
              "      <td>0.901862</td>\n",
              "      <td>0.052278</td>\n",
              "      <td>-0.05749</td>\n",
              "      <td>-0.142561</td>\n",
              "      <td>-0.064208</td>\n",
              "      <td>-0.082761</td>\n",
              "      <td>-0.083851</td>\n",
              "      <td>-0.051856</td>\n",
              "      <td>-0.032667</td>\n",
              "      <td>-0.130814</td>\n",
              "      <td>-0.071143</td>\n",
              "      <td>-0.141932</td>\n",
              "      <td>-0.027241</td>\n",
              "      <td>-0.192062</td>\n",
              "      <td>-0.231739</td>\n",
              "      <td>-0.229275</td>\n",
              "      <td>-0.131677</td>\n",
              "      <td>-0.314382</td>\n",
              "      <td>-0.173877</td>\n",
              "      <td>-0.206321</td>\n",
              "      <td>-0.223535</td>\n",
              "      <td>-0.242064</td>\n",
              "      <td>-0.250365</td>\n",
              "      <td>-0.158659</td>\n",
              "      <td>-0.130772</td>\n",
              "      <td>-0.248607</td>\n",
              "      <td>-0.174852</td>\n",
              "      <td>-0.119845</td>\n",
              "      <td>-0.240948</td>\n",
              "      <td>0</td>\n",
              "    </tr>\n",
              "    <tr>\n",
              "      <th>1</th>\n",
              "      <td>-2.06785</td>\n",
              "      <td>-1.430719</td>\n",
              "      <td>-0.402174</td>\n",
              "      <td>-0.458082</td>\n",
              "      <td>0.160501</td>\n",
              "      <td>0.052278</td>\n",
              "      <td>-0.05749</td>\n",
              "      <td>-0.142561</td>\n",
              "      <td>-0.064208</td>\n",
              "      <td>-0.082761</td>\n",
              "      <td>-0.083851</td>\n",
              "      <td>-0.051856</td>\n",
              "      <td>-0.032667</td>\n",
              "      <td>-0.130814</td>\n",
              "      <td>-0.071143</td>\n",
              "      <td>-0.141932</td>\n",
              "      <td>-0.027241</td>\n",
              "      <td>-0.192062</td>\n",
              "      <td>-0.231739</td>\n",
              "      <td>-0.229275</td>\n",
              "      <td>-0.131677</td>\n",
              "      <td>-0.314382</td>\n",
              "      <td>-0.173877</td>\n",
              "      <td>-0.206321</td>\n",
              "      <td>-0.223535</td>\n",
              "      <td>-0.242064</td>\n",
              "      <td>-0.250365</td>\n",
              "      <td>-0.158659</td>\n",
              "      <td>-0.130772</td>\n",
              "      <td>-0.248607</td>\n",
              "      <td>-0.174852</td>\n",
              "      <td>-0.119845</td>\n",
              "      <td>-0.240948</td>\n",
              "      <td>0</td>\n",
              "    </tr>\n",
              "    <tr>\n",
              "      <th>2</th>\n",
              "      <td>-2.06785</td>\n",
              "      <td>-1.430719</td>\n",
              "      <td>-0.402174</td>\n",
              "      <td>0.219954</td>\n",
              "      <td>0.901862</td>\n",
              "      <td>1.543745</td>\n",
              "      <td>1.49876</td>\n",
              "      <td>1.453023</td>\n",
              "      <td>1.492837</td>\n",
              "      <td>1.481107</td>\n",
              "      <td>1.477798</td>\n",
              "      <td>1.511882</td>\n",
              "      <td>1.525729</td>\n",
              "      <td>1.445452</td>\n",
              "      <td>1.497239</td>\n",
              "      <td>1.402075</td>\n",
              "      <td>1.504551</td>\n",
              "      <td>1.390102</td>\n",
              "      <td>1.361550</td>\n",
              "      <td>1.366876</td>\n",
              "      <td>1.421233</td>\n",
              "      <td>1.263627</td>\n",
              "      <td>1.389003</td>\n",
              "      <td>1.370552</td>\n",
              "      <td>1.342957</td>\n",
              "      <td>1.332907</td>\n",
              "      <td>1.326612</td>\n",
              "      <td>1.413075</td>\n",
              "      <td>1.436873</td>\n",
              "      <td>1.342258</td>\n",
              "      <td>1.399225</td>\n",
              "      <td>1.428430</td>\n",
              "      <td>1.323265</td>\n",
              "      <td>1</td>\n",
              "    </tr>\n",
              "    <tr>\n",
              "      <th>3</th>\n",
              "      <td>-2.06785</td>\n",
              "      <td>-1.430719</td>\n",
              "      <td>-0.402174</td>\n",
              "      <td>-0.458082</td>\n",
              "      <td>0.160501</td>\n",
              "      <td>0.052278</td>\n",
              "      <td>-0.05749</td>\n",
              "      <td>-0.142561</td>\n",
              "      <td>-0.064208</td>\n",
              "      <td>-0.082761</td>\n",
              "      <td>-0.083851</td>\n",
              "      <td>-0.051856</td>\n",
              "      <td>-0.032667</td>\n",
              "      <td>-0.130814</td>\n",
              "      <td>-0.071143</td>\n",
              "      <td>-0.141932</td>\n",
              "      <td>-0.027241</td>\n",
              "      <td>-0.192062</td>\n",
              "      <td>-0.231739</td>\n",
              "      <td>-0.229275</td>\n",
              "      <td>-0.131677</td>\n",
              "      <td>-0.314382</td>\n",
              "      <td>-0.173877</td>\n",
              "      <td>-0.206321</td>\n",
              "      <td>-0.223535</td>\n",
              "      <td>-0.242064</td>\n",
              "      <td>-0.250365</td>\n",
              "      <td>-0.158659</td>\n",
              "      <td>-0.130772</td>\n",
              "      <td>-0.248607</td>\n",
              "      <td>-0.174852</td>\n",
              "      <td>-0.119845</td>\n",
              "      <td>-0.240948</td>\n",
              "      <td>0</td>\n",
              "    </tr>\n",
              "    <tr>\n",
              "      <th>4</th>\n",
              "      <td>-2.06785</td>\n",
              "      <td>-1.430719</td>\n",
              "      <td>-0.402174</td>\n",
              "      <td>-1.136118</td>\n",
              "      <td>-1.322221</td>\n",
              "      <td>-1.439189</td>\n",
              "      <td>-1.61374</td>\n",
              "      <td>-1.738145</td>\n",
              "      <td>-1.621254</td>\n",
              "      <td>-1.646630</td>\n",
              "      <td>-1.645501</td>\n",
              "      <td>-1.615594</td>\n",
              "      <td>-1.591064</td>\n",
              "      <td>-1.707080</td>\n",
              "      <td>-1.639525</td>\n",
              "      <td>-1.685938</td>\n",
              "      <td>-1.559033</td>\n",
              "      <td>-1.774225</td>\n",
              "      <td>-1.825028</td>\n",
              "      <td>-1.825426</td>\n",
              "      <td>-1.684588</td>\n",
              "      <td>-1.892390</td>\n",
              "      <td>-1.736757</td>\n",
              "      <td>-1.783194</td>\n",
              "      <td>-1.790026</td>\n",
              "      <td>-1.817034</td>\n",
              "      <td>-1.827343</td>\n",
              "      <td>-1.730392</td>\n",
              "      <td>-1.698417</td>\n",
              "      <td>-1.839472</td>\n",
              "      <td>-1.748929</td>\n",
              "      <td>-1.668120</td>\n",
              "      <td>-1.805160</td>\n",
              "      <td>2</td>\n",
              "    </tr>\n",
              "  </tbody>\n",
              "</table>\n",
              "</div>"
            ],
            "text/plain": [
              "         0         1         2         3  ...        30        31        32  cluster\n",
              "0 -2.06785 -1.430719 -0.402174 -1.136118  ... -0.174852 -0.119845 -0.240948        0\n",
              "1 -2.06785 -1.430719 -0.402174 -0.458082  ... -0.174852 -0.119845 -0.240948        0\n",
              "2 -2.06785 -1.430719 -0.402174  0.219954  ...  1.399225  1.428430  1.323265        1\n",
              "3 -2.06785 -1.430719 -0.402174 -0.458082  ... -0.174852 -0.119845 -0.240948        0\n",
              "4 -2.06785 -1.430719 -0.402174 -1.136118  ... -1.748929 -1.668120 -1.805160        2\n",
              "\n",
              "[5 rows x 34 columns]"
            ]
          },
          "metadata": {
            "tags": []
          },
          "execution_count": 30
        }
      ]
    },
    {
      "cell_type": "code",
      "metadata": {
        "id": "oE883_FjZRlT"
      },
      "source": [
        ""
      ],
      "execution_count": null,
      "outputs": []
    }
  ]
}