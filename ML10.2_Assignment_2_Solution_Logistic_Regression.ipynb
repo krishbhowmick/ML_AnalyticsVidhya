{
  "nbformat": 4,
  "nbformat_minor": 0,
  "metadata": {
    "kernelspec": {
      "display_name": "Python 3",
      "language": "python",
      "name": "python3"
    },
    "language_info": {
      "codemirror_mode": {
        "name": "ipython",
        "version": 3
      },
      "file_extension": ".py",
      "mimetype": "text/x-python",
      "name": "python",
      "nbconvert_exporter": "python",
      "pygments_lexer": "ipython3",
      "version": "3.6.8"
    },
    "colab": {
      "name": "ML10.2_Assignment 2 Solution - Logistic Regression.ipynb",
      "provenance": [],
      "include_colab_link": true
    }
  },
  "cells": [
    {
      "cell_type": "markdown",
      "metadata": {
        "id": "view-in-github",
        "colab_type": "text"
      },
      "source": [
        "<a href=\"https://colab.research.google.com/github/krishbhowmick/ML_AnalyticsVidhya/blob/main/ML10.2_Assignment_2_Solution_Logistic_Regression.ipynb\" target=\"_parent\"><img src=\"https://colab.research.google.com/assets/colab-badge.svg\" alt=\"Open In Colab\"/></a>"
      ]
    },
    {
      "cell_type": "markdown",
      "metadata": {
        "id": "Lb9eojmEm_DP"
      },
      "source": [
        "## Loading the Dataset"
      ]
    },
    {
      "cell_type": "code",
      "metadata": {
        "id": "0qUgLsjUm_DR",
        "colab": {
          "base_uri": "https://localhost:8080/",
          "height": 34
        },
        "outputId": "015670e1-8340-44ba-dc55-4b58c78e3d8f"
      },
      "source": [
        "from google.colab import drive\n",
        "drive.mount('/content/drive/')\n"
      ],
      "execution_count": null,
      "outputs": [
        {
          "output_type": "stream",
          "text": [
            "Drive already mounted at /content/drive/; to attempt to forcibly remount, call drive.mount(\"/content/drive/\", force_remount=True).\n"
          ],
          "name": "stdout"
        }
      ]
    },
    {
      "cell_type": "code",
      "metadata": {
        "id": "tP2wxsM-4mwx"
      },
      "source": [
        "\n",
        "import pandas as pd\n",
        "import numpy as np\n",
        "\n",
        "import matplotlib.pyplot as plt\n",
        "%matplotlib inline"
      ],
      "execution_count": null,
      "outputs": []
    },
    {
      "cell_type": "code",
      "metadata": {
        "id": "QFKVhTuwm_DX",
        "colab": {
          "base_uri": "https://localhost:8080/",
          "height": 34
        },
        "outputId": "b421e057-669e-49a0-8d1f-5b9f771c2801"
      },
      "source": [
        "df = pd.read_csv('/content/drive/My Drive/ML_Code/10_Logistic Regreetion/Module 10 Assisgnment - Dataset+Solution/Train_pjb2QcD.csv')\n",
        "df.shape"
      ],
      "execution_count": null,
      "outputs": [
        {
          "output_type": "execute_result",
          "data": {
            "text/plain": [
              "(8844, 19)"
            ]
          },
          "metadata": {
            "tags": []
          },
          "execution_count": 9
        }
      ]
    },
    {
      "cell_type": "code",
      "metadata": {
        "id": "cFQlPo0tm_Dc",
        "colab": {
          "base_uri": "https://localhost:8080/",
          "height": 224
        },
        "outputId": "b7760675-aae8-4994-aff5-a6a21ae7dff0"
      },
      "source": [
        "df.head()"
      ],
      "execution_count": null,
      "outputs": [
        {
          "output_type": "execute_result",
          "data": {
            "text/html": [
              "<div>\n",
              "<style scoped>\n",
              "    .dataframe tbody tr th:only-of-type {\n",
              "        vertical-align: middle;\n",
              "    }\n",
              "\n",
              "    .dataframe tbody tr th {\n",
              "        vertical-align: top;\n",
              "    }\n",
              "\n",
              "    .dataframe thead th {\n",
              "        text-align: right;\n",
              "    }\n",
              "</style>\n",
              "<table border=\"1\" class=\"dataframe\">\n",
              "  <thead>\n",
              "    <tr style=\"text-align: right;\">\n",
              "      <th></th>\n",
              "      <th>ID</th>\n",
              "      <th>Office_PIN</th>\n",
              "      <th>Applicant_City_PIN</th>\n",
              "      <th>Applicant_Gender</th>\n",
              "      <th>Applicant_Marital_Status</th>\n",
              "      <th>Applicant_Occupation</th>\n",
              "      <th>Applicant_Qualification</th>\n",
              "      <th>Manager_Joining_Designation</th>\n",
              "      <th>Manager_Current_Designation</th>\n",
              "      <th>Manager_Grade</th>\n",
              "      <th>Manager_Status</th>\n",
              "      <th>Manager_Gender</th>\n",
              "      <th>Manager_Num_Application</th>\n",
              "      <th>Manager_Num_Coded</th>\n",
              "      <th>Manager_Business</th>\n",
              "      <th>Manager_Num_Products</th>\n",
              "      <th>Manager_Business2</th>\n",
              "      <th>Manager_Num_Products2</th>\n",
              "      <th>Business_Sourced</th>\n",
              "    </tr>\n",
              "  </thead>\n",
              "  <tbody>\n",
              "    <tr>\n",
              "      <th>0</th>\n",
              "      <td>FIN1000001</td>\n",
              "      <td>842001</td>\n",
              "      <td>844120</td>\n",
              "      <td>M</td>\n",
              "      <td>M</td>\n",
              "      <td>Others</td>\n",
              "      <td>Graduate</td>\n",
              "      <td>Level 1</td>\n",
              "      <td>Level 2</td>\n",
              "      <td>3.0</td>\n",
              "      <td>Confirmation</td>\n",
              "      <td>M</td>\n",
              "      <td>2.0</td>\n",
              "      <td>1.0</td>\n",
              "      <td>335249.0</td>\n",
              "      <td>28.0</td>\n",
              "      <td>335249.0</td>\n",
              "      <td>28.0</td>\n",
              "      <td>0</td>\n",
              "    </tr>\n",
              "    <tr>\n",
              "      <th>1</th>\n",
              "      <td>FIN1000002</td>\n",
              "      <td>842001</td>\n",
              "      <td>844111</td>\n",
              "      <td>M</td>\n",
              "      <td>S</td>\n",
              "      <td>Others</td>\n",
              "      <td>Class XII</td>\n",
              "      <td>Level 1</td>\n",
              "      <td>Level 2</td>\n",
              "      <td>3.0</td>\n",
              "      <td>Confirmation</td>\n",
              "      <td>M</td>\n",
              "      <td>2.0</td>\n",
              "      <td>1.0</td>\n",
              "      <td>335249.0</td>\n",
              "      <td>28.0</td>\n",
              "      <td>335249.0</td>\n",
              "      <td>28.0</td>\n",
              "      <td>1</td>\n",
              "    </tr>\n",
              "    <tr>\n",
              "      <th>2</th>\n",
              "      <td>FIN1000003</td>\n",
              "      <td>800001</td>\n",
              "      <td>844101</td>\n",
              "      <td>M</td>\n",
              "      <td>M</td>\n",
              "      <td>Business</td>\n",
              "      <td>Class XII</td>\n",
              "      <td>Level 1</td>\n",
              "      <td>Level 1</td>\n",
              "      <td>2.0</td>\n",
              "      <td>Confirmation</td>\n",
              "      <td>M</td>\n",
              "      <td>0.0</td>\n",
              "      <td>0.0</td>\n",
              "      <td>357184.0</td>\n",
              "      <td>24.0</td>\n",
              "      <td>357184.0</td>\n",
              "      <td>24.0</td>\n",
              "      <td>0</td>\n",
              "    </tr>\n",
              "    <tr>\n",
              "      <th>3</th>\n",
              "      <td>FIN1000004</td>\n",
              "      <td>814112</td>\n",
              "      <td>814112</td>\n",
              "      <td>M</td>\n",
              "      <td>S</td>\n",
              "      <td>Salaried</td>\n",
              "      <td>Class XII</td>\n",
              "      <td>Level 1</td>\n",
              "      <td>Level 3</td>\n",
              "      <td>4.0</td>\n",
              "      <td>Confirmation</td>\n",
              "      <td>F</td>\n",
              "      <td>0.0</td>\n",
              "      <td>0.0</td>\n",
              "      <td>318356.0</td>\n",
              "      <td>22.0</td>\n",
              "      <td>318356.0</td>\n",
              "      <td>22.0</td>\n",
              "      <td>0</td>\n",
              "    </tr>\n",
              "    <tr>\n",
              "      <th>4</th>\n",
              "      <td>FIN1000005</td>\n",
              "      <td>814112</td>\n",
              "      <td>815351</td>\n",
              "      <td>M</td>\n",
              "      <td>M</td>\n",
              "      <td>Others</td>\n",
              "      <td>Class XII</td>\n",
              "      <td>Level 1</td>\n",
              "      <td>Level 1</td>\n",
              "      <td>2.0</td>\n",
              "      <td>Confirmation</td>\n",
              "      <td>M</td>\n",
              "      <td>2.0</td>\n",
              "      <td>1.0</td>\n",
              "      <td>230402.0</td>\n",
              "      <td>17.0</td>\n",
              "      <td>230402.0</td>\n",
              "      <td>17.0</td>\n",
              "      <td>0</td>\n",
              "    </tr>\n",
              "  </tbody>\n",
              "</table>\n",
              "</div>"
            ],
            "text/plain": [
              "           ID  Office_PIN  ...  Manager_Num_Products2 Business_Sourced\n",
              "0  FIN1000001      842001  ...                   28.0                0\n",
              "1  FIN1000002      842001  ...                   28.0                1\n",
              "2  FIN1000003      800001  ...                   24.0                0\n",
              "3  FIN1000004      814112  ...                   22.0                0\n",
              "4  FIN1000005      814112  ...                   17.0                0\n",
              "\n",
              "[5 rows x 19 columns]"
            ]
          },
          "metadata": {
            "tags": []
          },
          "execution_count": 10
        }
      ]
    },
    {
      "cell_type": "code",
      "metadata": {
        "id": "OS8PTYa-m_Dh",
        "colab": {
          "base_uri": "https://localhost:8080/",
          "height": 153
        },
        "outputId": "eb5d3b10-d129-4ece-9683-da326af6bf14"
      },
      "source": [
        "df.columns"
      ],
      "execution_count": null,
      "outputs": [
        {
          "output_type": "execute_result",
          "data": {
            "text/plain": [
              "Index(['ID', 'Office_PIN', 'Applicant_City_PIN', 'Applicant_Gender',\n",
              "       'Applicant_Marital_Status', 'Applicant_Occupation',\n",
              "       'Applicant_Qualification', 'Manager_Joining_Designation',\n",
              "       'Manager_Current_Designation', 'Manager_Grade', 'Manager_Status',\n",
              "       'Manager_Gender', 'Manager_Num_Application', 'Manager_Num_Coded',\n",
              "       'Manager_Business', 'Manager_Num_Products', 'Manager_Business2',\n",
              "       'Manager_Num_Products2', 'Business_Sourced'],\n",
              "      dtype='object')"
            ]
          },
          "metadata": {
            "tags": []
          },
          "execution_count": 11
        }
      ]
    },
    {
      "cell_type": "markdown",
      "metadata": {
        "id": "-igeHjJ6m_Dm"
      },
      "source": [
        "## Imputing Missing Values"
      ]
    },
    {
      "cell_type": "code",
      "metadata": {
        "scrolled": true,
        "id": "7DW9wx7Ym_Dp",
        "colab": {
          "base_uri": "https://localhost:8080/",
          "height": 357
        },
        "outputId": "ec88a4c8-04b1-4167-bc43-c7c230463931"
      },
      "source": [
        "df.isnull().sum()"
      ],
      "execution_count": null,
      "outputs": [
        {
          "output_type": "execute_result",
          "data": {
            "text/plain": [
              "ID                                0\n",
              "Office_PIN                        0\n",
              "Applicant_City_PIN                0\n",
              "Applicant_Gender                 53\n",
              "Applicant_Marital_Status         59\n",
              "Applicant_Occupation           1090\n",
              "Applicant_Qualification          71\n",
              "Manager_Joining_Designation       0\n",
              "Manager_Current_Designation       0\n",
              "Manager_Grade                     0\n",
              "Manager_Status                    0\n",
              "Manager_Gender                    0\n",
              "Manager_Num_Application           0\n",
              "Manager_Num_Coded                 0\n",
              "Manager_Business                  0\n",
              "Manager_Num_Products              0\n",
              "Manager_Business2                 0\n",
              "Manager_Num_Products2             0\n",
              "Business_Sourced                  0\n",
              "dtype: int64"
            ]
          },
          "metadata": {
            "tags": []
          },
          "execution_count": 12
        }
      ]
    },
    {
      "cell_type": "code",
      "metadata": {
        "id": "5gpylsOrm_Dt",
        "colab": {
          "base_uri": "https://localhost:8080/",
          "height": 204
        },
        "outputId": "67509c13-6e07-4305-ea70-84cef350645c"
      },
      "source": [
        "df[['Applicant_Gender','Applicant_Marital_Status', 'Applicant_Occupation', 'Applicant_Qualification']].head()"
      ],
      "execution_count": null,
      "outputs": [
        {
          "output_type": "execute_result",
          "data": {
            "text/html": [
              "<div>\n",
              "<style scoped>\n",
              "    .dataframe tbody tr th:only-of-type {\n",
              "        vertical-align: middle;\n",
              "    }\n",
              "\n",
              "    .dataframe tbody tr th {\n",
              "        vertical-align: top;\n",
              "    }\n",
              "\n",
              "    .dataframe thead th {\n",
              "        text-align: right;\n",
              "    }\n",
              "</style>\n",
              "<table border=\"1\" class=\"dataframe\">\n",
              "  <thead>\n",
              "    <tr style=\"text-align: right;\">\n",
              "      <th></th>\n",
              "      <th>Applicant_Gender</th>\n",
              "      <th>Applicant_Marital_Status</th>\n",
              "      <th>Applicant_Occupation</th>\n",
              "      <th>Applicant_Qualification</th>\n",
              "    </tr>\n",
              "  </thead>\n",
              "  <tbody>\n",
              "    <tr>\n",
              "      <th>0</th>\n",
              "      <td>M</td>\n",
              "      <td>M</td>\n",
              "      <td>Others</td>\n",
              "      <td>Graduate</td>\n",
              "    </tr>\n",
              "    <tr>\n",
              "      <th>1</th>\n",
              "      <td>M</td>\n",
              "      <td>S</td>\n",
              "      <td>Others</td>\n",
              "      <td>Class XII</td>\n",
              "    </tr>\n",
              "    <tr>\n",
              "      <th>2</th>\n",
              "      <td>M</td>\n",
              "      <td>M</td>\n",
              "      <td>Business</td>\n",
              "      <td>Class XII</td>\n",
              "    </tr>\n",
              "    <tr>\n",
              "      <th>3</th>\n",
              "      <td>M</td>\n",
              "      <td>S</td>\n",
              "      <td>Salaried</td>\n",
              "      <td>Class XII</td>\n",
              "    </tr>\n",
              "    <tr>\n",
              "      <th>4</th>\n",
              "      <td>M</td>\n",
              "      <td>M</td>\n",
              "      <td>Others</td>\n",
              "      <td>Class XII</td>\n",
              "    </tr>\n",
              "  </tbody>\n",
              "</table>\n",
              "</div>"
            ],
            "text/plain": [
              "  Applicant_Gender  ... Applicant_Qualification\n",
              "0                M  ...                Graduate\n",
              "1                M  ...               Class XII\n",
              "2                M  ...               Class XII\n",
              "3                M  ...               Class XII\n",
              "4                M  ...               Class XII\n",
              "\n",
              "[5 rows x 4 columns]"
            ]
          },
          "metadata": {
            "tags": []
          },
          "execution_count": 13
        }
      ]
    },
    {
      "cell_type": "markdown",
      "metadata": {
        "id": "1Brit3xSm_Dy"
      },
      "source": [
        "**1. Missing Values in Applicant Gender**"
      ]
    },
    {
      "cell_type": "code",
      "metadata": {
        "scrolled": true,
        "id": "FL-vyMHrm_Dz",
        "colab": {
          "base_uri": "https://localhost:8080/",
          "height": 68
        },
        "outputId": "1cad64d8-6270-4224-a5db-1e08d4f18a70"
      },
      "source": [
        "#checking value_Counts\n",
        "df['Applicant_Gender'].value_counts()"
      ],
      "execution_count": null,
      "outputs": [
        {
          "output_type": "execute_result",
          "data": {
            "text/plain": [
              "M    6656\n",
              "F    2135\n",
              "Name: Applicant_Gender, dtype: int64"
            ]
          },
          "metadata": {
            "tags": []
          },
          "execution_count": 14
        }
      ]
    },
    {
      "cell_type": "code",
      "metadata": {
        "id": "rIEdx2CTm_D4"
      },
      "source": [
        "#imputing missing with mode\n",
        "df['Applicant_Gender'].fillna('M', inplace=True)"
      ],
      "execution_count": null,
      "outputs": []
    },
    {
      "cell_type": "markdown",
      "metadata": {
        "id": "JIDYuvYQm_D9"
      },
      "source": [
        "**2. Missing Values in Applicant Marital Status**"
      ]
    },
    {
      "cell_type": "code",
      "metadata": {
        "scrolled": true,
        "id": "vdpoz8lPm_D9",
        "colab": {
          "base_uri": "https://localhost:8080/",
          "height": 102
        },
        "outputId": "0a9affce-1a7c-40dd-c1ad-104e5c9bcd5f"
      },
      "source": [
        "#checking value_Counts\n",
        "df['Applicant_Marital_Status'].value_counts()"
      ],
      "execution_count": null,
      "outputs": [
        {
          "output_type": "execute_result",
          "data": {
            "text/plain": [
              "M    5733\n",
              "S    3042\n",
              "W       6\n",
              "D       4\n",
              "Name: Applicant_Marital_Status, dtype: int64"
            ]
          },
          "metadata": {
            "tags": []
          },
          "execution_count": 16
        }
      ]
    },
    {
      "cell_type": "code",
      "metadata": {
        "id": "TFBVk06nm_EC"
      },
      "source": [
        "#imputing missing with mode\n",
        "\n",
        "df['Applicant_Marital_Status'].fillna('M', inplace=True)"
      ],
      "execution_count": null,
      "outputs": []
    },
    {
      "cell_type": "markdown",
      "metadata": {
        "id": "O7mE0WsTm_EG"
      },
      "source": [
        "**3. Missing Values in Applicant Occupation**"
      ]
    },
    {
      "cell_type": "code",
      "metadata": {
        "id": "11D13-V7m_EH",
        "colab": {
          "base_uri": "https://localhost:8080/",
          "height": 119
        },
        "outputId": "ce560565-0d7d-4f86-c296-45b34fc58769"
      },
      "source": [
        "#checking value_Counts\n",
        "df['Applicant_Occupation'].value_counts()"
      ],
      "execution_count": null,
      "outputs": [
        {
          "output_type": "execute_result",
          "data": {
            "text/plain": [
              "Salaried         3546\n",
              "Business         2157\n",
              "Others           1809\n",
              "Self Employed     146\n",
              "Student            96\n",
              "Name: Applicant_Occupation, dtype: int64"
            ]
          },
          "metadata": {
            "tags": []
          },
          "execution_count": 18
        }
      ]
    },
    {
      "cell_type": "code",
      "metadata": {
        "id": "kSZ7yRNbm_EM"
      },
      "source": [
        "#imputing missing with mode\n",
        "\n",
        "df['Applicant_Occupation'].fillna('Salaried', inplace=True)"
      ],
      "execution_count": null,
      "outputs": []
    },
    {
      "cell_type": "markdown",
      "metadata": {
        "id": "Pw-5CQB-m_EQ"
      },
      "source": [
        "**4. Missing Values in Applicant Qualification**"
      ]
    },
    {
      "cell_type": "code",
      "metadata": {
        "id": "nnGG5Y_pm_ER",
        "colab": {
          "base_uri": "https://localhost:8080/",
          "height": 204
        },
        "outputId": "efab2eeb-0754-4ba4-9c0e-b225c826a078"
      },
      "source": [
        "#checking value_Counts\n",
        "df['Applicant_Qualification'].value_counts()"
      ],
      "execution_count": null,
      "outputs": [
        {
          "output_type": "execute_result",
          "data": {
            "text/plain": [
              "Class XII                                                           5426\n",
              "Graduate                                                            2958\n",
              "Class X                                                              195\n",
              "Others                                                               116\n",
              "Masters of Business Administration                                    71\n",
              "Associate / Fellow of Institute of Chartered Accountans of India       3\n",
              "Associate/Fellow of Acturial Society of India                          1\n",
              "Associate/Fellow of Institute of Company Secretories of India          1\n",
              "Associate/Fellow of Insurance Institute of India                       1\n",
              "Professional Qualification in Marketing                                1\n",
              "Name: Applicant_Qualification, dtype: int64"
            ]
          },
          "metadata": {
            "tags": []
          },
          "execution_count": 20
        }
      ]
    },
    {
      "cell_type": "code",
      "metadata": {
        "id": "mukhY9rim_EV"
      },
      "source": [
        "#imputing missing with mode\n",
        "\n",
        "df['Applicant_Qualification'].fillna('Class XII', inplace=True)"
      ],
      "execution_count": null,
      "outputs": []
    },
    {
      "cell_type": "code",
      "metadata": {
        "scrolled": true,
        "id": "iAbHJNXDm_Eb",
        "colab": {
          "base_uri": "https://localhost:8080/",
          "height": 357
        },
        "outputId": "b5d9fac0-caaa-40b3-c99b-e49bee270280"
      },
      "source": [
        "df.isnull().sum()"
      ],
      "execution_count": null,
      "outputs": [
        {
          "output_type": "execute_result",
          "data": {
            "text/plain": [
              "ID                             0\n",
              "Office_PIN                     0\n",
              "Applicant_City_PIN             0\n",
              "Applicant_Gender               0\n",
              "Applicant_Marital_Status       0\n",
              "Applicant_Occupation           0\n",
              "Applicant_Qualification        0\n",
              "Manager_Joining_Designation    0\n",
              "Manager_Current_Designation    0\n",
              "Manager_Grade                  0\n",
              "Manager_Status                 0\n",
              "Manager_Gender                 0\n",
              "Manager_Num_Application        0\n",
              "Manager_Num_Coded              0\n",
              "Manager_Business               0\n",
              "Manager_Num_Products           0\n",
              "Manager_Business2              0\n",
              "Manager_Num_Products2          0\n",
              "Business_Sourced               0\n",
              "dtype: int64"
            ]
          },
          "metadata": {
            "tags": []
          },
          "execution_count": 22
        }
      ]
    },
    {
      "cell_type": "markdown",
      "metadata": {
        "id": "PJalGMCNm_Ef"
      },
      "source": [
        "## Dealing with Categorical Variables"
      ]
    },
    {
      "cell_type": "code",
      "metadata": {
        "id": "xyrLyLrZm_Ef",
        "colab": {
          "base_uri": "https://localhost:8080/",
          "height": 357
        },
        "outputId": "0de0145c-782a-48de-bd19-8d1c281b8b3e"
      },
      "source": [
        "df.dtypes"
      ],
      "execution_count": null,
      "outputs": [
        {
          "output_type": "execute_result",
          "data": {
            "text/plain": [
              "ID                              object\n",
              "Office_PIN                       int64\n",
              "Applicant_City_PIN               int64\n",
              "Applicant_Gender                object\n",
              "Applicant_Marital_Status        object\n",
              "Applicant_Occupation            object\n",
              "Applicant_Qualification         object\n",
              "Manager_Joining_Designation     object\n",
              "Manager_Current_Designation     object\n",
              "Manager_Grade                  float64\n",
              "Manager_Status                  object\n",
              "Manager_Gender                  object\n",
              "Manager_Num_Application        float64\n",
              "Manager_Num_Coded              float64\n",
              "Manager_Business               float64\n",
              "Manager_Num_Products           float64\n",
              "Manager_Business2              float64\n",
              "Manager_Num_Products2          float64\n",
              "Business_Sourced                 int64\n",
              "dtype: object"
            ]
          },
          "metadata": {
            "tags": []
          },
          "execution_count": 23
        }
      ]
    },
    {
      "cell_type": "code",
      "metadata": {
        "id": "75VH2zAwm_Ek",
        "colab": {
          "base_uri": "https://localhost:8080/",
          "height": 153
        },
        "outputId": "f9aad8f6-ba22-460c-8c40-e3363d56cd0e"
      },
      "source": [
        "df.columns"
      ],
      "execution_count": null,
      "outputs": [
        {
          "output_type": "execute_result",
          "data": {
            "text/plain": [
              "Index(['ID', 'Office_PIN', 'Applicant_City_PIN', 'Applicant_Gender',\n",
              "       'Applicant_Marital_Status', 'Applicant_Occupation',\n",
              "       'Applicant_Qualification', 'Manager_Joining_Designation',\n",
              "       'Manager_Current_Designation', 'Manager_Grade', 'Manager_Status',\n",
              "       'Manager_Gender', 'Manager_Num_Application', 'Manager_Num_Coded',\n",
              "       'Manager_Business', 'Manager_Num_Products', 'Manager_Business2',\n",
              "       'Manager_Num_Products2', 'Business_Sourced'],\n",
              "      dtype='object')"
            ]
          },
          "metadata": {
            "tags": []
          },
          "execution_count": 24
        }
      ]
    },
    {
      "cell_type": "code",
      "metadata": {
        "id": "QL2rjrjBm_En",
        "colab": {
          "base_uri": "https://localhost:8080/",
          "height": 1000
        },
        "outputId": "2b916056-898f-4831-cf4f-d6a92258d048"
      },
      "source": [
        "categorical_cols = ['Applicant_Gender','Applicant_Marital_Status','Applicant_Occupation','Applicant_Qualification',\n",
        "                   'Manager_Joining_Designation', 'Manager_Current_Designation', 'Manager_Status', 'Manager_Gender']\n",
        "\n",
        "for i in categorical_cols:\n",
        "    print('*****', i, '*****')\n",
        "    print(df[i].value_counts())\n",
        "    print('')"
      ],
      "execution_count": null,
      "outputs": [
        {
          "output_type": "stream",
          "text": [
            "***** Applicant_Gender *****\n",
            "M    6709\n",
            "F    2135\n",
            "Name: Applicant_Gender, dtype: int64\n",
            "\n",
            "***** Applicant_Marital_Status *****\n",
            "M    5792\n",
            "S    3042\n",
            "W       6\n",
            "D       4\n",
            "Name: Applicant_Marital_Status, dtype: int64\n",
            "\n",
            "***** Applicant_Occupation *****\n",
            "Salaried         4636\n",
            "Business         2157\n",
            "Others           1809\n",
            "Self Employed     146\n",
            "Student            96\n",
            "Name: Applicant_Occupation, dtype: int64\n",
            "\n",
            "***** Applicant_Qualification *****\n",
            "Class XII                                                           5497\n",
            "Graduate                                                            2958\n",
            "Class X                                                              195\n",
            "Others                                                               116\n",
            "Masters of Business Administration                                    71\n",
            "Associate / Fellow of Institute of Chartered Accountans of India       3\n",
            "Associate/Fellow of Acturial Society of India                          1\n",
            "Associate/Fellow of Institute of Company Secretories of India          1\n",
            "Associate/Fellow of Insurance Institute of India                       1\n",
            "Professional Qualification in Marketing                                1\n",
            "Name: Applicant_Qualification, dtype: int64\n",
            "\n",
            "***** Manager_Joining_Designation *****\n",
            "Level 1    4632\n",
            "Level 2    2787\n",
            "Level 3    1146\n",
            "Level 4     200\n",
            "Other        58\n",
            "Level 6      18\n",
            "Level 7       2\n",
            "Level 5       1\n",
            "Name: Manager_Joining_Designation, dtype: int64\n",
            "\n",
            "***** Manager_Current_Designation *****\n",
            "Level 2    3208\n",
            "Level 1    2479\n",
            "Level 3    2033\n",
            "Level 4    1031\n",
            "Level 5      93\n",
            "Name: Manager_Current_Designation, dtype: int64\n",
            "\n",
            "***** Manager_Status *****\n",
            "Confirmation    5277\n",
            "Probation       3567\n",
            "Name: Manager_Status, dtype: int64\n",
            "\n",
            "***** Manager_Gender *****\n",
            "M    7627\n",
            "F    1217\n",
            "Name: Manager_Gender, dtype: int64\n",
            "\n"
          ],
          "name": "stdout"
        }
      ]
    },
    {
      "cell_type": "code",
      "metadata": {
        "id": "L46qZnR8m_Er",
        "colab": {
          "base_uri": "https://localhost:8080/",
          "height": 473
        },
        "outputId": "8ef044bb-716c-46d9-b59d-693dd9577106"
      },
      "source": [
        "df = pd.get_dummies(df)\n",
        "df"
      ],
      "execution_count": null,
      "outputs": [
        {
          "output_type": "execute_result",
          "data": {
            "text/html": [
              "<div>\n",
              "<style scoped>\n",
              "    .dataframe tbody tr th:only-of-type {\n",
              "        vertical-align: middle;\n",
              "    }\n",
              "\n",
              "    .dataframe tbody tr th {\n",
              "        vertical-align: top;\n",
              "    }\n",
              "\n",
              "    .dataframe thead th {\n",
              "        text-align: right;\n",
              "    }\n",
              "</style>\n",
              "<table border=\"1\" class=\"dataframe\">\n",
              "  <thead>\n",
              "    <tr style=\"text-align: right;\">\n",
              "      <th></th>\n",
              "      <th>Office_PIN</th>\n",
              "      <th>Applicant_City_PIN</th>\n",
              "      <th>Manager_Grade</th>\n",
              "      <th>Manager_Num_Application</th>\n",
              "      <th>Manager_Num_Coded</th>\n",
              "      <th>Manager_Business</th>\n",
              "      <th>Manager_Num_Products</th>\n",
              "      <th>Manager_Business2</th>\n",
              "      <th>Manager_Num_Products2</th>\n",
              "      <th>Business_Sourced</th>\n",
              "      <th>ID_FIN1000001</th>\n",
              "      <th>ID_FIN1000002</th>\n",
              "      <th>ID_FIN1000003</th>\n",
              "      <th>ID_FIN1000004</th>\n",
              "      <th>ID_FIN1000005</th>\n",
              "      <th>ID_FIN1000006</th>\n",
              "      <th>ID_FIN1000007</th>\n",
              "      <th>ID_FIN1000008</th>\n",
              "      <th>ID_FIN1000009</th>\n",
              "      <th>ID_FIN1000010</th>\n",
              "      <th>ID_FIN1000011</th>\n",
              "      <th>ID_FIN1000012</th>\n",
              "      <th>ID_FIN1000013</th>\n",
              "      <th>ID_FIN1000014</th>\n",
              "      <th>ID_FIN1000015</th>\n",
              "      <th>ID_FIN1000016</th>\n",
              "      <th>ID_FIN1000017</th>\n",
              "      <th>ID_FIN1000018</th>\n",
              "      <th>ID_FIN1000019</th>\n",
              "      <th>ID_FIN1000020</th>\n",
              "      <th>ID_FIN1000021</th>\n",
              "      <th>ID_FIN1000022</th>\n",
              "      <th>ID_FIN1000023</th>\n",
              "      <th>ID_FIN1000024</th>\n",
              "      <th>ID_FIN1000026</th>\n",
              "      <th>ID_FIN1000027</th>\n",
              "      <th>ID_FIN1000028</th>\n",
              "      <th>ID_FIN1000029</th>\n",
              "      <th>ID_FIN1000030</th>\n",
              "      <th>ID_FIN1000031</th>\n",
              "      <th>...</th>\n",
              "      <th>ID_FIN1009525</th>\n",
              "      <th>ID_FIN1009526</th>\n",
              "      <th>Applicant_Gender_F</th>\n",
              "      <th>Applicant_Gender_M</th>\n",
              "      <th>Applicant_Marital_Status_D</th>\n",
              "      <th>Applicant_Marital_Status_M</th>\n",
              "      <th>Applicant_Marital_Status_S</th>\n",
              "      <th>Applicant_Marital_Status_W</th>\n",
              "      <th>Applicant_Occupation_Business</th>\n",
              "      <th>Applicant_Occupation_Others</th>\n",
              "      <th>Applicant_Occupation_Salaried</th>\n",
              "      <th>Applicant_Occupation_Self Employed</th>\n",
              "      <th>Applicant_Occupation_Student</th>\n",
              "      <th>Applicant_Qualification_Associate / Fellow of Institute of Chartered Accountans of India</th>\n",
              "      <th>Applicant_Qualification_Associate/Fellow of Acturial Society of India</th>\n",
              "      <th>Applicant_Qualification_Associate/Fellow of Institute of Company Secretories of India</th>\n",
              "      <th>Applicant_Qualification_Associate/Fellow of Insurance Institute of India</th>\n",
              "      <th>Applicant_Qualification_Class X</th>\n",
              "      <th>Applicant_Qualification_Class XII</th>\n",
              "      <th>Applicant_Qualification_Graduate</th>\n",
              "      <th>Applicant_Qualification_Masters of Business Administration</th>\n",
              "      <th>Applicant_Qualification_Others</th>\n",
              "      <th>Applicant_Qualification_Professional Qualification in Marketing</th>\n",
              "      <th>Manager_Joining_Designation_Level 1</th>\n",
              "      <th>Manager_Joining_Designation_Level 2</th>\n",
              "      <th>Manager_Joining_Designation_Level 3</th>\n",
              "      <th>Manager_Joining_Designation_Level 4</th>\n",
              "      <th>Manager_Joining_Designation_Level 5</th>\n",
              "      <th>Manager_Joining_Designation_Level 6</th>\n",
              "      <th>Manager_Joining_Designation_Level 7</th>\n",
              "      <th>Manager_Joining_Designation_Other</th>\n",
              "      <th>Manager_Current_Designation_Level 1</th>\n",
              "      <th>Manager_Current_Designation_Level 2</th>\n",
              "      <th>Manager_Current_Designation_Level 3</th>\n",
              "      <th>Manager_Current_Designation_Level 4</th>\n",
              "      <th>Manager_Current_Designation_Level 5</th>\n",
              "      <th>Manager_Status_Confirmation</th>\n",
              "      <th>Manager_Status_Probation</th>\n",
              "      <th>Manager_Gender_F</th>\n",
              "      <th>Manager_Gender_M</th>\n",
              "    </tr>\n",
              "  </thead>\n",
              "  <tbody>\n",
              "    <tr>\n",
              "      <th>0</th>\n",
              "      <td>842001</td>\n",
              "      <td>844120</td>\n",
              "      <td>3.0</td>\n",
              "      <td>2.0</td>\n",
              "      <td>1.0</td>\n",
              "      <td>335249.0</td>\n",
              "      <td>28.0</td>\n",
              "      <td>335249.0</td>\n",
              "      <td>28.0</td>\n",
              "      <td>0</td>\n",
              "      <td>1</td>\n",
              "      <td>0</td>\n",
              "      <td>0</td>\n",
              "      <td>0</td>\n",
              "      <td>0</td>\n",
              "      <td>0</td>\n",
              "      <td>0</td>\n",
              "      <td>0</td>\n",
              "      <td>0</td>\n",
              "      <td>0</td>\n",
              "      <td>0</td>\n",
              "      <td>0</td>\n",
              "      <td>0</td>\n",
              "      <td>0</td>\n",
              "      <td>0</td>\n",
              "      <td>0</td>\n",
              "      <td>0</td>\n",
              "      <td>0</td>\n",
              "      <td>0</td>\n",
              "      <td>0</td>\n",
              "      <td>0</td>\n",
              "      <td>0</td>\n",
              "      <td>0</td>\n",
              "      <td>0</td>\n",
              "      <td>0</td>\n",
              "      <td>0</td>\n",
              "      <td>0</td>\n",
              "      <td>0</td>\n",
              "      <td>0</td>\n",
              "      <td>0</td>\n",
              "      <td>...</td>\n",
              "      <td>0</td>\n",
              "      <td>0</td>\n",
              "      <td>0</td>\n",
              "      <td>1</td>\n",
              "      <td>0</td>\n",
              "      <td>1</td>\n",
              "      <td>0</td>\n",
              "      <td>0</td>\n",
              "      <td>0</td>\n",
              "      <td>1</td>\n",
              "      <td>0</td>\n",
              "      <td>0</td>\n",
              "      <td>0</td>\n",
              "      <td>0</td>\n",
              "      <td>0</td>\n",
              "      <td>0</td>\n",
              "      <td>0</td>\n",
              "      <td>0</td>\n",
              "      <td>0</td>\n",
              "      <td>1</td>\n",
              "      <td>0</td>\n",
              "      <td>0</td>\n",
              "      <td>0</td>\n",
              "      <td>1</td>\n",
              "      <td>0</td>\n",
              "      <td>0</td>\n",
              "      <td>0</td>\n",
              "      <td>0</td>\n",
              "      <td>0</td>\n",
              "      <td>0</td>\n",
              "      <td>0</td>\n",
              "      <td>0</td>\n",
              "      <td>1</td>\n",
              "      <td>0</td>\n",
              "      <td>0</td>\n",
              "      <td>0</td>\n",
              "      <td>1</td>\n",
              "      <td>0</td>\n",
              "      <td>0</td>\n",
              "      <td>1</td>\n",
              "    </tr>\n",
              "    <tr>\n",
              "      <th>1</th>\n",
              "      <td>842001</td>\n",
              "      <td>844111</td>\n",
              "      <td>3.0</td>\n",
              "      <td>2.0</td>\n",
              "      <td>1.0</td>\n",
              "      <td>335249.0</td>\n",
              "      <td>28.0</td>\n",
              "      <td>335249.0</td>\n",
              "      <td>28.0</td>\n",
              "      <td>1</td>\n",
              "      <td>0</td>\n",
              "      <td>1</td>\n",
              "      <td>0</td>\n",
              "      <td>0</td>\n",
              "      <td>0</td>\n",
              "      <td>0</td>\n",
              "      <td>0</td>\n",
              "      <td>0</td>\n",
              "      <td>0</td>\n",
              "      <td>0</td>\n",
              "      <td>0</td>\n",
              "      <td>0</td>\n",
              "      <td>0</td>\n",
              "      <td>0</td>\n",
              "      <td>0</td>\n",
              "      <td>0</td>\n",
              "      <td>0</td>\n",
              "      <td>0</td>\n",
              "      <td>0</td>\n",
              "      <td>0</td>\n",
              "      <td>0</td>\n",
              "      <td>0</td>\n",
              "      <td>0</td>\n",
              "      <td>0</td>\n",
              "      <td>0</td>\n",
              "      <td>0</td>\n",
              "      <td>0</td>\n",
              "      <td>0</td>\n",
              "      <td>0</td>\n",
              "      <td>0</td>\n",
              "      <td>...</td>\n",
              "      <td>0</td>\n",
              "      <td>0</td>\n",
              "      <td>0</td>\n",
              "      <td>1</td>\n",
              "      <td>0</td>\n",
              "      <td>0</td>\n",
              "      <td>1</td>\n",
              "      <td>0</td>\n",
              "      <td>0</td>\n",
              "      <td>1</td>\n",
              "      <td>0</td>\n",
              "      <td>0</td>\n",
              "      <td>0</td>\n",
              "      <td>0</td>\n",
              "      <td>0</td>\n",
              "      <td>0</td>\n",
              "      <td>0</td>\n",
              "      <td>0</td>\n",
              "      <td>1</td>\n",
              "      <td>0</td>\n",
              "      <td>0</td>\n",
              "      <td>0</td>\n",
              "      <td>0</td>\n",
              "      <td>1</td>\n",
              "      <td>0</td>\n",
              "      <td>0</td>\n",
              "      <td>0</td>\n",
              "      <td>0</td>\n",
              "      <td>0</td>\n",
              "      <td>0</td>\n",
              "      <td>0</td>\n",
              "      <td>0</td>\n",
              "      <td>1</td>\n",
              "      <td>0</td>\n",
              "      <td>0</td>\n",
              "      <td>0</td>\n",
              "      <td>1</td>\n",
              "      <td>0</td>\n",
              "      <td>0</td>\n",
              "      <td>1</td>\n",
              "    </tr>\n",
              "    <tr>\n",
              "      <th>2</th>\n",
              "      <td>800001</td>\n",
              "      <td>844101</td>\n",
              "      <td>2.0</td>\n",
              "      <td>0.0</td>\n",
              "      <td>0.0</td>\n",
              "      <td>357184.0</td>\n",
              "      <td>24.0</td>\n",
              "      <td>357184.0</td>\n",
              "      <td>24.0</td>\n",
              "      <td>0</td>\n",
              "      <td>0</td>\n",
              "      <td>0</td>\n",
              "      <td>1</td>\n",
              "      <td>0</td>\n",
              "      <td>0</td>\n",
              "      <td>0</td>\n",
              "      <td>0</td>\n",
              "      <td>0</td>\n",
              "      <td>0</td>\n",
              "      <td>0</td>\n",
              "      <td>0</td>\n",
              "      <td>0</td>\n",
              "      <td>0</td>\n",
              "      <td>0</td>\n",
              "      <td>0</td>\n",
              "      <td>0</td>\n",
              "      <td>0</td>\n",
              "      <td>0</td>\n",
              "      <td>0</td>\n",
              "      <td>0</td>\n",
              "      <td>0</td>\n",
              "      <td>0</td>\n",
              "      <td>0</td>\n",
              "      <td>0</td>\n",
              "      <td>0</td>\n",
              "      <td>0</td>\n",
              "      <td>0</td>\n",
              "      <td>0</td>\n",
              "      <td>0</td>\n",
              "      <td>0</td>\n",
              "      <td>...</td>\n",
              "      <td>0</td>\n",
              "      <td>0</td>\n",
              "      <td>0</td>\n",
              "      <td>1</td>\n",
              "      <td>0</td>\n",
              "      <td>1</td>\n",
              "      <td>0</td>\n",
              "      <td>0</td>\n",
              "      <td>1</td>\n",
              "      <td>0</td>\n",
              "      <td>0</td>\n",
              "      <td>0</td>\n",
              "      <td>0</td>\n",
              "      <td>0</td>\n",
              "      <td>0</td>\n",
              "      <td>0</td>\n",
              "      <td>0</td>\n",
              "      <td>0</td>\n",
              "      <td>1</td>\n",
              "      <td>0</td>\n",
              "      <td>0</td>\n",
              "      <td>0</td>\n",
              "      <td>0</td>\n",
              "      <td>1</td>\n",
              "      <td>0</td>\n",
              "      <td>0</td>\n",
              "      <td>0</td>\n",
              "      <td>0</td>\n",
              "      <td>0</td>\n",
              "      <td>0</td>\n",
              "      <td>0</td>\n",
              "      <td>1</td>\n",
              "      <td>0</td>\n",
              "      <td>0</td>\n",
              "      <td>0</td>\n",
              "      <td>0</td>\n",
              "      <td>1</td>\n",
              "      <td>0</td>\n",
              "      <td>0</td>\n",
              "      <td>1</td>\n",
              "    </tr>\n",
              "    <tr>\n",
              "      <th>3</th>\n",
              "      <td>814112</td>\n",
              "      <td>814112</td>\n",
              "      <td>4.0</td>\n",
              "      <td>0.0</td>\n",
              "      <td>0.0</td>\n",
              "      <td>318356.0</td>\n",
              "      <td>22.0</td>\n",
              "      <td>318356.0</td>\n",
              "      <td>22.0</td>\n",
              "      <td>0</td>\n",
              "      <td>0</td>\n",
              "      <td>0</td>\n",
              "      <td>0</td>\n",
              "      <td>1</td>\n",
              "      <td>0</td>\n",
              "      <td>0</td>\n",
              "      <td>0</td>\n",
              "      <td>0</td>\n",
              "      <td>0</td>\n",
              "      <td>0</td>\n",
              "      <td>0</td>\n",
              "      <td>0</td>\n",
              "      <td>0</td>\n",
              "      <td>0</td>\n",
              "      <td>0</td>\n",
              "      <td>0</td>\n",
              "      <td>0</td>\n",
              "      <td>0</td>\n",
              "      <td>0</td>\n",
              "      <td>0</td>\n",
              "      <td>0</td>\n",
              "      <td>0</td>\n",
              "      <td>0</td>\n",
              "      <td>0</td>\n",
              "      <td>0</td>\n",
              "      <td>0</td>\n",
              "      <td>0</td>\n",
              "      <td>0</td>\n",
              "      <td>0</td>\n",
              "      <td>0</td>\n",
              "      <td>...</td>\n",
              "      <td>0</td>\n",
              "      <td>0</td>\n",
              "      <td>0</td>\n",
              "      <td>1</td>\n",
              "      <td>0</td>\n",
              "      <td>0</td>\n",
              "      <td>1</td>\n",
              "      <td>0</td>\n",
              "      <td>0</td>\n",
              "      <td>0</td>\n",
              "      <td>1</td>\n",
              "      <td>0</td>\n",
              "      <td>0</td>\n",
              "      <td>0</td>\n",
              "      <td>0</td>\n",
              "      <td>0</td>\n",
              "      <td>0</td>\n",
              "      <td>0</td>\n",
              "      <td>1</td>\n",
              "      <td>0</td>\n",
              "      <td>0</td>\n",
              "      <td>0</td>\n",
              "      <td>0</td>\n",
              "      <td>1</td>\n",
              "      <td>0</td>\n",
              "      <td>0</td>\n",
              "      <td>0</td>\n",
              "      <td>0</td>\n",
              "      <td>0</td>\n",
              "      <td>0</td>\n",
              "      <td>0</td>\n",
              "      <td>0</td>\n",
              "      <td>0</td>\n",
              "      <td>1</td>\n",
              "      <td>0</td>\n",
              "      <td>0</td>\n",
              "      <td>1</td>\n",
              "      <td>0</td>\n",
              "      <td>1</td>\n",
              "      <td>0</td>\n",
              "    </tr>\n",
              "    <tr>\n",
              "      <th>4</th>\n",
              "      <td>814112</td>\n",
              "      <td>815351</td>\n",
              "      <td>2.0</td>\n",
              "      <td>2.0</td>\n",
              "      <td>1.0</td>\n",
              "      <td>230402.0</td>\n",
              "      <td>17.0</td>\n",
              "      <td>230402.0</td>\n",
              "      <td>17.0</td>\n",
              "      <td>0</td>\n",
              "      <td>0</td>\n",
              "      <td>0</td>\n",
              "      <td>0</td>\n",
              "      <td>0</td>\n",
              "      <td>1</td>\n",
              "      <td>0</td>\n",
              "      <td>0</td>\n",
              "      <td>0</td>\n",
              "      <td>0</td>\n",
              "      <td>0</td>\n",
              "      <td>0</td>\n",
              "      <td>0</td>\n",
              "      <td>0</td>\n",
              "      <td>0</td>\n",
              "      <td>0</td>\n",
              "      <td>0</td>\n",
              "      <td>0</td>\n",
              "      <td>0</td>\n",
              "      <td>0</td>\n",
              "      <td>0</td>\n",
              "      <td>0</td>\n",
              "      <td>0</td>\n",
              "      <td>0</td>\n",
              "      <td>0</td>\n",
              "      <td>0</td>\n",
              "      <td>0</td>\n",
              "      <td>0</td>\n",
              "      <td>0</td>\n",
              "      <td>0</td>\n",
              "      <td>0</td>\n",
              "      <td>...</td>\n",
              "      <td>0</td>\n",
              "      <td>0</td>\n",
              "      <td>0</td>\n",
              "      <td>1</td>\n",
              "      <td>0</td>\n",
              "      <td>1</td>\n",
              "      <td>0</td>\n",
              "      <td>0</td>\n",
              "      <td>0</td>\n",
              "      <td>1</td>\n",
              "      <td>0</td>\n",
              "      <td>0</td>\n",
              "      <td>0</td>\n",
              "      <td>0</td>\n",
              "      <td>0</td>\n",
              "      <td>0</td>\n",
              "      <td>0</td>\n",
              "      <td>0</td>\n",
              "      <td>1</td>\n",
              "      <td>0</td>\n",
              "      <td>0</td>\n",
              "      <td>0</td>\n",
              "      <td>0</td>\n",
              "      <td>1</td>\n",
              "      <td>0</td>\n",
              "      <td>0</td>\n",
              "      <td>0</td>\n",
              "      <td>0</td>\n",
              "      <td>0</td>\n",
              "      <td>0</td>\n",
              "      <td>0</td>\n",
              "      <td>1</td>\n",
              "      <td>0</td>\n",
              "      <td>0</td>\n",
              "      <td>0</td>\n",
              "      <td>0</td>\n",
              "      <td>1</td>\n",
              "      <td>0</td>\n",
              "      <td>0</td>\n",
              "      <td>1</td>\n",
              "    </tr>\n",
              "    <tr>\n",
              "      <th>...</th>\n",
              "      <td>...</td>\n",
              "      <td>...</td>\n",
              "      <td>...</td>\n",
              "      <td>...</td>\n",
              "      <td>...</td>\n",
              "      <td>...</td>\n",
              "      <td>...</td>\n",
              "      <td>...</td>\n",
              "      <td>...</td>\n",
              "      <td>...</td>\n",
              "      <td>...</td>\n",
              "      <td>...</td>\n",
              "      <td>...</td>\n",
              "      <td>...</td>\n",
              "      <td>...</td>\n",
              "      <td>...</td>\n",
              "      <td>...</td>\n",
              "      <td>...</td>\n",
              "      <td>...</td>\n",
              "      <td>...</td>\n",
              "      <td>...</td>\n",
              "      <td>...</td>\n",
              "      <td>...</td>\n",
              "      <td>...</td>\n",
              "      <td>...</td>\n",
              "      <td>...</td>\n",
              "      <td>...</td>\n",
              "      <td>...</td>\n",
              "      <td>...</td>\n",
              "      <td>...</td>\n",
              "      <td>...</td>\n",
              "      <td>...</td>\n",
              "      <td>...</td>\n",
              "      <td>...</td>\n",
              "      <td>...</td>\n",
              "      <td>...</td>\n",
              "      <td>...</td>\n",
              "      <td>...</td>\n",
              "      <td>...</td>\n",
              "      <td>...</td>\n",
              "      <td>...</td>\n",
              "      <td>...</td>\n",
              "      <td>...</td>\n",
              "      <td>...</td>\n",
              "      <td>...</td>\n",
              "      <td>...</td>\n",
              "      <td>...</td>\n",
              "      <td>...</td>\n",
              "      <td>...</td>\n",
              "      <td>...</td>\n",
              "      <td>...</td>\n",
              "      <td>...</td>\n",
              "      <td>...</td>\n",
              "      <td>...</td>\n",
              "      <td>...</td>\n",
              "      <td>...</td>\n",
              "      <td>...</td>\n",
              "      <td>...</td>\n",
              "      <td>...</td>\n",
              "      <td>...</td>\n",
              "      <td>...</td>\n",
              "      <td>...</td>\n",
              "      <td>...</td>\n",
              "      <td>...</td>\n",
              "      <td>...</td>\n",
              "      <td>...</td>\n",
              "      <td>...</td>\n",
              "      <td>...</td>\n",
              "      <td>...</td>\n",
              "      <td>...</td>\n",
              "      <td>...</td>\n",
              "      <td>...</td>\n",
              "      <td>...</td>\n",
              "      <td>...</td>\n",
              "      <td>...</td>\n",
              "      <td>...</td>\n",
              "      <td>...</td>\n",
              "      <td>...</td>\n",
              "      <td>...</td>\n",
              "      <td>...</td>\n",
              "      <td>...</td>\n",
              "    </tr>\n",
              "    <tr>\n",
              "      <th>8839</th>\n",
              "      <td>250001</td>\n",
              "      <td>250004</td>\n",
              "      <td>3.0</td>\n",
              "      <td>1.0</td>\n",
              "      <td>1.0</td>\n",
              "      <td>55000.0</td>\n",
              "      <td>2.0</td>\n",
              "      <td>55000.0</td>\n",
              "      <td>2.0</td>\n",
              "      <td>0</td>\n",
              "      <td>0</td>\n",
              "      <td>0</td>\n",
              "      <td>0</td>\n",
              "      <td>0</td>\n",
              "      <td>0</td>\n",
              "      <td>0</td>\n",
              "      <td>0</td>\n",
              "      <td>0</td>\n",
              "      <td>0</td>\n",
              "      <td>0</td>\n",
              "      <td>0</td>\n",
              "      <td>0</td>\n",
              "      <td>0</td>\n",
              "      <td>0</td>\n",
              "      <td>0</td>\n",
              "      <td>0</td>\n",
              "      <td>0</td>\n",
              "      <td>0</td>\n",
              "      <td>0</td>\n",
              "      <td>0</td>\n",
              "      <td>0</td>\n",
              "      <td>0</td>\n",
              "      <td>0</td>\n",
              "      <td>0</td>\n",
              "      <td>0</td>\n",
              "      <td>0</td>\n",
              "      <td>0</td>\n",
              "      <td>0</td>\n",
              "      <td>0</td>\n",
              "      <td>0</td>\n",
              "      <td>...</td>\n",
              "      <td>0</td>\n",
              "      <td>0</td>\n",
              "      <td>1</td>\n",
              "      <td>0</td>\n",
              "      <td>0</td>\n",
              "      <td>1</td>\n",
              "      <td>0</td>\n",
              "      <td>0</td>\n",
              "      <td>0</td>\n",
              "      <td>0</td>\n",
              "      <td>1</td>\n",
              "      <td>0</td>\n",
              "      <td>0</td>\n",
              "      <td>0</td>\n",
              "      <td>0</td>\n",
              "      <td>0</td>\n",
              "      <td>0</td>\n",
              "      <td>0</td>\n",
              "      <td>0</td>\n",
              "      <td>1</td>\n",
              "      <td>0</td>\n",
              "      <td>0</td>\n",
              "      <td>0</td>\n",
              "      <td>1</td>\n",
              "      <td>0</td>\n",
              "      <td>0</td>\n",
              "      <td>0</td>\n",
              "      <td>0</td>\n",
              "      <td>0</td>\n",
              "      <td>0</td>\n",
              "      <td>0</td>\n",
              "      <td>0</td>\n",
              "      <td>1</td>\n",
              "      <td>0</td>\n",
              "      <td>0</td>\n",
              "      <td>0</td>\n",
              "      <td>1</td>\n",
              "      <td>0</td>\n",
              "      <td>0</td>\n",
              "      <td>1</td>\n",
              "    </tr>\n",
              "    <tr>\n",
              "      <th>8840</th>\n",
              "      <td>814112</td>\n",
              "      <td>816118</td>\n",
              "      <td>2.0</td>\n",
              "      <td>4.0</td>\n",
              "      <td>2.0</td>\n",
              "      <td>418339.0</td>\n",
              "      <td>13.0</td>\n",
              "      <td>418339.0</td>\n",
              "      <td>13.0</td>\n",
              "      <td>0</td>\n",
              "      <td>0</td>\n",
              "      <td>0</td>\n",
              "      <td>0</td>\n",
              "      <td>0</td>\n",
              "      <td>0</td>\n",
              "      <td>0</td>\n",
              "      <td>0</td>\n",
              "      <td>0</td>\n",
              "      <td>0</td>\n",
              "      <td>0</td>\n",
              "      <td>0</td>\n",
              "      <td>0</td>\n",
              "      <td>0</td>\n",
              "      <td>0</td>\n",
              "      <td>0</td>\n",
              "      <td>0</td>\n",
              "      <td>0</td>\n",
              "      <td>0</td>\n",
              "      <td>0</td>\n",
              "      <td>0</td>\n",
              "      <td>0</td>\n",
              "      <td>0</td>\n",
              "      <td>0</td>\n",
              "      <td>0</td>\n",
              "      <td>0</td>\n",
              "      <td>0</td>\n",
              "      <td>0</td>\n",
              "      <td>0</td>\n",
              "      <td>0</td>\n",
              "      <td>0</td>\n",
              "      <td>...</td>\n",
              "      <td>0</td>\n",
              "      <td>0</td>\n",
              "      <td>0</td>\n",
              "      <td>1</td>\n",
              "      <td>0</td>\n",
              "      <td>1</td>\n",
              "      <td>0</td>\n",
              "      <td>0</td>\n",
              "      <td>0</td>\n",
              "      <td>0</td>\n",
              "      <td>1</td>\n",
              "      <td>0</td>\n",
              "      <td>0</td>\n",
              "      <td>0</td>\n",
              "      <td>0</td>\n",
              "      <td>0</td>\n",
              "      <td>0</td>\n",
              "      <td>0</td>\n",
              "      <td>1</td>\n",
              "      <td>0</td>\n",
              "      <td>0</td>\n",
              "      <td>0</td>\n",
              "      <td>0</td>\n",
              "      <td>1</td>\n",
              "      <td>0</td>\n",
              "      <td>0</td>\n",
              "      <td>0</td>\n",
              "      <td>0</td>\n",
              "      <td>0</td>\n",
              "      <td>0</td>\n",
              "      <td>0</td>\n",
              "      <td>1</td>\n",
              "      <td>0</td>\n",
              "      <td>0</td>\n",
              "      <td>0</td>\n",
              "      <td>0</td>\n",
              "      <td>1</td>\n",
              "      <td>0</td>\n",
              "      <td>0</td>\n",
              "      <td>1</td>\n",
              "    </tr>\n",
              "    <tr>\n",
              "      <th>8841</th>\n",
              "      <td>160017</td>\n",
              "      <td>160032</td>\n",
              "      <td>3.0</td>\n",
              "      <td>0.0</td>\n",
              "      <td>0.0</td>\n",
              "      <td>0.0</td>\n",
              "      <td>0.0</td>\n",
              "      <td>0.0</td>\n",
              "      <td>0.0</td>\n",
              "      <td>0</td>\n",
              "      <td>0</td>\n",
              "      <td>0</td>\n",
              "      <td>0</td>\n",
              "      <td>0</td>\n",
              "      <td>0</td>\n",
              "      <td>0</td>\n",
              "      <td>0</td>\n",
              "      <td>0</td>\n",
              "      <td>0</td>\n",
              "      <td>0</td>\n",
              "      <td>0</td>\n",
              "      <td>0</td>\n",
              "      <td>0</td>\n",
              "      <td>0</td>\n",
              "      <td>0</td>\n",
              "      <td>0</td>\n",
              "      <td>0</td>\n",
              "      <td>0</td>\n",
              "      <td>0</td>\n",
              "      <td>0</td>\n",
              "      <td>0</td>\n",
              "      <td>0</td>\n",
              "      <td>0</td>\n",
              "      <td>0</td>\n",
              "      <td>0</td>\n",
              "      <td>0</td>\n",
              "      <td>0</td>\n",
              "      <td>0</td>\n",
              "      <td>0</td>\n",
              "      <td>0</td>\n",
              "      <td>...</td>\n",
              "      <td>0</td>\n",
              "      <td>0</td>\n",
              "      <td>0</td>\n",
              "      <td>1</td>\n",
              "      <td>0</td>\n",
              "      <td>1</td>\n",
              "      <td>0</td>\n",
              "      <td>0</td>\n",
              "      <td>0</td>\n",
              "      <td>0</td>\n",
              "      <td>1</td>\n",
              "      <td>0</td>\n",
              "      <td>0</td>\n",
              "      <td>0</td>\n",
              "      <td>0</td>\n",
              "      <td>0</td>\n",
              "      <td>0</td>\n",
              "      <td>0</td>\n",
              "      <td>0</td>\n",
              "      <td>1</td>\n",
              "      <td>0</td>\n",
              "      <td>0</td>\n",
              "      <td>0</td>\n",
              "      <td>0</td>\n",
              "      <td>1</td>\n",
              "      <td>0</td>\n",
              "      <td>0</td>\n",
              "      <td>0</td>\n",
              "      <td>0</td>\n",
              "      <td>0</td>\n",
              "      <td>0</td>\n",
              "      <td>0</td>\n",
              "      <td>1</td>\n",
              "      <td>0</td>\n",
              "      <td>0</td>\n",
              "      <td>0</td>\n",
              "      <td>0</td>\n",
              "      <td>1</td>\n",
              "      <td>0</td>\n",
              "      <td>1</td>\n",
              "    </tr>\n",
              "    <tr>\n",
              "      <th>8842</th>\n",
              "      <td>753012</td>\n",
              "      <td>753014</td>\n",
              "      <td>3.0</td>\n",
              "      <td>0.0</td>\n",
              "      <td>0.0</td>\n",
              "      <td>316126.0</td>\n",
              "      <td>9.0</td>\n",
              "      <td>305775.0</td>\n",
              "      <td>8.0</td>\n",
              "      <td>0</td>\n",
              "      <td>0</td>\n",
              "      <td>0</td>\n",
              "      <td>0</td>\n",
              "      <td>0</td>\n",
              "      <td>0</td>\n",
              "      <td>0</td>\n",
              "      <td>0</td>\n",
              "      <td>0</td>\n",
              "      <td>0</td>\n",
              "      <td>0</td>\n",
              "      <td>0</td>\n",
              "      <td>0</td>\n",
              "      <td>0</td>\n",
              "      <td>0</td>\n",
              "      <td>0</td>\n",
              "      <td>0</td>\n",
              "      <td>0</td>\n",
              "      <td>0</td>\n",
              "      <td>0</td>\n",
              "      <td>0</td>\n",
              "      <td>0</td>\n",
              "      <td>0</td>\n",
              "      <td>0</td>\n",
              "      <td>0</td>\n",
              "      <td>0</td>\n",
              "      <td>0</td>\n",
              "      <td>0</td>\n",
              "      <td>0</td>\n",
              "      <td>0</td>\n",
              "      <td>0</td>\n",
              "      <td>...</td>\n",
              "      <td>1</td>\n",
              "      <td>0</td>\n",
              "      <td>1</td>\n",
              "      <td>0</td>\n",
              "      <td>0</td>\n",
              "      <td>1</td>\n",
              "      <td>0</td>\n",
              "      <td>0</td>\n",
              "      <td>0</td>\n",
              "      <td>0</td>\n",
              "      <td>1</td>\n",
              "      <td>0</td>\n",
              "      <td>0</td>\n",
              "      <td>0</td>\n",
              "      <td>0</td>\n",
              "      <td>0</td>\n",
              "      <td>0</td>\n",
              "      <td>0</td>\n",
              "      <td>0</td>\n",
              "      <td>1</td>\n",
              "      <td>0</td>\n",
              "      <td>0</td>\n",
              "      <td>0</td>\n",
              "      <td>0</td>\n",
              "      <td>1</td>\n",
              "      <td>0</td>\n",
              "      <td>0</td>\n",
              "      <td>0</td>\n",
              "      <td>0</td>\n",
              "      <td>0</td>\n",
              "      <td>0</td>\n",
              "      <td>0</td>\n",
              "      <td>1</td>\n",
              "      <td>0</td>\n",
              "      <td>0</td>\n",
              "      <td>0</td>\n",
              "      <td>1</td>\n",
              "      <td>0</td>\n",
              "      <td>0</td>\n",
              "      <td>1</td>\n",
              "    </tr>\n",
              "    <tr>\n",
              "      <th>8843</th>\n",
              "      <td>575003</td>\n",
              "      <td>571248</td>\n",
              "      <td>4.0</td>\n",
              "      <td>0.0</td>\n",
              "      <td>0.0</td>\n",
              "      <td>0.0</td>\n",
              "      <td>0.0</td>\n",
              "      <td>0.0</td>\n",
              "      <td>0.0</td>\n",
              "      <td>0</td>\n",
              "      <td>0</td>\n",
              "      <td>0</td>\n",
              "      <td>0</td>\n",
              "      <td>0</td>\n",
              "      <td>0</td>\n",
              "      <td>0</td>\n",
              "      <td>0</td>\n",
              "      <td>0</td>\n",
              "      <td>0</td>\n",
              "      <td>0</td>\n",
              "      <td>0</td>\n",
              "      <td>0</td>\n",
              "      <td>0</td>\n",
              "      <td>0</td>\n",
              "      <td>0</td>\n",
              "      <td>0</td>\n",
              "      <td>0</td>\n",
              "      <td>0</td>\n",
              "      <td>0</td>\n",
              "      <td>0</td>\n",
              "      <td>0</td>\n",
              "      <td>0</td>\n",
              "      <td>0</td>\n",
              "      <td>0</td>\n",
              "      <td>0</td>\n",
              "      <td>0</td>\n",
              "      <td>0</td>\n",
              "      <td>0</td>\n",
              "      <td>0</td>\n",
              "      <td>0</td>\n",
              "      <td>...</td>\n",
              "      <td>0</td>\n",
              "      <td>1</td>\n",
              "      <td>0</td>\n",
              "      <td>1</td>\n",
              "      <td>0</td>\n",
              "      <td>0</td>\n",
              "      <td>1</td>\n",
              "      <td>0</td>\n",
              "      <td>0</td>\n",
              "      <td>0</td>\n",
              "      <td>1</td>\n",
              "      <td>0</td>\n",
              "      <td>0</td>\n",
              "      <td>0</td>\n",
              "      <td>0</td>\n",
              "      <td>0</td>\n",
              "      <td>0</td>\n",
              "      <td>0</td>\n",
              "      <td>1</td>\n",
              "      <td>0</td>\n",
              "      <td>0</td>\n",
              "      <td>0</td>\n",
              "      <td>0</td>\n",
              "      <td>0</td>\n",
              "      <td>0</td>\n",
              "      <td>1</td>\n",
              "      <td>0</td>\n",
              "      <td>0</td>\n",
              "      <td>0</td>\n",
              "      <td>0</td>\n",
              "      <td>0</td>\n",
              "      <td>0</td>\n",
              "      <td>0</td>\n",
              "      <td>1</td>\n",
              "      <td>0</td>\n",
              "      <td>0</td>\n",
              "      <td>0</td>\n",
              "      <td>1</td>\n",
              "      <td>0</td>\n",
              "      <td>1</td>\n",
              "    </tr>\n",
              "  </tbody>\n",
              "</table>\n",
              "<p>8844 rows × 8892 columns</p>\n",
              "</div>"
            ],
            "text/plain": [
              "      Office_PIN  Applicant_City_PIN  ...  Manager_Gender_F  Manager_Gender_M\n",
              "0         842001              844120  ...                 0                 1\n",
              "1         842001              844111  ...                 0                 1\n",
              "2         800001              844101  ...                 0                 1\n",
              "3         814112              814112  ...                 1                 0\n",
              "4         814112              815351  ...                 0                 1\n",
              "...          ...                 ...  ...               ...               ...\n",
              "8839      250001              250004  ...                 0                 1\n",
              "8840      814112              816118  ...                 0                 1\n",
              "8841      160017              160032  ...                 0                 1\n",
              "8842      753012              753014  ...                 0                 1\n",
              "8843      575003              571248  ...                 0                 1\n",
              "\n",
              "[8844 rows x 8892 columns]"
            ]
          },
          "metadata": {
            "tags": []
          },
          "execution_count": 27
        }
      ]
    },
    {
      "cell_type": "markdown",
      "metadata": {
        "id": "P2OBNIVHm_Eu"
      },
      "source": [
        "## Logistic regression"
      ]
    },
    {
      "cell_type": "markdown",
      "metadata": {
        "id": "wxFuxsLEm_Ev"
      },
      "source": [
        "### Train Test split"
      ]
    },
    {
      "cell_type": "code",
      "metadata": {
        "id": "uhXm2osrm_Ew",
        "colab": {
          "base_uri": "https://localhost:8080/",
          "height": 34
        },
        "outputId": "76d28d9a-b63c-4b3f-b338-d0877a7c722c"
      },
      "source": [
        "x = df.drop(['Business_Sourced'],axis=1)\n",
        "y = df['Business_Sourced']\n",
        "x.shape, y.shape"
      ],
      "execution_count": null,
      "outputs": [
        {
          "output_type": "execute_result",
          "data": {
            "text/plain": [
              "((8844, 8891), (8844,))"
            ]
          },
          "metadata": {
            "tags": []
          },
          "execution_count": 29
        }
      ]
    },
    {
      "cell_type": "code",
      "metadata": {
        "id": "GlpxONqEm_E0"
      },
      "source": [
        "from sklearn.model_selection import train_test_split\n",
        "train_x, valid_x, train_y, valid_y= train_test_split(x, y, test_size = 0.3, random_state=1)"
      ],
      "execution_count": null,
      "outputs": []
    },
    {
      "cell_type": "code",
      "metadata": {
        "id": "0zTSoZX4EWyy"
      },
      "source": [
        ""
      ],
      "execution_count": null,
      "outputs": []
    },
    {
      "cell_type": "markdown",
      "metadata": {
        "id": "BJJZpMNEm_E4"
      },
      "source": [
        "### Linear regression Model"
      ]
    },
    {
      "cell_type": "code",
      "metadata": {
        "id": "HoI3j6iBm_E5"
      },
      "source": [
        "from sklearn.linear_model import LogisticRegression\n",
        "from sklearn.metrics import f1_score, auc\n",
        "from sklearn.metrics import roc_auc_score"
      ],
      "execution_count": null,
      "outputs": []
    },
    {
      "cell_type": "code",
      "metadata": {
        "id": "CF5sFyvXm_E9",
        "colab": {
          "base_uri": "https://localhost:8080/",
          "height": 102
        },
        "outputId": "4bf0fd5f-2254-4bf2-e3aa-ab02c8abd5ee"
      },
      "source": [
        "logreg = LogisticRegression()\n",
        "logreg.fit(train_x, train_y)"
      ],
      "execution_count": null,
      "outputs": [
        {
          "output_type": "execute_result",
          "data": {
            "text/plain": [
              "LogisticRegression(C=1.0, class_weight=None, dual=False, fit_intercept=True,\n",
              "                   intercept_scaling=1, l1_ratio=None, max_iter=100,\n",
              "                   multi_class='auto', n_jobs=None, penalty='l2',\n",
              "                   random_state=None, solver='lbfgs', tol=0.0001, verbose=0,\n",
              "                   warm_start=False)"
            ]
          },
          "metadata": {
            "tags": []
          },
          "execution_count": 32
        }
      ]
    },
    {
      "cell_type": "code",
      "metadata": {
        "id": "LydEWY-1m_FC"
      },
      "source": [
        "pred_train = logreg.predict_proba(train_x)\n",
        "pred_valid = logreg.predict_proba(valid_x)"
      ],
      "execution_count": null,
      "outputs": []
    },
    {
      "cell_type": "code",
      "metadata": {
        "id": "U9wWYAmam_FG",
        "colab": {
          "base_uri": "https://localhost:8080/",
          "height": 34
        },
        "outputId": "57744345-a4bf-4ea3-8ec3-59513579aae2"
      },
      "source": [
        "roc_auc_score(train_y, pred_train[:,1])"
      ],
      "execution_count": null,
      "outputs": [
        {
          "output_type": "execute_result",
          "data": {
            "text/plain": [
              "0.4723339792143738"
            ]
          },
          "metadata": {
            "tags": []
          },
          "execution_count": 36
        }
      ]
    },
    {
      "cell_type": "code",
      "metadata": {
        "id": "7lyzsyjXm_FJ",
        "colab": {
          "base_uri": "https://localhost:8080/",
          "height": 34
        },
        "outputId": "21473d75-8c42-4636-a2f0-820682ed3d87"
      },
      "source": [
        "roc_auc_score(valid_y, pred_valid[:,1])"
      ],
      "execution_count": null,
      "outputs": [
        {
          "output_type": "execute_result",
          "data": {
            "text/plain": [
              "0.4697625904030554"
            ]
          },
          "metadata": {
            "tags": []
          },
          "execution_count": 37
        }
      ]
    },
    {
      "cell_type": "code",
      "metadata": {
        "id": "BLBRwiqY1d_D"
      },
      "source": [
        ""
      ],
      "execution_count": null,
      "outputs": []
    }
  ]
}