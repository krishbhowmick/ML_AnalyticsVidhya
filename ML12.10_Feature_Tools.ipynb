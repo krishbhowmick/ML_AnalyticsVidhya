{
  "nbformat": 4,
  "nbformat_minor": 0,
  "metadata": {
    "kernelspec": {
      "display_name": "Python 3",
      "language": "python",
      "name": "python3"
    },
    "language_info": {
      "codemirror_mode": {
        "name": "ipython",
        "version": 3
      },
      "file_extension": ".py",
      "mimetype": "text/x-python",
      "name": "python",
      "nbconvert_exporter": "python",
      "pygments_lexer": "ipython3",
      "version": "3.6.8"
    },
    "colab": {
      "name": "ML12.10_ Feature Tools.ipynb",
      "provenance": [],
      "include_colab_link": true
    }
  },
  "cells": [
    {
      "cell_type": "markdown",
      "metadata": {
        "id": "view-in-github",
        "colab_type": "text"
      },
      "source": [
        "<a href=\"https://colab.research.google.com/github/krishbhowmick/ML_AnalyticsVidhya/blob/main/ML12.10_Feature_Tools.ipynb\" target=\"_parent\"><img src=\"https://colab.research.google.com/assets/colab-badge.svg\" alt=\"Open In Colab\"/></a>"
      ]
    },
    {
      "cell_type": "markdown",
      "metadata": {
        "id": "T6vRMBUkmU6o"
      },
      "source": [
        "### Featuretools Installation"
      ]
    },
    {
      "cell_type": "markdown",
      "metadata": {
        "id": "iyPfIYhmmU6p"
      },
      "source": [
        "Before Running this notebook, you would need to install featuretools in your system. \n",
        "\n",
        "**Use the following command:**\n",
        "\n",
        "$ python -m pip install featuretools"
      ]
    },
    {
      "cell_type": "markdown",
      "metadata": {
        "id": "w7vFX-S2mU6r"
      },
      "source": [
        "### Load the Dataset"
      ]
    },
    {
      "cell_type": "code",
      "metadata": {
        "id": "EF0rnw2smU6s",
        "colab": {
          "base_uri": "https://localhost:8080/",
          "height": 34
        },
        "outputId": "3ad0ae4f-4e44-445b-b771-110339c74ccb"
      },
      "source": [
        "from google.colab import drive\n",
        "drive.mount('/content/drive/') "
      ],
      "execution_count": null,
      "outputs": [
        {
          "output_type": "stream",
          "text": [
            "Drive already mounted at /content/drive/; to attempt to forcibly remount, call drive.mount(\"/content/drive/\", force_remount=True).\n"
          ],
          "name": "stdout"
        }
      ]
    },
    {
      "cell_type": "code",
      "metadata": {
        "id": "E_KkggA-3aNq"
      },
      "source": [
        "import pandas as pd\n",
        "import featuretools as ft"
      ],
      "execution_count": null,
      "outputs": []
    },
    {
      "cell_type": "code",
      "metadata": {
        "id": "hmZsc8MAmU6z",
        "colab": {
          "base_uri": "https://localhost:8080/",
          "height": 34
        },
        "outputId": "2b1009bf-d6bf-4f34-c841-d43128ac2526"
      },
      "source": [
        "df = pd.read_csv('/content/drive/My Drive/ML_Code/12_Feature Engineering/18.  Implementing Feature tools/train_bm.csv')\n",
        "df.shape"
      ],
      "execution_count": null,
      "outputs": [
        {
          "output_type": "execute_result",
          "data": {
            "text/plain": [
              "(8523, 12)"
            ]
          },
          "metadata": {
            "tags": []
          },
          "execution_count": 7
        }
      ]
    },
    {
      "cell_type": "code",
      "metadata": {
        "id": "vKvsbE9omU65"
      },
      "source": [
        "features = df.drop('Item_Outlet_Sales', axis=1)\n",
        "y = df['Item_Outlet_Sales']"
      ],
      "execution_count": null,
      "outputs": []
    },
    {
      "cell_type": "markdown",
      "metadata": {
        "id": "E2-ixRO5mU6-"
      },
      "source": [
        "### Make an entityset and add the entity\n"
      ]
    },
    {
      "cell_type": "code",
      "metadata": {
        "id": "GEf2FUxVmU6_",
        "colab": {
          "base_uri": "https://localhost:8080/",
          "height": 85
        },
        "outputId": "ca48da02-3345-465f-b39d-e3d150dfb12c"
      },
      "source": [
        "es = ft.EntitySet(id = 'bigmart')\n",
        "es"
      ],
      "execution_count": null,
      "outputs": [
        {
          "output_type": "execute_result",
          "data": {
            "text/plain": [
              "Entityset: bigmart\n",
              "  Entities:\n",
              "  Relationships:\n",
              "    No relationships"
            ]
          },
          "metadata": {
            "tags": []
          },
          "execution_count": 9
        }
      ]
    },
    {
      "cell_type": "markdown",
      "metadata": {
        "id": "XAetWQuSmU7F"
      },
      "source": [
        "### Add data to this entityset created"
      ]
    },
    {
      "cell_type": "code",
      "metadata": {
        "id": "SsRZOGaxmU7G",
        "colab": {
          "base_uri": "https://localhost:8080/",
          "height": 102
        },
        "outputId": "3c96a063-c378-4451-e25d-cd21a587ecd5"
      },
      "source": [
        "es.entity_from_dataframe(entity_id = 'data_1', dataframe = features, \n",
        "                         make_index = True, index = 'index')\n",
        "\n",
        "es"
      ],
      "execution_count": null,
      "outputs": [
        {
          "output_type": "execute_result",
          "data": {
            "text/plain": [
              "Entityset: bigmart\n",
              "  Entities:\n",
              "    data_1 [Rows: 8523, Columns: 12]\n",
              "  Relationships:\n",
              "    No relationships"
            ]
          },
          "metadata": {
            "tags": []
          },
          "execution_count": 10
        }
      ]
    },
    {
      "cell_type": "markdown",
      "metadata": {
        "id": "41sFXhQFmU7L"
      },
      "source": [
        "### Feature Engineering "
      ]
    },
    {
      "cell_type": "code",
      "metadata": {
        "id": "3NVkuMb8mU7M",
        "colab": {
          "base_uri": "https://localhost:8080/",
          "height": 408
        },
        "outputId": "ccda6639-4f39-4618-d4d4-b02633e48a19"
      },
      "source": [
        "# Run deep feature synthesis with transformation primitives\n",
        "feature_matrix, feature_defs = ft.dfs(entityset = es, target_entity = 'data_1', max_depth=1, trans_primitives = ['add_numeric', 'multiply_numeric'])\n",
        "\n",
        "feature_matrix.head()"
      ],
      "execution_count": null,
      "outputs": [
        {
          "output_type": "error",
          "ename": "ValueError",
          "evalue": "ignored",
          "traceback": [
            "\u001b[0;31m---------------------------------------------------------------------------\u001b[0m",
            "\u001b[0;31mValueError\u001b[0m                                Traceback (most recent call last)",
            "\u001b[0;32m<ipython-input-13-b70d03ac18b2>\u001b[0m in \u001b[0;36m<module>\u001b[0;34m()\u001b[0m\n\u001b[1;32m      1\u001b[0m \u001b[0;31m# Run deep feature synthesis with transformation primitives\u001b[0m\u001b[0;34m\u001b[0m\u001b[0;34m\u001b[0m\u001b[0;34m\u001b[0m\u001b[0m\n\u001b[0;32m----> 2\u001b[0;31m \u001b[0mfeature_matrix\u001b[0m\u001b[0;34m,\u001b[0m \u001b[0mfeature_defs\u001b[0m \u001b[0;34m=\u001b[0m \u001b[0mft\u001b[0m\u001b[0;34m.\u001b[0m\u001b[0mdfs\u001b[0m\u001b[0;34m(\u001b[0m\u001b[0mentityset\u001b[0m \u001b[0;34m=\u001b[0m \u001b[0mes\u001b[0m\u001b[0;34m,\u001b[0m \u001b[0mtarget_entity\u001b[0m \u001b[0;34m=\u001b[0m \u001b[0;34m'data_1'\u001b[0m\u001b[0;34m,\u001b[0m \u001b[0mmax_depth\u001b[0m\u001b[0;34m=\u001b[0m\u001b[0;36m1\u001b[0m\u001b[0;34m,\u001b[0m \u001b[0mtrans_primitives\u001b[0m \u001b[0;34m=\u001b[0m \u001b[0;34m[\u001b[0m\u001b[0;34m'add_numeric'\u001b[0m\u001b[0;34m,\u001b[0m \u001b[0;34m'multiply_numeric'\u001b[0m\u001b[0;34m]\u001b[0m\u001b[0;34m)\u001b[0m\u001b[0;34m\u001b[0m\u001b[0;34m\u001b[0m\u001b[0m\n\u001b[0m\u001b[1;32m      3\u001b[0m \u001b[0;34m\u001b[0m\u001b[0m\n\u001b[1;32m      4\u001b[0m \u001b[0mfeature_matrix\u001b[0m\u001b[0;34m.\u001b[0m\u001b[0mhead\u001b[0m\u001b[0;34m(\u001b[0m\u001b[0;34m)\u001b[0m\u001b[0;34m\u001b[0m\u001b[0;34m\u001b[0m\u001b[0m\n",
            "\u001b[0;32m/usr/local/lib/python3.6/dist-packages/featuretools/synthesis/dfs.py\u001b[0m in \u001b[0;36mdfs\u001b[0;34m(entities, relationships, entityset, target_entity, cutoff_time, instance_ids, agg_primitives, trans_primitives, allowed_paths, max_depth, ignore_entities, ignore_variables, seed_features, drop_contains, drop_exact, where_primitives, max_features, cutoff_time_in_index, save_progress, features_only, training_window, approximate, chunk_size, n_jobs, dask_kwargs, verbose)\u001b[0m\n\u001b[1;32m    180\u001b[0m                                       \u001b[0mignore_variables\u001b[0m\u001b[0;34m=\u001b[0m\u001b[0mignore_variables\u001b[0m\u001b[0;34m,\u001b[0m\u001b[0;34m\u001b[0m\u001b[0;34m\u001b[0m\u001b[0m\n\u001b[1;32m    181\u001b[0m                                       \u001b[0mmax_features\u001b[0m\u001b[0;34m=\u001b[0m\u001b[0mmax_features\u001b[0m\u001b[0;34m,\u001b[0m\u001b[0;34m\u001b[0m\u001b[0;34m\u001b[0m\u001b[0m\n\u001b[0;32m--> 182\u001b[0;31m                                       seed_features=seed_features)\n\u001b[0m\u001b[1;32m    183\u001b[0m \u001b[0;34m\u001b[0m\u001b[0m\n\u001b[1;32m    184\u001b[0m     \u001b[0mfeatures\u001b[0m \u001b[0;34m=\u001b[0m \u001b[0mdfs_object\u001b[0m\u001b[0;34m.\u001b[0m\u001b[0mbuild_features\u001b[0m\u001b[0;34m(\u001b[0m\u001b[0mverbose\u001b[0m\u001b[0;34m=\u001b[0m\u001b[0mverbose\u001b[0m\u001b[0;34m)\u001b[0m\u001b[0;34m\u001b[0m\u001b[0;34m\u001b[0m\u001b[0m\n",
            "\u001b[0;32m/usr/local/lib/python3.6/dist-packages/featuretools/synthesis/deep_feature_synthesis.py\u001b[0m in \u001b[0;36m__init__\u001b[0;34m(self, target_entity_id, entityset, agg_primitives, trans_primitives, where_primitives, max_depth, max_hlevel, max_features, allowed_paths, ignore_entities, ignore_variables, seed_features, drop_contains, drop_exact, where_stacking_limit)\u001b[0m\n\u001b[1;32m    154\u001b[0m                     raise ValueError(\"Unknown transform primitive {}. \".format(t),\n\u001b[1;32m    155\u001b[0m                                      \u001b[0;34m\"Call ft.primitives.list_primitives() to get\"\u001b[0m\u001b[0;34m,\u001b[0m\u001b[0;34m\u001b[0m\u001b[0;34m\u001b[0m\u001b[0m\n\u001b[0;32m--> 156\u001b[0;31m                                      \" a list of available primitives\")\n\u001b[0m\u001b[1;32m    157\u001b[0m                 \u001b[0mt\u001b[0m \u001b[0;34m=\u001b[0m \u001b[0mtrans_prim_dict\u001b[0m\u001b[0;34m[\u001b[0m\u001b[0mt\u001b[0m\u001b[0;34m.\u001b[0m\u001b[0mlower\u001b[0m\u001b[0;34m(\u001b[0m\u001b[0;34m)\u001b[0m\u001b[0;34m]\u001b[0m\u001b[0;34m\u001b[0m\u001b[0;34m\u001b[0m\u001b[0m\n\u001b[1;32m    158\u001b[0m \u001b[0;34m\u001b[0m\u001b[0m\n",
            "\u001b[0;31mValueError\u001b[0m: ('Unknown transform primitive add_numeric. ', 'Call ft.primitives.list_primitives() to get', ' a list of available primitives')"
          ]
        }
      ]
    },
    {
      "cell_type": "code",
      "metadata": {
        "id": "XchfSK7AmU7R",
        "colab": {
          "base_uri": "https://localhost:8080/",
          "height": 163
        },
        "outputId": "3b469c3a-04e8-4973-8fac-7198f56d357b"
      },
      "source": [
        "feature_defs"
      ],
      "execution_count": null,
      "outputs": [
        {
          "output_type": "error",
          "ename": "NameError",
          "evalue": "ignored",
          "traceback": [
            "\u001b[0;31m---------------------------------------------------------------------------\u001b[0m",
            "\u001b[0;31mNameError\u001b[0m                                 Traceback (most recent call last)",
            "\u001b[0;32m<ipython-input-12-c33f2a693563>\u001b[0m in \u001b[0;36m<module>\u001b[0;34m()\u001b[0m\n\u001b[0;32m----> 1\u001b[0;31m \u001b[0mfeature_defs\u001b[0m\u001b[0;34m\u001b[0m\u001b[0;34m\u001b[0m\u001b[0m\n\u001b[0m",
            "\u001b[0;31mNameError\u001b[0m: name 'feature_defs' is not defined"
          ]
        }
      ]
    },
    {
      "cell_type": "code",
      "metadata": {
        "id": "Tgfw_k5CmU7W",
        "outputId": "d0d870d8-8d94-4e71-a868-62857f8c06a8"
      },
      "source": [
        "feature_matrix.shape"
      ],
      "execution_count": null,
      "outputs": [
        {
          "output_type": "execute_result",
          "data": {
            "text/plain": [
              "(8523, 23)"
            ]
          },
          "metadata": {
            "tags": []
          },
          "execution_count": 8
        }
      ]
    },
    {
      "cell_type": "code",
      "metadata": {
        "id": "XSDSuJ-bmU7c",
        "outputId": "cd754445-89b3-4d02-c6a8-d56b21f169e4"
      },
      "source": [
        "# Run deep feature synthesis with transformation primitives\n",
        "feature_matrix, feature_defs = ft.dfs(entityset = es, target_entity = 'data_1', max_depth=2,\n",
        "                                      trans_primitives = ['add_numeric', 'multiply_numeric'])\n",
        "\n",
        "feature_matrix.head()"
      ],
      "execution_count": null,
      "outputs": [
        {
          "output_type": "execute_result",
          "data": {
            "text/html": [
              "<div>\n",
              "<style scoped>\n",
              "    .dataframe tbody tr th:only-of-type {\n",
              "        vertical-align: middle;\n",
              "    }\n",
              "\n",
              "    .dataframe tbody tr th {\n",
              "        vertical-align: top;\n",
              "    }\n",
              "\n",
              "    .dataframe thead th {\n",
              "        text-align: right;\n",
              "    }\n",
              "</style>\n",
              "<table border=\"1\" class=\"dataframe\">\n",
              "  <thead>\n",
              "    <tr style=\"text-align: right;\">\n",
              "      <th></th>\n",
              "      <th>Item_Identifier</th>\n",
              "      <th>Item_Weight</th>\n",
              "      <th>Item_Fat_Content</th>\n",
              "      <th>Item_Visibility</th>\n",
              "      <th>Item_Type</th>\n",
              "      <th>Item_MRP</th>\n",
              "      <th>Outlet_Identifier</th>\n",
              "      <th>Outlet_Establishment_Year</th>\n",
              "      <th>Outlet_Size</th>\n",
              "      <th>Outlet_Location_Type</th>\n",
              "      <th>...</th>\n",
              "      <th>Item_MRP + Item_Weight * Item_Weight + Outlet_Establishment_Year</th>\n",
              "      <th>Item_MRP + Outlet_Establishment_Year * Item_Weight + Outlet_Establishment_Year</th>\n",
              "      <th>Item_MRP * Item_Visibility + Item_Weight</th>\n",
              "      <th>Item_MRP + Outlet_Establishment_Year * Item_Weight</th>\n",
              "      <th>Item_Visibility + Outlet_Establishment_Year * Item_Weight</th>\n",
              "      <th>Item_Weight + Outlet_Establishment_Year * Outlet_Establishment_Year</th>\n",
              "      <th>Item_Visibility * Item_Visibility + Outlet_Establishment_Year</th>\n",
              "      <th>Item_MRP + Item_Visibility * Item_Visibility + Item_Weight</th>\n",
              "      <th>Item_Visibility * Item_Visibility + Item_Weight</th>\n",
              "      <th>Item_MRP + Item_Weight * Item_Visibility + Item_Weight</th>\n",
              "    </tr>\n",
              "    <tr>\n",
              "      <th>index</th>\n",
              "      <th></th>\n",
              "      <th></th>\n",
              "      <th></th>\n",
              "      <th></th>\n",
              "      <th></th>\n",
              "      <th></th>\n",
              "      <th></th>\n",
              "      <th></th>\n",
              "      <th></th>\n",
              "      <th></th>\n",
              "      <th></th>\n",
              "      <th></th>\n",
              "      <th></th>\n",
              "      <th></th>\n",
              "      <th></th>\n",
              "      <th></th>\n",
              "      <th></th>\n",
              "      <th></th>\n",
              "      <th></th>\n",
              "      <th></th>\n",
              "      <th></th>\n",
              "    </tr>\n",
              "  </thead>\n",
              "  <tbody>\n",
              "    <tr>\n",
              "      <th>0</th>\n",
              "      <td>FDA15</td>\n",
              "      <td>9.30</td>\n",
              "      <td>Low Fat</td>\n",
              "      <td>0.016047</td>\n",
              "      <td>Dairy</td>\n",
              "      <td>249.8092</td>\n",
              "      <td>OUT049</td>\n",
              "      <td>1999</td>\n",
              "      <td>Medium</td>\n",
              "      <td>Tier 1</td>\n",
              "      <td>...</td>\n",
              "      <td>520369.006360</td>\n",
              "      <td>4.516284e+06</td>\n",
              "      <td>2327.234323</td>\n",
              "      <td>20913.925560</td>\n",
              "      <td>18590.849240</td>\n",
              "      <td>4014591.70</td>\n",
              "      <td>32.078812</td>\n",
              "      <td>2327.383821</td>\n",
              "      <td>0.149497</td>\n",
              "      <td>2413.873563</td>\n",
              "    </tr>\n",
              "    <tr>\n",
              "      <th>1</th>\n",
              "      <td>DRC01</td>\n",
              "      <td>5.92</td>\n",
              "      <td>Regular</td>\n",
              "      <td>0.019278</td>\n",
              "      <td>Soft Drinks</td>\n",
              "      <td>48.2692</td>\n",
              "      <td>OUT018</td>\n",
              "      <td>2009</td>\n",
              "      <td>Medium</td>\n",
              "      <td>Tier 3</td>\n",
              "      <td>...</td>\n",
              "      <td>109186.902864</td>\n",
              "      <td>4.145233e+06</td>\n",
              "      <td>286.684208</td>\n",
              "      <td>12179.033664</td>\n",
              "      <td>11893.394127</td>\n",
              "      <td>4047974.28</td>\n",
              "      <td>38.730308</td>\n",
              "      <td>286.798707</td>\n",
              "      <td>0.114499</td>\n",
              "      <td>321.844735</td>\n",
              "    </tr>\n",
              "    <tr>\n",
              "      <th>2</th>\n",
              "      <td>FDN15</td>\n",
              "      <td>17.50</td>\n",
              "      <td>Low Fat</td>\n",
              "      <td>0.016760</td>\n",
              "      <td>Meat</td>\n",
              "      <td>141.6180</td>\n",
              "      <td>OUT049</td>\n",
              "      <td>1999</td>\n",
              "      <td>Medium</td>\n",
              "      <td>Tier 1</td>\n",
              "      <td>...</td>\n",
              "      <td>320861.447000</td>\n",
              "      <td>4.316556e+06</td>\n",
              "      <td>2480.688528</td>\n",
              "      <td>37460.815000</td>\n",
              "      <td>34982.793301</td>\n",
              "      <td>4030983.50</td>\n",
              "      <td>33.503671</td>\n",
              "      <td>2480.982111</td>\n",
              "      <td>0.293582</td>\n",
              "      <td>2787.231830</td>\n",
              "    </tr>\n",
              "    <tr>\n",
              "      <th>3</th>\n",
              "      <td>FDX07</td>\n",
              "      <td>19.20</td>\n",
              "      <td>Regular</td>\n",
              "      <td>0.000000</td>\n",
              "      <td>Fruits and Vegetables</td>\n",
              "      <td>182.0950</td>\n",
              "      <td>OUT010</td>\n",
              "      <td>1998</td>\n",
              "      <td>NaN</td>\n",
              "      <td>Tier 3</td>\n",
              "      <td>...</td>\n",
              "      <td>406052.274000</td>\n",
              "      <td>4.397688e+06</td>\n",
              "      <td>3496.224000</td>\n",
              "      <td>41857.824000</td>\n",
              "      <td>38361.600000</td>\n",
              "      <td>4030365.60</td>\n",
              "      <td>0.000000</td>\n",
              "      <td>3496.224000</td>\n",
              "      <td>0.000000</td>\n",
              "      <td>3864.864000</td>\n",
              "    </tr>\n",
              "    <tr>\n",
              "      <th>4</th>\n",
              "      <td>NCD19</td>\n",
              "      <td>8.93</td>\n",
              "      <td>Low Fat</td>\n",
              "      <td>0.000000</td>\n",
              "      <td>Household</td>\n",
              "      <td>53.8614</td>\n",
              "      <td>OUT013</td>\n",
              "      <td>1987</td>\n",
              "      <td>High</td>\n",
              "      <td>Tier 3</td>\n",
              "      <td>...</td>\n",
              "      <td>125327.239002</td>\n",
              "      <td>4.073416e+06</td>\n",
              "      <td>480.982302</td>\n",
              "      <td>18224.892302</td>\n",
              "      <td>17743.910000</td>\n",
              "      <td>3965912.91</td>\n",
              "      <td>0.000000</td>\n",
              "      <td>480.982302</td>\n",
              "      <td>0.000000</td>\n",
              "      <td>560.727202</td>\n",
              "    </tr>\n",
              "  </tbody>\n",
              "</table>\n",
              "<p>5 rows × 62 columns</p>\n",
              "</div>"
            ],
            "text/plain": [
              "      Item_Identifier  Item_Weight Item_Fat_Content  Item_Visibility  \\\n",
              "index                                                                  \n",
              "0               FDA15         9.30          Low Fat         0.016047   \n",
              "1               DRC01         5.92          Regular         0.019278   \n",
              "2               FDN15        17.50          Low Fat         0.016760   \n",
              "3               FDX07        19.20          Regular         0.000000   \n",
              "4               NCD19         8.93          Low Fat         0.000000   \n",
              "\n",
              "                   Item_Type  Item_MRP Outlet_Identifier  \\\n",
              "index                                                      \n",
              "0                      Dairy  249.8092            OUT049   \n",
              "1                Soft Drinks   48.2692            OUT018   \n",
              "2                       Meat  141.6180            OUT049   \n",
              "3      Fruits and Vegetables  182.0950            OUT010   \n",
              "4                  Household   53.8614            OUT013   \n",
              "\n",
              "       Outlet_Establishment_Year Outlet_Size Outlet_Location_Type  \\\n",
              "index                                                               \n",
              "0                           1999      Medium               Tier 1   \n",
              "1                           2009      Medium               Tier 3   \n",
              "2                           1999      Medium               Tier 1   \n",
              "3                           1998         NaN               Tier 3   \n",
              "4                           1987        High               Tier 3   \n",
              "\n",
              "                                ...                            \\\n",
              "index                           ...                             \n",
              "0                               ...                             \n",
              "1                               ...                             \n",
              "2                               ...                             \n",
              "3                               ...                             \n",
              "4                               ...                             \n",
              "\n",
              "      Item_MRP + Item_Weight * Item_Weight + Outlet_Establishment_Year  \\\n",
              "index                                                                    \n",
              "0                                          520369.006360                 \n",
              "1                                          109186.902864                 \n",
              "2                                          320861.447000                 \n",
              "3                                          406052.274000                 \n",
              "4                                          125327.239002                 \n",
              "\n",
              "       Item_MRP + Outlet_Establishment_Year * Item_Weight + Outlet_Establishment_Year  \\\n",
              "index                                                                                   \n",
              "0                                           4.516284e+06                                \n",
              "1                                           4.145233e+06                                \n",
              "2                                           4.316556e+06                                \n",
              "3                                           4.397688e+06                                \n",
              "4                                           4.073416e+06                                \n",
              "\n",
              "       Item_MRP * Item_Visibility + Item_Weight  \\\n",
              "index                                             \n",
              "0                                   2327.234323   \n",
              "1                                    286.684208   \n",
              "2                                   2480.688528   \n",
              "3                                   3496.224000   \n",
              "4                                    480.982302   \n",
              "\n",
              "       Item_MRP + Outlet_Establishment_Year * Item_Weight  \\\n",
              "index                                                       \n",
              "0                                           20913.925560    \n",
              "1                                           12179.033664    \n",
              "2                                           37460.815000    \n",
              "3                                           41857.824000    \n",
              "4                                           18224.892302    \n",
              "\n",
              "       Item_Visibility + Outlet_Establishment_Year * Item_Weight  \\\n",
              "index                                                              \n",
              "0                                           18590.849240           \n",
              "1                                           11893.394127           \n",
              "2                                           34982.793301           \n",
              "3                                           38361.600000           \n",
              "4                                           17743.910000           \n",
              "\n",
              "       Item_Weight + Outlet_Establishment_Year * Outlet_Establishment_Year  \\\n",
              "index                                                                        \n",
              "0                                             4014591.70                     \n",
              "1                                             4047974.28                     \n",
              "2                                             4030983.50                     \n",
              "3                                             4030365.60                     \n",
              "4                                             3965912.91                     \n",
              "\n",
              "       Item_Visibility * Item_Visibility + Outlet_Establishment_Year  \\\n",
              "index                                                                  \n",
              "0                                              32.078812               \n",
              "1                                              38.730308               \n",
              "2                                              33.503671               \n",
              "3                                               0.000000               \n",
              "4                                               0.000000               \n",
              "\n",
              "       Item_MRP + Item_Visibility * Item_Visibility + Item_Weight  \\\n",
              "index                                                               \n",
              "0                                            2327.383821            \n",
              "1                                             286.798707            \n",
              "2                                            2480.982111            \n",
              "3                                            3496.224000            \n",
              "4                                             480.982302            \n",
              "\n",
              "       Item_Visibility * Item_Visibility + Item_Weight  \\\n",
              "index                                                    \n",
              "0                                             0.149497   \n",
              "1                                             0.114499   \n",
              "2                                             0.293582   \n",
              "3                                             0.000000   \n",
              "4                                             0.000000   \n",
              "\n",
              "       Item_MRP + Item_Weight * Item_Visibility + Item_Weight  \n",
              "index                                                          \n",
              "0                                            2413.873563       \n",
              "1                                             321.844735       \n",
              "2                                            2787.231830       \n",
              "3                                            3864.864000       \n",
              "4                                             560.727202       \n",
              "\n",
              "[5 rows x 62 columns]"
            ]
          },
          "metadata": {
            "tags": []
          },
          "execution_count": 9
        }
      ]
    },
    {
      "cell_type": "code",
      "metadata": {
        "id": "fS4MqvfAmU7g",
        "outputId": "682090cb-6ae1-4fe5-d653-2892f7e9e622"
      },
      "source": [
        "feature_defs"
      ],
      "execution_count": null,
      "outputs": [
        {
          "output_type": "execute_result",
          "data": {
            "text/plain": [
              "[<Feature: Item_Identifier>,\n",
              " <Feature: Item_Weight>,\n",
              " <Feature: Item_Fat_Content>,\n",
              " <Feature: Item_Visibility>,\n",
              " <Feature: Item_Type>,\n",
              " <Feature: Item_MRP>,\n",
              " <Feature: Outlet_Identifier>,\n",
              " <Feature: Outlet_Establishment_Year>,\n",
              " <Feature: Outlet_Size>,\n",
              " <Feature: Outlet_Location_Type>,\n",
              " <Feature: Outlet_Type>,\n",
              " <Feature: Item_MRP + Item_Visibility>,\n",
              " <Feature: Item_Weight + Outlet_Establishment_Year>,\n",
              " <Feature: Item_Visibility + Outlet_Establishment_Year>,\n",
              " <Feature: Item_MRP + Item_Weight>,\n",
              " <Feature: Item_MRP + Outlet_Establishment_Year>,\n",
              " <Feature: Item_Visibility + Item_Weight>,\n",
              " <Feature: Item_Visibility * Outlet_Establishment_Year>,\n",
              " <Feature: Item_MRP * Item_Visibility>,\n",
              " <Feature: Item_Visibility * Item_Weight>,\n",
              " <Feature: Item_Weight * Outlet_Establishment_Year>,\n",
              " <Feature: Item_MRP * Item_Weight>,\n",
              " <Feature: Item_MRP * Outlet_Establishment_Year>,\n",
              " <Feature: Item_MRP * Item_MRP + Item_Weight>,\n",
              " <Feature: Item_MRP + Outlet_Establishment_Year * Outlet_Establishment_Year>,\n",
              " <Feature: Item_Visibility + Outlet_Establishment_Year * Outlet_Establishment_Year>,\n",
              " <Feature: Item_Weight * Item_Weight + Outlet_Establishment_Year>,\n",
              " <Feature: Item_MRP + Item_Weight * Item_Visibility + Outlet_Establishment_Year>,\n",
              " <Feature: Item_MRP + Item_Weight * Item_Weight>,\n",
              " <Feature: Item_MRP + Item_Visibility * Item_Visibility + Outlet_Establishment_Year>,\n",
              " <Feature: Item_Visibility + Item_Weight * Item_Weight>,\n",
              " <Feature: Item_MRP + Item_Weight * Item_MRP + Outlet_Establishment_Year>,\n",
              " <Feature: Item_MRP + Item_Visibility * Item_MRP + Outlet_Establishment_Year>,\n",
              " <Feature: Item_Visibility + Item_Weight * Item_Visibility + Outlet_Establishment_Year>,\n",
              " <Feature: Item_MRP + Item_Visibility * Item_Weight>,\n",
              " <Feature: Item_MRP + Item_Visibility * Item_Weight + Outlet_Establishment_Year>,\n",
              " <Feature: Item_MRP * Item_Weight + Outlet_Establishment_Year>,\n",
              " <Feature: Item_Visibility + Outlet_Establishment_Year * Item_Weight + Outlet_Establishment_Year>,\n",
              " <Feature: Item_MRP + Item_Weight * Item_Visibility>,\n",
              " <Feature: Item_MRP + Item_Visibility * Item_Visibility>,\n",
              " <Feature: Item_MRP + Outlet_Establishment_Year * Item_Visibility + Item_Weight>,\n",
              " <Feature: Item_MRP + Outlet_Establishment_Year * Item_Visibility>,\n",
              " <Feature: Item_MRP + Item_Visibility * Item_MRP + Item_Weight>,\n",
              " <Feature: Item_Visibility * Item_Weight + Outlet_Establishment_Year>,\n",
              " <Feature: Item_MRP * Item_MRP + Item_Visibility>,\n",
              " <Feature: Item_MRP * Item_MRP + Outlet_Establishment_Year>,\n",
              " <Feature: Item_MRP * Item_Visibility + Outlet_Establishment_Year>,\n",
              " <Feature: Item_MRP + Item_Visibility * Outlet_Establishment_Year>,\n",
              " <Feature: Item_MRP + Outlet_Establishment_Year * Item_Visibility + Outlet_Establishment_Year>,\n",
              " <Feature: Item_Visibility + Item_Weight * Outlet_Establishment_Year>,\n",
              " <Feature: Item_Visibility + Item_Weight * Item_Weight + Outlet_Establishment_Year>,\n",
              " <Feature: Item_MRP + Item_Weight * Outlet_Establishment_Year>,\n",
              " <Feature: Item_MRP + Item_Weight * Item_Weight + Outlet_Establishment_Year>,\n",
              " <Feature: Item_MRP + Outlet_Establishment_Year * Item_Weight + Outlet_Establishment_Year>,\n",
              " <Feature: Item_MRP * Item_Visibility + Item_Weight>,\n",
              " <Feature: Item_MRP + Outlet_Establishment_Year * Item_Weight>,\n",
              " <Feature: Item_Visibility + Outlet_Establishment_Year * Item_Weight>,\n",
              " <Feature: Item_Weight + Outlet_Establishment_Year * Outlet_Establishment_Year>,\n",
              " <Feature: Item_Visibility * Item_Visibility + Outlet_Establishment_Year>,\n",
              " <Feature: Item_MRP + Item_Visibility * Item_Visibility + Item_Weight>,\n",
              " <Feature: Item_Visibility * Item_Visibility + Item_Weight>,\n",
              " <Feature: Item_MRP + Item_Weight * Item_Visibility + Item_Weight>]"
            ]
          },
          "metadata": {
            "tags": []
          },
          "execution_count": 10
        }
      ]
    }
  ]
}