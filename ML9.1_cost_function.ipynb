{
  "nbformat": 4,
  "nbformat_minor": 0,
  "metadata": {
    "colab": {
      "name": "ML9.1_cost_function.ipynb",
      "provenance": [],
      "collapsed_sections": [],
      "include_colab_link": true
    },
    "kernelspec": {
      "display_name": "Python 3",
      "language": "python",
      "name": "python3"
    },
    "language_info": {
      "codemirror_mode": {
        "name": "ipython",
        "version": 3
      },
      "file_extension": ".py",
      "mimetype": "text/x-python",
      "name": "python",
      "nbconvert_exporter": "python",
      "pygments_lexer": "ipython3",
      "version": "3.6.5"
    }
  },
  "cells": [
    {
      "cell_type": "markdown",
      "metadata": {
        "id": "view-in-github",
        "colab_type": "text"
      },
      "source": [
        "<a href=\"https://colab.research.google.com/github/krishbhowmick/ML_AnalyticsVidhya/blob/main/ML9.1_cost_function.ipynb\" target=\"_parent\"><img src=\"https://colab.research.google.com/assets/colab-badge.svg\" alt=\"Open In Colab\"/></a>"
      ]
    },
    {
      "cell_type": "markdown",
      "metadata": {
        "id": "fYOHTuW3W7Is"
      },
      "source": [
        "# Cost Function"
      ]
    },
    {
      "cell_type": "code",
      "metadata": {
        "id": "GlJaXfg0iyr8",
        "colab": {
          "base_uri": "https://localhost:8080/",
          "height": 122
        },
        "outputId": "bac04969-2c0d-4578-f020-de5146fc74ee"
      },
      "source": [
        "from google.colab import drive\n",
        "drive.mount('/content/drive/')"
      ],
      "execution_count": null,
      "outputs": [
        {
          "output_type": "stream",
          "text": [
            "Go to this URL in a browser: https://accounts.google.com/o/oauth2/auth?client_id=947318989803-6bn6qk8qdgf4n4g3pfee6491hc0brc4i.apps.googleusercontent.com&redirect_uri=urn%3aietf%3awg%3aoauth%3a2.0%3aoob&response_type=code&scope=email%20https%3a%2f%2fwww.googleapis.com%2fauth%2fdocs.test%20https%3a%2f%2fwww.googleapis.com%2fauth%2fdrive%20https%3a%2f%2fwww.googleapis.com%2fauth%2fdrive.photos.readonly%20https%3a%2f%2fwww.googleapis.com%2fauth%2fpeopleapi.readonly\n",
            "\n",
            "Enter your authorization code:\n",
            "··········\n",
            "Mounted at /content/drive/\n"
          ],
          "name": "stdout"
        }
      ]
    },
    {
      "cell_type": "code",
      "metadata": {
        "id": "lDJJV3vUX6mF"
      },
      "source": [
        "#import the libraries\n",
        "import matplotlib.pyplot as plt\n",
        "import pandas as pd\n",
        "from sklearn.metrics import mean_squared_error as mse"
      ],
      "execution_count": null,
      "outputs": []
    },
    {
      "cell_type": "markdown",
      "metadata": {
        "id": "2Fh-DhXGW-Q7"
      },
      "source": [
        "## Creating sample Data"
      ]
    },
    {
      "cell_type": "code",
      "metadata": {
        "id": "RUr712Sti5A8",
        "colab": {
          "base_uri": "https://localhost:8080/",
          "height": 204
        },
        "outputId": "78c2f311-174c-4f94-8ad8-54e0c83bb19e"
      },
      "source": [
        "# creating the sample dataset\n",
        "experience = [1.2,1.5,1.9,2.2,2.4,2.5,2.8,3.1,3.3,3.7,4.2,4.4]\n",
        "salary     = [1.7,2.4,2.3,3.1,3.7,4.2,4.4,6.1,5.4,5.7,6.4,6.2]\n",
        "\n",
        "data = pd.DataFrame({ \"salary\" : salary, \"experience\"   : experience })\n",
        "data.head()"
      ],
      "execution_count": null,
      "outputs": [
        {
          "output_type": "execute_result",
          "data": {
            "text/html": [
              "<div>\n",
              "<style scoped>\n",
              "    .dataframe tbody tr th:only-of-type {\n",
              "        vertical-align: middle;\n",
              "    }\n",
              "\n",
              "    .dataframe tbody tr th {\n",
              "        vertical-align: top;\n",
              "    }\n",
              "\n",
              "    .dataframe thead th {\n",
              "        text-align: right;\n",
              "    }\n",
              "</style>\n",
              "<table border=\"1\" class=\"dataframe\">\n",
              "  <thead>\n",
              "    <tr style=\"text-align: right;\">\n",
              "      <th></th>\n",
              "      <th>salary</th>\n",
              "      <th>experience</th>\n",
              "    </tr>\n",
              "  </thead>\n",
              "  <tbody>\n",
              "    <tr>\n",
              "      <th>0</th>\n",
              "      <td>1.7</td>\n",
              "      <td>1.2</td>\n",
              "    </tr>\n",
              "    <tr>\n",
              "      <th>1</th>\n",
              "      <td>2.4</td>\n",
              "      <td>1.5</td>\n",
              "    </tr>\n",
              "    <tr>\n",
              "      <th>2</th>\n",
              "      <td>2.3</td>\n",
              "      <td>1.9</td>\n",
              "    </tr>\n",
              "    <tr>\n",
              "      <th>3</th>\n",
              "      <td>3.1</td>\n",
              "      <td>2.2</td>\n",
              "    </tr>\n",
              "    <tr>\n",
              "      <th>4</th>\n",
              "      <td>3.7</td>\n",
              "      <td>2.4</td>\n",
              "    </tr>\n",
              "  </tbody>\n",
              "</table>\n",
              "</div>"
            ],
            "text/plain": [
              "   salary  experience\n",
              "0     1.7         1.2\n",
              "1     2.4         1.5\n",
              "2     2.3         1.9\n",
              "3     3.1         2.2\n",
              "4     3.7         2.4"
            ]
          },
          "metadata": {
            "tags": []
          },
          "execution_count": 2
        }
      ]
    },
    {
      "cell_type": "markdown",
      "metadata": {
        "id": "V5VGnEofXDUh"
      },
      "source": [
        "## Plotting th data"
      ]
    },
    {
      "cell_type": "code",
      "metadata": {
        "id": "DdENo57dj6hn",
        "colab": {
          "base_uri": "https://localhost:8080/",
          "height": 300
        },
        "outputId": "484a913d-926a-446b-ec10-c55a42debdb4"
      },
      "source": [
        "# plotting the data\n",
        "plt.scatter(data.experience, data.salary, color = 'red', label = 'data points')\n",
        "plt.xlim(1,5)\n",
        "plt.ylim(1,7)\n",
        "plt.xlabel('experience')\n",
        "plt.ylabel('salary')\n",
        "plt.legend()"
      ],
      "execution_count": null,
      "outputs": [
        {
          "output_type": "execute_result",
          "data": {
            "text/plain": [
              "<matplotlib.legend.Legend at 0x7f25fbdd9358>"
            ]
          },
          "metadata": {
            "tags": []
          },
          "execution_count": 3
        },
        {
          "output_type": "display_data",
          "data": {
            "image/png": "[encoded data removed]",
            "text/plain": [
              "<Figure size 432x288 with 1 Axes>"
            ]
          },
          "metadata": {
            "tags": [],
            "needs_background": "light"
          }
        }
      ]
    },
    {
      "cell_type": "markdown",
      "metadata": {
        "id": "XrG641GxmFfl"
      },
      "source": [
        "## Starting the Line using small values of parameters"
      ]
    },
    {
      "cell_type": "code",
      "metadata": {
        "id": "aToNdLtGkxVR",
        "colab": {
          "base_uri": "https://localhost:8080/",
          "height": 295
        },
        "outputId": "8303c7b7-3c2d-4b88-9771-52309a558385"
      },
      "source": [
        "# making lines for different Values of Beta 0.1, 0.8, 1.5\n",
        "beta = 0.8\n",
        "# keeping intercept constant\n",
        "b = 1.2\n",
        "\n",
        "\n",
        "# to store predicted points\n",
        "line1 = []\n",
        "\n",
        "# generating predictions for every data point\n",
        "for i in range(len(data)):\n",
        "    line1.append(data.experience[i]*beta + b)\n",
        "\n",
        "# Plotting the line\n",
        "plt.scatter(data.experience, data.salary, color = 'red')\n",
        "plt.plot(data.experience, line1, color = 'black', label = 'line')\n",
        "plt.xlim(1,4.5)\n",
        "plt.ylim(1,7)\n",
        "plt.xlabel('Experience')\n",
        "plt.ylabel('Salary')\n",
        "plt.legend()\n",
        "MSE = mse(data.salary, line1)\n",
        "plt.title(\"Beta value \"+str(beta)+\" with MSE \"+ str(MSE))\n",
        "MSE = mse(data.salary, line1) "
      ],
      "execution_count": null,
      "outputs": [
        {
          "output_type": "display_data",
          "data": {
            "image/png": "[encoded data removed]",
            "text/plain": [
              "<Figure size 432x288 with 1 Axes>"
            ]
          },
          "metadata": {
            "tags": [],
            "needs_background": "light"
          }
        }
      ]
    },
    {
      "cell_type": "markdown",
      "metadata": {
        "id": "2jQjyBbX_2jU"
      },
      "source": [
        "<img src=\"Multiple_plots.png\">"
      ]
    },
    {
      "cell_type": "markdown",
      "metadata": {
        "id": "Jay4VzpOYNoS"
      },
      "source": [
        "## Computing Cost over a range of values of Beta"
      ]
    },
    {
      "cell_type": "code",
      "metadata": {
        "id": "qutpG7MHPE6a"
      },
      "source": [
        "# function to calculate error\n",
        "\n",
        "def Error(Beta, data):\n",
        "  # b is constant\n",
        "    b = 1.1\n",
        "  \n",
        "    salary = []\n",
        "    experience  = data.experience\n",
        "  \n",
        "  # Loop to calculate predict salary variables\n",
        "    for i in range(len(data.experience)):\n",
        "        tmp = data.experience[i] * Beta + b\n",
        "        salary.append(tmp)\n",
        "    MSE = mse(data.salary, salary)                      # Mean square error\n",
        "    return MSE"
      ],
      "execution_count": null,
      "outputs": []
    },
    {
      "cell_type": "code",
      "metadata": {
        "id": "GZUCsxP5QHb-"
      },
      "source": [
        "# Range of slopes from 0 to 1.5 with increment of 0.01\n",
        "slope = [i/100 for i in range(0,150)]\n",
        "Cost = []\n",
        "for i in slope:\n",
        "    cost = Error( Beta = i, data = data)\n",
        "    Cost.append(cost)"
      ],
      "execution_count": null,
      "outputs": []
    },
    {
      "cell_type": "code",
      "metadata": {
        "id": "TkTVWJE3UL1y",
        "colab": {
          "base_uri": "https://localhost:8080/",
          "height": 204
        },
        "outputId": "6734e46e-1636-44b4-cdbe-16a6f2d59587"
      },
      "source": [
        "# Arranging in DataFrame\n",
        "Cost_table = pd.DataFrame({\n",
        "    'Beta' : slope,\n",
        "    'Cost' : Cost\n",
        "})\n",
        "Cost_table.head()"
      ],
      "execution_count": null,
      "outputs": [
        {
          "output_type": "execute_result",
          "data": {
            "text/html": [
              "<div>\n",
              "<style scoped>\n",
              "    .dataframe tbody tr th:only-of-type {\n",
              "        vertical-align: middle;\n",
              "    }\n",
              "\n",
              "    .dataframe tbody tr th {\n",
              "        vertical-align: top;\n",
              "    }\n",
              "\n",
              "    .dataframe thead th {\n",
              "        text-align: right;\n",
              "    }\n",
              "</style>\n",
              "<table border=\"1\" class=\"dataframe\">\n",
              "  <thead>\n",
              "    <tr style=\"text-align: right;\">\n",
              "      <th></th>\n",
              "      <th>Beta</th>\n",
              "      <th>Cost</th>\n",
              "    </tr>\n",
              "  </thead>\n",
              "  <tbody>\n",
              "    <tr>\n",
              "      <th>0</th>\n",
              "      <td>0.00</td>\n",
              "      <td>12.791667</td>\n",
              "    </tr>\n",
              "    <tr>\n",
              "      <th>1</th>\n",
              "      <td>0.01</td>\n",
              "      <td>12.585876</td>\n",
              "    </tr>\n",
              "    <tr>\n",
              "      <th>2</th>\n",
              "      <td>0.02</td>\n",
              "      <td>12.381806</td>\n",
              "    </tr>\n",
              "    <tr>\n",
              "      <th>3</th>\n",
              "      <td>0.03</td>\n",
              "      <td>12.179455</td>\n",
              "    </tr>\n",
              "    <tr>\n",
              "      <th>4</th>\n",
              "      <td>0.04</td>\n",
              "      <td>11.978824</td>\n",
              "    </tr>\n",
              "  </tbody>\n",
              "</table>\n",
              "</div>"
            ],
            "text/plain": [
              "   Beta       Cost\n",
              "0  0.00  12.791667\n",
              "1  0.01  12.585876\n",
              "2  0.02  12.381806\n",
              "3  0.03  12.179455\n",
              "4  0.04  11.978824"
            ]
          },
          "metadata": {
            "tags": []
          },
          "execution_count": 21
        }
      ]
    },
    {
      "cell_type": "markdown",
      "metadata": {
        "id": "SjZYXIulZ2bA"
      },
      "source": [
        "## Visualising cost with respect to Beta"
      ]
    },
    {
      "cell_type": "code",
      "metadata": {
        "id": "UN-dV1GUU6RH",
        "colab": {
          "base_uri": "https://localhost:8080/",
          "height": 296
        },
        "outputId": "d4cb907c-187b-493e-9ace-e664cb0fd781"
      },
      "source": [
        "# plotting the cost values corresponding to every value of Beta\n",
        "plt.plot(Cost_table.Beta, Cost_table.Cost, color = 'blue', label = 'Cost Function Curve')\n",
        "plt.xlabel('Value of Beta')\n",
        "plt.ylabel('Cost')\n",
        "plt.legend()"
      ],
      "execution_count": null,
      "outputs": [
        {
          "output_type": "execute_result",
          "data": {
            "text/plain": [
              "<matplotlib.legend.Legend at 0x7f25fbd5e320>"
            ]
          },
          "metadata": {
            "tags": []
          },
          "execution_count": 22
        },
        {
          "output_type": "display_data",
          "data": {
            "image/png": "[encoded data removed]",
            "text/plain": [
              "<Figure size 432x288 with 1 Axes>"
            ]
          },
          "metadata": {
            "tags": [],
            "needs_background": "light"
          }
        }
      ]
    },
    {
      "cell_type": "markdown",
      "metadata": {
        "id": "J5AUOlfw5xlv"
      },
      "source": [
        "# **NOw**"
      ]
    },
    {
      "cell_type": "code",
      "metadata": {
        "id": "ETiiKRSQbqFh",
        "colab": {
          "base_uri": "https://localhost:8080/",
          "height": 295
        },
        "outputId": "8cf6a25d-79cd-48ac-fc38-93e9ea0fe648"
      },
      "source": [
        "# making lines for different Values of Beta 0.1, 0.8, 1.5\n",
        "beta = 0.8\n",
        "# keeping intercept constant\n",
        "b = 1.2\n",
        "\n",
        "# to store predicted points\n",
        "line1 = []\n",
        "\n",
        "# generating predictions for every data point\n",
        "for i in range(len(data)):\n",
        "    line1.append(data.experience[i]*beta + b)\n",
        "\n",
        "# Plotting the line\n",
        "plt.scatter(data.experience, data.salary, color = 'red')\n",
        "plt.plot(data.experience, line1, color = 'black', label = 'line')\n",
        "plt.xlim(1,4.5)\n",
        "plt.ylim(1,7)\n",
        "plt.xlabel('Experience')\n",
        "plt.ylabel('Salary')\n",
        "plt.legend()\n",
        "MSE = mse(data.salary, line1)\n",
        "plt.title(\"Beta value \"+str(beta)+\" with MSE \"+ str(MSE))\n",
        "MSE = mse(data.salary, line1)"
      ],
      "execution_count": null,
      "outputs": [
        {
          "output_type": "display_data",
          "data": {
            "image/png": "[encoded data removed]",
            "text/plain": [
              "<Figure size 432x288 with 1 Axes>"
            ]
          },
          "metadata": {
            "tags": [],
            "needs_background": "light"
          }
        }
      ]
    },
    {
      "cell_type": "markdown",
      "metadata": {
        "id": "xiJVhQ04-kn1"
      },
      "source": [
        "<img src=\"3d_convex.jpg\">"
      ]
    },
    {
      "cell_type": "markdown",
      "metadata": {
        "id": "fIUchenLYi30"
      },
      "source": [
        "## But what if we are given...\n",
        "# $Y = ß_1X_1 + ß_2X_2 + ß_3X_3 ... + ß_nX_n + b$\n"
      ]
    }
  ]
}