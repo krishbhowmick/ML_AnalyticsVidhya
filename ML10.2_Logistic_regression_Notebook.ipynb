{
  "nbformat": 4,
  "nbformat_minor": 0,
  "metadata": {
    "colab": {
      "name": "ML10.2_Logistic regression Notebook.ipynb",
      "provenance": [],
      "collapsed_sections": [],
      "include_colab_link": true
    },
    "kernelspec": {
      "display_name": "Python 3",
      "language": "python",
      "name": "python3"
    }
  },
  "cells": [
    {
      "cell_type": "markdown",
      "metadata": {
        "id": "view-in-github",
        "colab_type": "text"
      },
      "source": [
        "<a href=\"https://colab.research.google.com/github/krishbhowmick/ML_AnalyticsVidhya/blob/main/ML10.2_Logistic_regression_Notebook.ipynb\" target=\"_parent\"><img src=\"https://colab.research.google.com/assets/colab-badge.svg\" alt=\"Open In Colab\"/></a>"
      ]
    },
    {
      "cell_type": "markdown",
      "metadata": {
        "id": "XHyuIcRGixQy"
      },
      "source": [
        "# Logistic Regression"
      ]
    },
    {
      "cell_type": "markdown",
      "metadata": {
        "id": "MetALTTmQKkh"
      },
      "source": [
        "### Importing Libraries"
      ]
    },
    {
      "cell_type": "code",
      "metadata": {
        "id": "eWchGPfa9xW9",
        "colab": {
          "base_uri": "https://localhost:8080/",
          "height": 122
        },
        "outputId": "e4a14680-ae52-4992-c8ac-a55ff79fcf2a"
      },
      "source": [
        "from google.colab import drive\n",
        "drive.mount('/content/drive/')\n"
      ],
      "execution_count": null,
      "outputs": [
        {
          "output_type": "stream",
          "text": [
            "Go to this URL in a browser: https://accounts.google.com/o/oauth2/auth?client_id=947318989803-6bn6qk8qdgf4n4g3pfee6491hc0brc4i.apps.googleusercontent.com&redirect_uri=urn%3aietf%3awg%3aoauth%3a2.0%3aoob&scope=email%20https%3a%2f%2fwww.googleapis.com%2fauth%2fdocs.test%20https%3a%2f%2fwww.googleapis.com%2fauth%2fdrive%20https%3a%2f%2fwww.googleapis.com%2fauth%2fdrive.photos.readonly%20https%3a%2f%2fwww.googleapis.com%2fauth%2fpeopleapi.readonly&response_type=code\n",
            "\n",
            "Enter your authorization code:\n",
            "··········\n",
            "Mounted at /content/drive/\n"
          ],
          "name": "stdout"
        }
      ]
    },
    {
      "cell_type": "code",
      "metadata": {
        "id": "4waAj0844g7E"
      },
      "source": [
        "#importing libraries \n",
        "import pandas as pd \n",
        "import numpy as np\n",
        "import matplotlib.pyplot as plt"
      ],
      "execution_count": null,
      "outputs": []
    },
    {
      "cell_type": "markdown",
      "metadata": {
        "id": "tHKgifnpjyvh"
      },
      "source": [
        "### Importing the data"
      ]
    },
    {
      "cell_type": "code",
      "metadata": {
        "id": "NB5xYyHg9xXA",
        "colab": {
          "base_uri": "https://localhost:8080/",
          "height": 224
        },
        "outputId": "7e3ebcec-d0f3-4482-9c70-f803b60d1c0f"
      },
      "source": [
        "data = pd.read_csv('/content/drive/My Drive/ML_Code/10_Logistic Regreetion/3. Implementing Logistic Regression/data_cleaned.csv')\n",
        "data.head()"
      ],
      "execution_count": null,
      "outputs": [
        {
          "output_type": "execute_result",
          "data": {
            "text/html": [
              "<div>\n",
              "<style scoped>\n",
              "    .dataframe tbody tr th:only-of-type {\n",
              "        vertical-align: middle;\n",
              "    }\n",
              "\n",
              "    .dataframe tbody tr th {\n",
              "        vertical-align: top;\n",
              "    }\n",
              "\n",
              "    .dataframe thead th {\n",
              "        text-align: right;\n",
              "    }\n",
              "</style>\n",
              "<table border=\"1\" class=\"dataframe\">\n",
              "  <thead>\n",
              "    <tr style=\"text-align: right;\">\n",
              "      <th></th>\n",
              "      <th>Survived</th>\n",
              "      <th>Age</th>\n",
              "      <th>Fare</th>\n",
              "      <th>Pclass_1</th>\n",
              "      <th>Pclass_2</th>\n",
              "      <th>Pclass_3</th>\n",
              "      <th>Sex_female</th>\n",
              "      <th>Sex_male</th>\n",
              "      <th>SibSp_0</th>\n",
              "      <th>SibSp_1</th>\n",
              "      <th>SibSp_2</th>\n",
              "      <th>SibSp_3</th>\n",
              "      <th>SibSp_4</th>\n",
              "      <th>SibSp_5</th>\n",
              "      <th>SibSp_8</th>\n",
              "      <th>Parch_0</th>\n",
              "      <th>Parch_1</th>\n",
              "      <th>Parch_2</th>\n",
              "      <th>Parch_3</th>\n",
              "      <th>Parch_4</th>\n",
              "      <th>Parch_5</th>\n",
              "      <th>Parch_6</th>\n",
              "      <th>Embarked_C</th>\n",
              "      <th>Embarked_Q</th>\n",
              "      <th>Embarked_S</th>\n",
              "    </tr>\n",
              "  </thead>\n",
              "  <tbody>\n",
              "    <tr>\n",
              "      <th>0</th>\n",
              "      <td>0</td>\n",
              "      <td>22.0</td>\n",
              "      <td>7.2500</td>\n",
              "      <td>0</td>\n",
              "      <td>0</td>\n",
              "      <td>1</td>\n",
              "      <td>0</td>\n",
              "      <td>1</td>\n",
              "      <td>0</td>\n",
              "      <td>1</td>\n",
              "      <td>0</td>\n",
              "      <td>0</td>\n",
              "      <td>0</td>\n",
              "      <td>0</td>\n",
              "      <td>0</td>\n",
              "      <td>1</td>\n",
              "      <td>0</td>\n",
              "      <td>0</td>\n",
              "      <td>0</td>\n",
              "      <td>0</td>\n",
              "      <td>0</td>\n",
              "      <td>0</td>\n",
              "      <td>0</td>\n",
              "      <td>0</td>\n",
              "      <td>1</td>\n",
              "    </tr>\n",
              "    <tr>\n",
              "      <th>1</th>\n",
              "      <td>1</td>\n",
              "      <td>38.0</td>\n",
              "      <td>71.2833</td>\n",
              "      <td>1</td>\n",
              "      <td>0</td>\n",
              "      <td>0</td>\n",
              "      <td>1</td>\n",
              "      <td>0</td>\n",
              "      <td>0</td>\n",
              "      <td>1</td>\n",
              "      <td>0</td>\n",
              "      <td>0</td>\n",
              "      <td>0</td>\n",
              "      <td>0</td>\n",
              "      <td>0</td>\n",
              "      <td>1</td>\n",
              "      <td>0</td>\n",
              "      <td>0</td>\n",
              "      <td>0</td>\n",
              "      <td>0</td>\n",
              "      <td>0</td>\n",
              "      <td>0</td>\n",
              "      <td>1</td>\n",
              "      <td>0</td>\n",
              "      <td>0</td>\n",
              "    </tr>\n",
              "    <tr>\n",
              "      <th>2</th>\n",
              "      <td>1</td>\n",
              "      <td>26.0</td>\n",
              "      <td>7.9250</td>\n",
              "      <td>0</td>\n",
              "      <td>0</td>\n",
              "      <td>1</td>\n",
              "      <td>1</td>\n",
              "      <td>0</td>\n",
              "      <td>1</td>\n",
              "      <td>0</td>\n",
              "      <td>0</td>\n",
              "      <td>0</td>\n",
              "      <td>0</td>\n",
              "      <td>0</td>\n",
              "      <td>0</td>\n",
              "      <td>1</td>\n",
              "      <td>0</td>\n",
              "      <td>0</td>\n",
              "      <td>0</td>\n",
              "      <td>0</td>\n",
              "      <td>0</td>\n",
              "      <td>0</td>\n",
              "      <td>0</td>\n",
              "      <td>0</td>\n",
              "      <td>1</td>\n",
              "    </tr>\n",
              "    <tr>\n",
              "      <th>3</th>\n",
              "      <td>1</td>\n",
              "      <td>35.0</td>\n",
              "      <td>53.1000</td>\n",
              "      <td>1</td>\n",
              "      <td>0</td>\n",
              "      <td>0</td>\n",
              "      <td>1</td>\n",
              "      <td>0</td>\n",
              "      <td>0</td>\n",
              "      <td>1</td>\n",
              "      <td>0</td>\n",
              "      <td>0</td>\n",
              "      <td>0</td>\n",
              "      <td>0</td>\n",
              "      <td>0</td>\n",
              "      <td>1</td>\n",
              "      <td>0</td>\n",
              "      <td>0</td>\n",
              "      <td>0</td>\n",
              "      <td>0</td>\n",
              "      <td>0</td>\n",
              "      <td>0</td>\n",
              "      <td>0</td>\n",
              "      <td>0</td>\n",
              "      <td>1</td>\n",
              "    </tr>\n",
              "    <tr>\n",
              "      <th>4</th>\n",
              "      <td>0</td>\n",
              "      <td>35.0</td>\n",
              "      <td>8.0500</td>\n",
              "      <td>0</td>\n",
              "      <td>0</td>\n",
              "      <td>1</td>\n",
              "      <td>0</td>\n",
              "      <td>1</td>\n",
              "      <td>1</td>\n",
              "      <td>0</td>\n",
              "      <td>0</td>\n",
              "      <td>0</td>\n",
              "      <td>0</td>\n",
              "      <td>0</td>\n",
              "      <td>0</td>\n",
              "      <td>1</td>\n",
              "      <td>0</td>\n",
              "      <td>0</td>\n",
              "      <td>0</td>\n",
              "      <td>0</td>\n",
              "      <td>0</td>\n",
              "      <td>0</td>\n",
              "      <td>0</td>\n",
              "      <td>0</td>\n",
              "      <td>1</td>\n",
              "    </tr>\n",
              "  </tbody>\n",
              "</table>\n",
              "</div>"
            ],
            "text/plain": [
              "   Survived   Age     Fare  ...  Embarked_C  Embarked_Q  Embarked_S\n",
              "0         0  22.0   7.2500  ...           0           0           1\n",
              "1         1  38.0  71.2833  ...           1           0           0\n",
              "2         1  26.0   7.9250  ...           0           0           1\n",
              "3         1  35.0  53.1000  ...           0           0           1\n",
              "4         0  35.0   8.0500  ...           0           0           1\n",
              "\n",
              "[5 rows x 25 columns]"
            ]
          },
          "metadata": {
            "tags": []
          },
          "execution_count": 5
        }
      ]
    },
    {
      "cell_type": "markdown",
      "metadata": {
        "id": "hGxgnJmxj3nv"
      },
      "source": [
        "\n",
        "### Segregating variables: Independent and Dependent Variables"
      ]
    },
    {
      "cell_type": "code",
      "metadata": {
        "id": "rym4fnPq9xXG",
        "colab": {
          "base_uri": "https://localhost:8080/",
          "height": 34
        },
        "outputId": "a8e24a47-7e93-4ded-99e9-063f07a2b83a"
      },
      "source": [
        "#seperating independent and dependent variables\n",
        "x = data.drop(['Survived'], axis=1)\n",
        "y = data['Survived']\n",
        "x.shape, y.shape"
      ],
      "execution_count": null,
      "outputs": [
        {
          "output_type": "execute_result",
          "data": {
            "text/plain": [
              "((891, 24), (891,))"
            ]
          },
          "metadata": {
            "tags": []
          },
          "execution_count": 6
        }
      ]
    },
    {
      "cell_type": "markdown",
      "metadata": {
        "id": "pAQY_EKnGpZ3"
      },
      "source": [
        "### Splitting the data into train set and the test set"
      ]
    },
    {
      "cell_type": "code",
      "metadata": {
        "id": "-PcDK1re9xXM"
      },
      "source": [
        "# Importing the train test split function\n",
        "from sklearn.model_selection import train_test_split\n",
        "train_x,test_x,train_y,test_y = train_test_split(x,y, random_state = 56)"
      ],
      "execution_count": null,
      "outputs": []
    },
    {
      "cell_type": "markdown",
      "metadata": {
        "id": "Fl_ddY0xgfl5"
      },
      "source": [
        "### Normalising using *min_max_scaler*"
      ]
    },
    {
      "cell_type": "code",
      "metadata": {
        "id": "Tsoh_kCkgfmQ"
      },
      "source": [
        "from sklearn.preprocessing import MinMaxScaler\n",
        "scaler = MinMaxScaler()"
      ],
      "execution_count": null,
      "outputs": []
    },
    {
      "cell_type": "code",
      "metadata": {
        "id": "-OpAcJQ7gfmj",
        "colab": {
          "base_uri": "https://localhost:8080/",
          "height": 119
        },
        "outputId": "ccc8cb66-2bc7-4079-c38e-d841c522f005"
      },
      "source": [
        "cols = train_x.columns\n",
        "cols"
      ],
      "execution_count": null,
      "outputs": [
        {
          "output_type": "execute_result",
          "data": {
            "text/plain": [
              "Index(['Age', 'Fare', 'Pclass_1', 'Pclass_2', 'Pclass_3', 'Sex_female',\n",
              "       'Sex_male', 'SibSp_0', 'SibSp_1', 'SibSp_2', 'SibSp_3', 'SibSp_4',\n",
              "       'SibSp_5', 'SibSp_8', 'Parch_0', 'Parch_1', 'Parch_2', 'Parch_3',\n",
              "       'Parch_4', 'Parch_5', 'Parch_6', 'Embarked_C', 'Embarked_Q',\n",
              "       'Embarked_S'],\n",
              "      dtype='object')"
            ]
          },
          "metadata": {
            "tags": []
          },
          "execution_count": 9
        }
      ]
    },
    {
      "cell_type": "code",
      "metadata": {
        "id": "TqAHX6eYgfmy",
        "colab": {
          "base_uri": "https://localhost:8080/",
          "height": 224
        },
        "outputId": "462d8742-542c-4509-f5a3-945f12d01fa1"
      },
      "source": [
        "train_x_scaled = scaler.fit_transform(train_x)\n",
        "train_x_scaled = pd.DataFrame(train_x_scaled, columns=cols)\n",
        "train_x_scaled.head()"
      ],
      "execution_count": null,
      "outputs": [
        {
          "output_type": "execute_result",
          "data": {
            "text/html": [
              "<div>\n",
              "<style scoped>\n",
              "    .dataframe tbody tr th:only-of-type {\n",
              "        vertical-align: middle;\n",
              "    }\n",
              "\n",
              "    .dataframe tbody tr th {\n",
              "        vertical-align: top;\n",
              "    }\n",
              "\n",
              "    .dataframe thead th {\n",
              "        text-align: right;\n",
              "    }\n",
              "</style>\n",
              "<table border=\"1\" class=\"dataframe\">\n",
              "  <thead>\n",
              "    <tr style=\"text-align: right;\">\n",
              "      <th></th>\n",
              "      <th>Age</th>\n",
              "      <th>Fare</th>\n",
              "      <th>Pclass_1</th>\n",
              "      <th>Pclass_2</th>\n",
              "      <th>Pclass_3</th>\n",
              "      <th>Sex_female</th>\n",
              "      <th>Sex_male</th>\n",
              "      <th>SibSp_0</th>\n",
              "      <th>SibSp_1</th>\n",
              "      <th>SibSp_2</th>\n",
              "      <th>SibSp_3</th>\n",
              "      <th>SibSp_4</th>\n",
              "      <th>SibSp_5</th>\n",
              "      <th>SibSp_8</th>\n",
              "      <th>Parch_0</th>\n",
              "      <th>Parch_1</th>\n",
              "      <th>Parch_2</th>\n",
              "      <th>Parch_3</th>\n",
              "      <th>Parch_4</th>\n",
              "      <th>Parch_5</th>\n",
              "      <th>Parch_6</th>\n",
              "      <th>Embarked_C</th>\n",
              "      <th>Embarked_Q</th>\n",
              "      <th>Embarked_S</th>\n",
              "    </tr>\n",
              "  </thead>\n",
              "  <tbody>\n",
              "    <tr>\n",
              "      <th>0</th>\n",
              "      <td>0.371701</td>\n",
              "      <td>0.024350</td>\n",
              "      <td>0.0</td>\n",
              "      <td>0.0</td>\n",
              "      <td>1.0</td>\n",
              "      <td>1.0</td>\n",
              "      <td>0.0</td>\n",
              "      <td>1.0</td>\n",
              "      <td>0.0</td>\n",
              "      <td>0.0</td>\n",
              "      <td>0.0</td>\n",
              "      <td>0.0</td>\n",
              "      <td>0.0</td>\n",
              "      <td>0.0</td>\n",
              "      <td>1.0</td>\n",
              "      <td>0.0</td>\n",
              "      <td>0.0</td>\n",
              "      <td>0.0</td>\n",
              "      <td>0.0</td>\n",
              "      <td>0.0</td>\n",
              "      <td>0.0</td>\n",
              "      <td>0.0</td>\n",
              "      <td>0.0</td>\n",
              "      <td>1.0</td>\n",
              "    </tr>\n",
              "    <tr>\n",
              "      <th>1</th>\n",
              "      <td>0.334004</td>\n",
              "      <td>0.016908</td>\n",
              "      <td>0.0</td>\n",
              "      <td>0.0</td>\n",
              "      <td>1.0</td>\n",
              "      <td>0.0</td>\n",
              "      <td>1.0</td>\n",
              "      <td>1.0</td>\n",
              "      <td>0.0</td>\n",
              "      <td>0.0</td>\n",
              "      <td>0.0</td>\n",
              "      <td>0.0</td>\n",
              "      <td>0.0</td>\n",
              "      <td>0.0</td>\n",
              "      <td>1.0</td>\n",
              "      <td>0.0</td>\n",
              "      <td>0.0</td>\n",
              "      <td>0.0</td>\n",
              "      <td>0.0</td>\n",
              "      <td>0.0</td>\n",
              "      <td>0.0</td>\n",
              "      <td>0.0</td>\n",
              "      <td>0.0</td>\n",
              "      <td>1.0</td>\n",
              "    </tr>\n",
              "    <tr>\n",
              "      <th>2</th>\n",
              "      <td>0.396833</td>\n",
              "      <td>0.015127</td>\n",
              "      <td>0.0</td>\n",
              "      <td>0.0</td>\n",
              "      <td>1.0</td>\n",
              "      <td>0.0</td>\n",
              "      <td>1.0</td>\n",
              "      <td>1.0</td>\n",
              "      <td>0.0</td>\n",
              "      <td>0.0</td>\n",
              "      <td>0.0</td>\n",
              "      <td>0.0</td>\n",
              "      <td>0.0</td>\n",
              "      <td>0.0</td>\n",
              "      <td>1.0</td>\n",
              "      <td>0.0</td>\n",
              "      <td>0.0</td>\n",
              "      <td>0.0</td>\n",
              "      <td>0.0</td>\n",
              "      <td>0.0</td>\n",
              "      <td>0.0</td>\n",
              "      <td>0.0</td>\n",
              "      <td>1.0</td>\n",
              "      <td>0.0</td>\n",
              "    </tr>\n",
              "    <tr>\n",
              "      <th>3</th>\n",
              "      <td>0.786378</td>\n",
              "      <td>0.152164</td>\n",
              "      <td>1.0</td>\n",
              "      <td>0.0</td>\n",
              "      <td>0.0</td>\n",
              "      <td>1.0</td>\n",
              "      <td>0.0</td>\n",
              "      <td>0.0</td>\n",
              "      <td>1.0</td>\n",
              "      <td>0.0</td>\n",
              "      <td>0.0</td>\n",
              "      <td>0.0</td>\n",
              "      <td>0.0</td>\n",
              "      <td>0.0</td>\n",
              "      <td>1.0</td>\n",
              "      <td>0.0</td>\n",
              "      <td>0.0</td>\n",
              "      <td>0.0</td>\n",
              "      <td>0.0</td>\n",
              "      <td>0.0</td>\n",
              "      <td>0.0</td>\n",
              "      <td>0.0</td>\n",
              "      <td>0.0</td>\n",
              "      <td>1.0</td>\n",
              "    </tr>\n",
              "    <tr>\n",
              "      <th>4</th>\n",
              "      <td>0.334004</td>\n",
              "      <td>0.412821</td>\n",
              "      <td>1.0</td>\n",
              "      <td>0.0</td>\n",
              "      <td>0.0</td>\n",
              "      <td>0.0</td>\n",
              "      <td>1.0</td>\n",
              "      <td>1.0</td>\n",
              "      <td>0.0</td>\n",
              "      <td>0.0</td>\n",
              "      <td>0.0</td>\n",
              "      <td>0.0</td>\n",
              "      <td>0.0</td>\n",
              "      <td>0.0</td>\n",
              "      <td>0.0</td>\n",
              "      <td>0.0</td>\n",
              "      <td>1.0</td>\n",
              "      <td>0.0</td>\n",
              "      <td>0.0</td>\n",
              "      <td>0.0</td>\n",
              "      <td>0.0</td>\n",
              "      <td>1.0</td>\n",
              "      <td>0.0</td>\n",
              "      <td>0.0</td>\n",
              "    </tr>\n",
              "  </tbody>\n",
              "</table>\n",
              "</div>"
            ],
            "text/plain": [
              "        Age      Fare  Pclass_1  ...  Embarked_C  Embarked_Q  Embarked_S\n",
              "0  0.371701  0.024350       0.0  ...         0.0         0.0         1.0\n",
              "1  0.334004  0.016908       0.0  ...         0.0         0.0         1.0\n",
              "2  0.396833  0.015127       0.0  ...         0.0         1.0         0.0\n",
              "3  0.786378  0.152164       1.0  ...         0.0         0.0         1.0\n",
              "4  0.334004  0.412821       1.0  ...         1.0         0.0         0.0\n",
              "\n",
              "[5 rows x 24 columns]"
            ]
          },
          "metadata": {
            "tags": []
          },
          "execution_count": 10
        }
      ]
    },
    {
      "cell_type": "code",
      "metadata": {
        "id": "p4BEqpnpgfnB",
        "colab": {
          "base_uri": "https://localhost:8080/",
          "height": 224
        },
        "outputId": "e5f35339-e96b-4529-b6d1-47905df3e14e"
      },
      "source": [
        "test_x_scaled = scaler.transform(test_x)\n",
        "test_x_scaled = pd.DataFrame(test_x_scaled, columns=cols)\n",
        "test_x_scaled.head()"
      ],
      "execution_count": null,
      "outputs": [
        {
          "output_type": "execute_result",
          "data": {
            "text/html": [
              "<div>\n",
              "<style scoped>\n",
              "    .dataframe tbody tr th:only-of-type {\n",
              "        vertical-align: middle;\n",
              "    }\n",
              "\n",
              "    .dataframe tbody tr th {\n",
              "        vertical-align: top;\n",
              "    }\n",
              "\n",
              "    .dataframe thead th {\n",
              "        text-align: right;\n",
              "    }\n",
              "</style>\n",
              "<table border=\"1\" class=\"dataframe\">\n",
              "  <thead>\n",
              "    <tr style=\"text-align: right;\">\n",
              "      <th></th>\n",
              "      <th>Age</th>\n",
              "      <th>Fare</th>\n",
              "      <th>Pclass_1</th>\n",
              "      <th>Pclass_2</th>\n",
              "      <th>Pclass_3</th>\n",
              "      <th>Sex_female</th>\n",
              "      <th>Sex_male</th>\n",
              "      <th>SibSp_0</th>\n",
              "      <th>SibSp_1</th>\n",
              "      <th>SibSp_2</th>\n",
              "      <th>SibSp_3</th>\n",
              "      <th>SibSp_4</th>\n",
              "      <th>SibSp_5</th>\n",
              "      <th>SibSp_8</th>\n",
              "      <th>Parch_0</th>\n",
              "      <th>Parch_1</th>\n",
              "      <th>Parch_2</th>\n",
              "      <th>Parch_3</th>\n",
              "      <th>Parch_4</th>\n",
              "      <th>Parch_5</th>\n",
              "      <th>Parch_6</th>\n",
              "      <th>Embarked_C</th>\n",
              "      <th>Embarked_Q</th>\n",
              "      <th>Embarked_S</th>\n",
              "    </tr>\n",
              "  </thead>\n",
              "  <tbody>\n",
              "    <tr>\n",
              "      <th>0</th>\n",
              "      <td>0.396833</td>\n",
              "      <td>0.143462</td>\n",
              "      <td>0.0</td>\n",
              "      <td>1.0</td>\n",
              "      <td>0.0</td>\n",
              "      <td>0.0</td>\n",
              "      <td>1.0</td>\n",
              "      <td>0.0</td>\n",
              "      <td>0.0</td>\n",
              "      <td>1.0</td>\n",
              "      <td>0.0</td>\n",
              "      <td>0.0</td>\n",
              "      <td>0.0</td>\n",
              "      <td>0.0</td>\n",
              "      <td>1.0</td>\n",
              "      <td>0.0</td>\n",
              "      <td>0.0</td>\n",
              "      <td>0.0</td>\n",
              "      <td>0.0</td>\n",
              "      <td>0.0</td>\n",
              "      <td>0.0</td>\n",
              "      <td>0.0</td>\n",
              "      <td>0.0</td>\n",
              "      <td>1.0</td>\n",
              "    </tr>\n",
              "    <tr>\n",
              "      <th>1</th>\n",
              "      <td>0.359135</td>\n",
              "      <td>0.129995</td>\n",
              "      <td>1.0</td>\n",
              "      <td>0.0</td>\n",
              "      <td>0.0</td>\n",
              "      <td>0.0</td>\n",
              "      <td>1.0</td>\n",
              "      <td>0.0</td>\n",
              "      <td>1.0</td>\n",
              "      <td>0.0</td>\n",
              "      <td>0.0</td>\n",
              "      <td>0.0</td>\n",
              "      <td>0.0</td>\n",
              "      <td>0.0</td>\n",
              "      <td>1.0</td>\n",
              "      <td>0.0</td>\n",
              "      <td>0.0</td>\n",
              "      <td>0.0</td>\n",
              "      <td>0.0</td>\n",
              "      <td>0.0</td>\n",
              "      <td>0.0</td>\n",
              "      <td>0.0</td>\n",
              "      <td>0.0</td>\n",
              "      <td>1.0</td>\n",
              "    </tr>\n",
              "    <tr>\n",
              "      <th>2</th>\n",
              "      <td>0.367921</td>\n",
              "      <td>0.014110</td>\n",
              "      <td>0.0</td>\n",
              "      <td>0.0</td>\n",
              "      <td>1.0</td>\n",
              "      <td>0.0</td>\n",
              "      <td>1.0</td>\n",
              "      <td>1.0</td>\n",
              "      <td>0.0</td>\n",
              "      <td>0.0</td>\n",
              "      <td>0.0</td>\n",
              "      <td>0.0</td>\n",
              "      <td>0.0</td>\n",
              "      <td>0.0</td>\n",
              "      <td>1.0</td>\n",
              "      <td>0.0</td>\n",
              "      <td>0.0</td>\n",
              "      <td>0.0</td>\n",
              "      <td>0.0</td>\n",
              "      <td>0.0</td>\n",
              "      <td>0.0</td>\n",
              "      <td>1.0</td>\n",
              "      <td>0.0</td>\n",
              "      <td>0.0</td>\n",
              "    </tr>\n",
              "    <tr>\n",
              "      <th>3</th>\n",
              "      <td>0.346569</td>\n",
              "      <td>0.025374</td>\n",
              "      <td>0.0</td>\n",
              "      <td>1.0</td>\n",
              "      <td>0.0</td>\n",
              "      <td>1.0</td>\n",
              "      <td>0.0</td>\n",
              "      <td>1.0</td>\n",
              "      <td>0.0</td>\n",
              "      <td>0.0</td>\n",
              "      <td>0.0</td>\n",
              "      <td>0.0</td>\n",
              "      <td>0.0</td>\n",
              "      <td>0.0</td>\n",
              "      <td>1.0</td>\n",
              "      <td>0.0</td>\n",
              "      <td>0.0</td>\n",
              "      <td>0.0</td>\n",
              "      <td>0.0</td>\n",
              "      <td>0.0</td>\n",
              "      <td>0.0</td>\n",
              "      <td>0.0</td>\n",
              "      <td>0.0</td>\n",
              "      <td>1.0</td>\n",
              "    </tr>\n",
              "    <tr>\n",
              "      <th>4</th>\n",
              "      <td>0.371701</td>\n",
              "      <td>0.054164</td>\n",
              "      <td>1.0</td>\n",
              "      <td>0.0</td>\n",
              "      <td>0.0</td>\n",
              "      <td>0.0</td>\n",
              "      <td>1.0</td>\n",
              "      <td>1.0</td>\n",
              "      <td>0.0</td>\n",
              "      <td>0.0</td>\n",
              "      <td>0.0</td>\n",
              "      <td>0.0</td>\n",
              "      <td>0.0</td>\n",
              "      <td>0.0</td>\n",
              "      <td>1.0</td>\n",
              "      <td>0.0</td>\n",
              "      <td>0.0</td>\n",
              "      <td>0.0</td>\n",
              "      <td>0.0</td>\n",
              "      <td>0.0</td>\n",
              "      <td>0.0</td>\n",
              "      <td>1.0</td>\n",
              "      <td>0.0</td>\n",
              "      <td>0.0</td>\n",
              "    </tr>\n",
              "  </tbody>\n",
              "</table>\n",
              "</div>"
            ],
            "text/plain": [
              "        Age      Fare  Pclass_1  ...  Embarked_C  Embarked_Q  Embarked_S\n",
              "0  0.396833  0.143462       0.0  ...         0.0         0.0         1.0\n",
              "1  0.359135  0.129995       1.0  ...         0.0         0.0         1.0\n",
              "2  0.367921  0.014110       0.0  ...         1.0         0.0         0.0\n",
              "3  0.346569  0.025374       0.0  ...         0.0         0.0         1.0\n",
              "4  0.371701  0.054164       1.0  ...         1.0         0.0         0.0\n",
              "\n",
              "[5 rows x 24 columns]"
            ]
          },
          "metadata": {
            "tags": []
          },
          "execution_count": 36
        }
      ]
    },
    {
      "cell_type": "markdown",
      "metadata": {
        "id": "WvsDKzjdyNWi"
      },
      "source": [
        "### Implementing Logistic Regression"
      ]
    },
    {
      "cell_type": "code",
      "metadata": {
        "id": "yCG2gM5KyM-1"
      },
      "source": [
        "#importing Logistic Regression and metric F1-score\n",
        "from sklearn.linear_model import LogisticRegression as LogReg\n",
        "from sklearn.metrics import f1_score\n",
        "#from sklearn.linear_model.LogisticRegression import coef_"
      ],
      "execution_count": null,
      "outputs": []
    },
    {
      "cell_type": "code",
      "metadata": {
        "id": "TFrwDTRdybYF",
        "colab": {
          "base_uri": "https://localhost:8080/",
          "height": 231
        },
        "outputId": "35eeade3-80b8-41eb-bfa6-f6c35aa7bce3"
      },
      "source": [
        "# Creating instance of Logistic Regresssion\n",
        "logreg = LogReg()\n",
        "\n",
        "# Fitting the model\n",
        "logreg.fit(train_x, train_y)"
      ],
      "execution_count": null,
      "outputs": [
        {
          "output_type": "error",
          "ename": "NameError",
          "evalue": "ignored",
          "traceback": [
            "\u001b[0;31m---------------------------------------------------------------------------\u001b[0m",
            "\u001b[0;31mNameError\u001b[0m                                 Traceback (most recent call last)",
            "\u001b[0;32m<ipython-input-11-e458d41ab07a>\u001b[0m in \u001b[0;36m<module>\u001b[0;34m()\u001b[0m\n\u001b[1;32m      1\u001b[0m \u001b[0;31m# Creating instance of Logistic Regresssion\u001b[0m\u001b[0;34m\u001b[0m\u001b[0;34m\u001b[0m\u001b[0;34m\u001b[0m\u001b[0m\n\u001b[0;32m----> 2\u001b[0;31m \u001b[0mlogreg\u001b[0m \u001b[0;34m=\u001b[0m \u001b[0mLogReg\u001b[0m\u001b[0;34m(\u001b[0m\u001b[0;34m)\u001b[0m\u001b[0;34m\u001b[0m\u001b[0;34m\u001b[0m\u001b[0m\n\u001b[0m\u001b[1;32m      3\u001b[0m \u001b[0;34m\u001b[0m\u001b[0m\n\u001b[1;32m      4\u001b[0m \u001b[0;31m# Fitting the model\u001b[0m\u001b[0;34m\u001b[0m\u001b[0;34m\u001b[0m\u001b[0;34m\u001b[0m\u001b[0m\n\u001b[1;32m      5\u001b[0m \u001b[0mlogreg\u001b[0m\u001b[0;34m.\u001b[0m\u001b[0mfit\u001b[0m\u001b[0;34m(\u001b[0m\u001b[0mtrain_x\u001b[0m\u001b[0;34m,\u001b[0m \u001b[0mtrain_y\u001b[0m\u001b[0;34m)\u001b[0m\u001b[0;34m\u001b[0m\u001b[0;34m\u001b[0m\u001b[0m\n",
            "\u001b[0;31mNameError\u001b[0m: name 'LogReg' is not defined"
          ]
        }
      ]
    },
    {
      "cell_type": "markdown",
      "metadata": {
        "id": "ll87PoJuPI4n"
      },
      "source": [
        "### Making predictions using *predict* function"
      ]
    },
    {
      "cell_type": "code",
      "metadata": {
        "id": "8lCGfbmBI-kj",
        "colab": {
          "base_uri": "https://localhost:8080/",
          "height": 544
        },
        "outputId": "e5a182a3-cac8-4ada-bcd2-dec44ee0e22e"
      },
      "source": [
        "# Predicting over the Train\n",
        "train_predict = logreg.predict(train_x)\n",
        "train_predict"
      ],
      "execution_count": null,
      "outputs": [
        {
          "output_type": "execute_result",
          "data": {
            "text/plain": [
              "array([0, 0, 0, 1, 1, 0, 1, 1, 1, 0, 0, 0, 0, 0, 1, 0, 0, 0, 0, 0, 0, 0,\n",
              "       0, 1, 0, 1, 0, 1, 1, 0, 1, 0, 1, 0, 0, 1, 0, 0, 0, 0, 1, 0, 0, 1,\n",
              "       0, 1, 0, 0, 0, 1, 0, 1, 0, 1, 0, 1, 1, 0, 0, 0, 1, 0, 0, 0, 0, 1,\n",
              "       0, 0, 1, 1, 1, 1, 1, 0, 1, 0, 1, 1, 1, 0, 1, 0, 0, 0, 1, 1, 1, 0,\n",
              "       0, 1, 0, 0, 0, 0, 0, 1, 0, 0, 1, 1, 0, 0, 0, 0, 0, 0, 0, 0, 1, 0,\n",
              "       0, 0, 0, 0, 1, 0, 0, 1, 0, 0, 0, 0, 0, 0, 1, 0, 0, 1, 0, 1, 0, 0,\n",
              "       0, 1, 0, 0, 0, 0, 0, 1, 1, 0, 1, 0, 0, 0, 0, 1, 1, 1, 1, 0, 1, 0,\n",
              "       0, 0, 0, 0, 0, 1, 0, 0, 0, 1, 0, 0, 0, 1, 0, 1, 0, 1, 1, 0, 0, 0,\n",
              "       1, 0, 0, 0, 0, 0, 0, 0, 1, 0, 1, 0, 0, 0, 0, 0, 1, 0, 0, 0, 0, 1,\n",
              "       1, 0, 0, 0, 1, 0, 0, 1, 1, 0, 1, 0, 1, 1, 0, 0, 1, 0, 0, 1, 1, 0,\n",
              "       0, 0, 0, 1, 0, 0, 0, 1, 0, 0, 1, 0, 0, 0, 0, 1, 0, 1, 0, 0, 0, 0,\n",
              "       0, 0, 1, 0, 1, 0, 1, 0, 1, 0, 1, 1, 1, 0, 0, 0, 0, 0, 0, 1, 0, 0,\n",
              "       1, 0, 1, 0, 0, 0, 1, 0, 1, 1, 0, 0, 0, 0, 0, 0, 0, 0, 1, 0, 0, 0,\n",
              "       0, 1, 0, 1, 1, 1, 1, 0, 0, 1, 0, 0, 1, 0, 1, 0, 0, 0, 0, 0, 0, 0,\n",
              "       0, 1, 1, 0, 0, 0, 0, 0, 0, 0, 0, 1, 0, 0, 1, 1, 0, 0, 1, 0, 0, 0,\n",
              "       0, 0, 0, 0, 0, 0, 0, 0, 1, 0, 0, 1, 0, 0, 0, 0, 1, 0, 0, 0, 0, 0,\n",
              "       1, 0, 0, 1, 0, 0, 0, 0, 1, 1, 0, 0, 0, 1, 0, 0, 1, 1, 1, 1, 0, 1,\n",
              "       0, 0, 0, 0, 1, 1, 0, 1, 0, 0, 0, 1, 0, 0, 0, 1, 0, 0, 1, 0, 0, 1,\n",
              "       1, 0, 0, 1, 1, 1, 1, 1, 0, 0, 0, 0, 1, 0, 0, 1, 0, 0, 0, 0, 1, 1,\n",
              "       1, 1, 0, 1, 1, 0, 1, 0, 1, 0, 0, 0, 1, 1, 0, 0, 0, 1, 0, 0, 1, 0,\n",
              "       0, 0, 1, 0, 1, 1, 1, 1, 1, 1, 1, 0, 0, 0, 0, 1, 0, 0, 0, 0, 0, 0,\n",
              "       1, 1, 1, 0, 0, 1, 0, 1, 1, 1, 1, 1, 0, 0, 1, 0, 0, 1, 1, 1, 0, 0,\n",
              "       1, 0, 0, 0, 1, 0, 0, 0, 1, 1, 0, 1, 1, 0, 0, 0, 0, 0, 0, 1, 0, 0,\n",
              "       1, 0, 0, 0, 1, 0, 1, 0, 0, 0, 0, 0, 0, 0, 0, 1, 0, 1, 1, 0, 0, 1,\n",
              "       0, 0, 0, 1, 0, 0, 0, 0, 1, 0, 0, 0, 1, 0, 1, 1, 0, 0, 1, 1, 0, 0,\n",
              "       0, 0, 0, 1, 0, 1, 0, 0, 0, 1, 1, 0, 0, 0, 1, 0, 1, 1, 1, 1, 0, 1,\n",
              "       0, 1, 0, 0, 0, 0, 0, 1, 0, 0, 1, 0, 0, 0, 1, 0, 0, 0, 1, 1, 0, 0,\n",
              "       1, 1, 0, 0, 0, 0, 1, 0, 1, 0, 1, 1, 0, 0, 0, 0, 0, 0, 1, 0, 1, 1,\n",
              "       0, 0, 0, 1, 0, 1, 0, 0, 0, 1, 0, 1, 1, 0, 0, 0, 0, 0, 0, 0, 0, 1,\n",
              "       1, 1, 0, 0, 0, 1, 0, 0, 1, 1, 0, 1, 1, 0, 1, 1, 1, 0, 1, 1, 0, 0,\n",
              "       1, 0, 0, 0, 1, 1, 1, 1])"
            ]
          },
          "metadata": {
            "tags": []
          },
          "execution_count": 42
        }
      ]
    },
    {
      "cell_type": "code",
      "metadata": {
        "id": "7zgQQS_abvKE",
        "colab": {
          "base_uri": "https://localhost:8080/",
          "height": 34
        },
        "outputId": "0b3d79c3-d43d-4b35-d5ec-3381d8c5b3ff"
      },
      "source": [
        "# Calculating f1-score\n",
        "k = f1_score(train_predict, train_y)\n",
        "print('Training f1_score', k )"
      ],
      "execution_count": null,
      "outputs": [
        {
          "output_type": "stream",
          "text": [
            "Training f1_score 0.7514910536779325\n"
          ],
          "name": "stdout"
        }
      ]
    },
    {
      "cell_type": "code",
      "metadata": {
        "id": "Wf4id-DOJCsn",
        "colab": {
          "base_uri": "https://localhost:8080/",
          "height": 34
        },
        "outputId": "a82180bd-d875-444d-acb3-d30344daf179"
      },
      "source": [
        "# Predicting over the Test Set and f1-score\n",
        "test_predict = logreg.predict(test_x)\n",
        "k = f1_score(test_predict, test_y)\n",
        "print('Test f1_score    ', k )"
      ],
      "execution_count": null,
      "outputs": [
        {
          "output_type": "stream",
          "text": [
            "Test f1_score     0.736842105263158\n"
          ],
          "name": "stdout"
        }
      ]
    },
    {
      "cell_type": "markdown",
      "metadata": {
        "id": "GYz-N4EVPapW"
      },
      "source": [
        "### Making predictions using *predict_proba* function"
      ]
    },
    {
      "cell_type": "code",
      "metadata": {
        "id": "TdyhO6NmdZ4_",
        "colab": {
          "base_uri": "https://localhost:8080/",
          "height": 136
        },
        "outputId": "73002536-b16a-40e5-f2f8-44ba379bdaf7"
      },
      "source": [
        "# Predicting over the Train\n",
        "train_predict = logreg.predict_proba(train_x)\n",
        "train_predict"
      ],
      "execution_count": null,
      "outputs": [
        {
          "output_type": "execute_result",
          "data": {
            "text/plain": [
              "array([[0.51910635, 0.48089365],\n",
              "       [0.90661709, 0.09338291],\n",
              "       [0.87294449, 0.12705551],\n",
              "       ...,\n",
              "       [0.22672212, 0.77327788],\n",
              "       [0.31378988, 0.68621012],\n",
              "       [0.04420576, 0.95579424]])"
            ]
          },
          "metadata": {
            "tags": []
          },
          "execution_count": 45
        }
      ]
    },
    {
      "cell_type": "code",
      "metadata": {
        "id": "Uan07aK5l9oT",
        "colab": {
          "base_uri": "https://localhost:8080/",
          "height": 1000
        },
        "outputId": "8f80abb2-8061-4ee6-a394-89afc2721315"
      },
      "source": [
        "train_preds = train_predict[:,1]\n",
        "train_preds"
      ],
      "execution_count": null,
      "outputs": [
        {
          "output_type": "execute_result",
          "data": {
            "text/plain": [
              "array([0.48089365, 0.09338291, 0.12705551, 0.77778549, 0.6311171 ,\n",
              "       0.11647273, 0.84447582, 0.77345587, 0.53510592, 0.08340642,\n",
              "       0.10594019, 0.08538886, 0.12397382, 0.09624583, 0.60769556,\n",
              "       0.08441146, 0.30682068, 0.12012227, 0.0716145 , 0.28541824,\n",
              "       0.10249454, 0.21828559, 0.07135108, 0.58973976, 0.09023073,\n",
              "       0.51316546, 0.08524264, 0.55541684, 0.60309315, 0.12817793,\n",
              "       0.82071192, 0.08542381, 0.58550024, 0.13641009, 0.02243465,\n",
              "       0.57563093, 0.21792159, 0.12547134, 0.05865389, 0.28455587,\n",
              "       0.8415393 , 0.39030442, 0.20254388, 0.7055115 , 0.48060445,\n",
              "       0.94333265, 0.36983432, 0.22112338, 0.1671723 , 0.89283195,\n",
              "       0.13239193, 0.63786644, 0.23821447, 0.60998376, 0.33969731,\n",
              "       0.64586721, 0.77838157, 0.29185551, 0.10914058, 0.2992008 ,\n",
              "       0.58344105, 0.29185551, 0.12430121, 0.45634429, 0.10284704,\n",
              "       0.97633218, 0.11688265, 0.08538886, 0.86469247, 0.66352959,\n",
              "       0.93054434, 0.7484503 , 0.89871831, 0.44779197, 0.84182244,\n",
              "       0.24512672, 0.86613577, 0.53977273, 0.55328437, 0.12817793,\n",
              "       0.52194174, 0.12768025, 0.13219083, 0.01892691, 0.68600568,\n",
              "       0.94715258, 0.67474924, 0.07558609, 0.2773673 , 0.932342  ,\n",
              "       0.29388995, 0.1364172 , 0.09156832, 0.1364172 , 0.20254388,\n",
              "       0.9117624 , 0.34084289, 0.12398037, 0.55470328, 0.56668075,\n",
              "       0.1364172 , 0.1240605 , 0.09932203, 0.12779103, 0.12568372,\n",
              "       0.05314663, 0.30483279, 0.04193403, 0.74755048, 0.30164132,\n",
              "       0.23821447, 0.4346556 , 0.12547   , 0.13665949, 0.53950243,\n",
              "       0.33388575, 0.12435806, 0.9244915 , 0.11291741, 0.13620516,\n",
              "       0.49535516, 0.46813022, 0.22397134, 0.39880466, 0.93435261,\n",
              "       0.3299378 , 0.39235654, 0.60989457, 0.13640865, 0.67279174,\n",
              "       0.09012186, 0.09628475, 0.39037347, 0.90595212, 0.12547   ,\n",
              "       0.02899604, 0.48348267, 0.06567596, 0.37935187, 0.90755284,\n",
              "       0.92843113, 0.13105494, 0.64315179, 0.10520122, 0.23280837,\n",
              "       0.256763  , 0.10935822, 0.92859083, 0.8633987 , 0.90505781,\n",
              "       0.51311414, 0.46867749, 0.65697871, 0.07179315, 0.45354441,\n",
              "       0.08543798, 0.44495973, 0.27484769, 0.09267166, 0.80088083,\n",
              "       0.29477883, 0.2773673 , 0.31482296, 0.6635287 , 0.04641379,\n",
              "       0.25395725, 0.1201606 , 0.82800534, 0.34531857, 0.93748753,\n",
              "       0.05140183, 0.76074343, 0.61116054, 0.2857153 , 0.32897634,\n",
              "       0.47477909, 0.50548057, 0.38149873, 0.0817761 , 0.09022083,\n",
              "       0.08181599, 0.25510541, 0.04553454, 0.11527823, 0.9250018 ,\n",
              "       0.37010202, 0.93082252, 0.28505104, 0.26333086, 0.17074932,\n",
              "       0.14474326, 0.05705613, 0.57293974, 0.31802582, 0.12396594,\n",
              "       0.17195757, 0.29185551, 0.90016471, 0.6388166 , 0.27071292,\n",
              "       0.44602489, 0.40542657, 0.60989457, 0.11288108, 0.2111276 ,\n",
              "       0.88997948, 0.61990764, 0.08322342, 0.77302926, 0.1364172 ,\n",
              "       0.61381511, 0.60989457, 0.12547134, 0.15733663, 0.94425625,\n",
              "       0.08538886, 0.0742009 , 0.90329817, 0.63115849, 0.13550554,\n",
              "       0.12024499, 0.30959166, 0.08542381, 0.88862204, 0.21578074,\n",
              "       0.16411687, 0.08538886, 0.71975611, 0.46192319, 0.13937459,\n",
              "       0.72322777, 0.46326269, 0.0868973 , 0.25395725, 0.16847575,\n",
              "       0.73758971, 0.37431475, 0.87102856, 0.11268511, 0.03796955,\n",
              "       0.24840251, 0.08660371, 0.21792159, 0.13200358, 0.64714513,\n",
              "       0.09624583, 0.66525857, 0.23821447, 0.53158962, 0.11706871,\n",
              "       0.92142862, 0.09711347, 0.67082418, 0.80727365, 0.95869775,\n",
              "       0.15389532, 0.37916159, 0.13248638, 0.08538886, 0.44743327,\n",
              "       0.0433872 , 0.64743212, 0.08771981, 0.12429988, 0.9267047 ,\n",
              "       0.33119654, 0.56178683, 0.07924046, 0.08542381, 0.08536149,\n",
              "       0.72779078, 0.13644427, 0.84306444, 0.66718842, 0.47813283,\n",
              "       0.27308234, 0.32886474, 0.07914355, 0.29549333, 0.3423506 ,\n",
              "       0.06482024, 0.11647273, 0.60988305, 0.08738758, 0.09862306,\n",
              "       0.44451192, 0.0481666 , 0.8585588 , 0.09317023, 0.82580731,\n",
              "       0.90104387, 0.55046065, 0.9411547 , 0.09296921, 0.0296003 ,\n",
              "       0.94909724, 0.05678573, 0.31744633, 0.64069028, 0.11283751,\n",
              "       0.53032407, 0.43049894, 0.24315095, 0.10728313, 0.12413935,\n",
              "       0.04181811, 0.06814391, 0.31120095, 0.09023073, 0.80205449,\n",
              "       0.60989457, 0.4506932 , 0.09916641, 0.23821447, 0.08703553,\n",
              "       0.12547   , 0.11284355, 0.18911935, 0.11653121, 0.54847342,\n",
              "       0.35444021, 0.13191455, 0.81302201, 0.94633531, 0.44434386,\n",
              "       0.31744633, 0.5867682 , 0.08531054, 0.13022876, 0.25299769,\n",
              "       0.12019766, 0.1364172 , 0.02243465, 0.26170104, 0.08538886,\n",
              "       0.16698667, 0.0970648 , 0.23535447, 0.80711865, 0.05316489,\n",
              "       0.29035862, 0.93892337, 0.07698113, 0.06935381, 0.37470156,\n",
              "       0.41728404, 0.64186422, 0.04207835, 0.19497162, 0.49506892,\n",
              "       0.34888571, 0.12844303, 0.80172391, 0.29641414, 0.46639415,\n",
              "       0.79940329, 0.06411255, 0.15003452, 0.12962431, 0.24740455,\n",
              "       0.89787733, 0.64894578, 0.12817793, 0.27858938, 0.46937231,\n",
              "       0.80961728, 0.18509274, 0.08542381, 0.86686887, 0.96121896,\n",
              "       0.74833165, 0.92957842, 0.20485167, 0.66525857, 0.26451373,\n",
              "       0.42111319, 0.38578249, 0.04591938, 0.74700151, 0.85610548,\n",
              "       0.1205793 , 0.73246549, 0.45993745, 0.1364172 , 0.14060761,\n",
              "       0.93576522, 0.23821447, 0.32034359, 0.30343947, 0.58164608,\n",
              "       0.4145338 , 0.3558381 , 0.86292015, 0.08525678, 0.08542381,\n",
              "       0.80961728, 0.65174842, 0.0671094 , 0.11291741, 0.55719827,\n",
              "       0.75582277, 0.76824594, 0.9025772 , 0.50634849, 0.12594434,\n",
              "       0.11688029, 0.38963571, 0.10230602, 0.88384538, 0.3874454 ,\n",
              "       0.11201917, 0.55328437, 0.25648625, 0.11623283, 0.05680127,\n",
              "       0.4618201 , 0.96546968, 0.92712364, 0.57584035, 0.85398498,\n",
              "       0.4649868 , 0.60773811, 0.69187353, 0.24788629, 0.80504881,\n",
              "       0.17328873, 0.94216208, 0.10592876, 0.08491738, 0.06942875,\n",
              "       0.63360105, 0.85651851, 0.09072546, 0.06284563, 0.48885604,\n",
              "       0.60989457, 0.22520145, 0.19861961, 0.59008076, 0.22901098,\n",
              "       0.18328708, 0.07921401, 0.65473842, 0.32211895, 0.62434533,\n",
              "       0.70517894, 0.91869264, 0.83003977, 0.93018199, 0.77694484,\n",
              "       0.54227036, 0.12804655, 0.08538886, 0.0868973 , 0.15437096,\n",
              "       0.54811412, 0.13641149, 0.09377624, 0.22099255, 0.47851828,\n",
              "       0.07179315, 0.07389171, 0.8805133 , 0.91329619, 0.96402208,\n",
              "       0.21070885, 0.14717946, 0.56852838, 0.26170104, 0.71376825,\n",
              "       0.7458982 , 0.69407233, 0.91389038, 0.93285987, 0.08542381,\n",
              "       0.45875583, 0.79742331, 0.23666236, 0.18509274, 0.61016204,\n",
              "       0.58324416, 0.61148809, 0.09012186, 0.24343905, 0.89481573,\n",
              "       0.14212056, 0.42602426, 0.39693687, 0.65666941, 0.08716725,\n",
              "       0.10925229, 0.15873775, 0.72008121, 0.73185421, 0.40915145,\n",
              "       0.89816961, 0.57194687, 0.22431934, 0.07921401, 0.07921401,\n",
              "       0.07919902, 0.44495973, 0.11613794, 0.87334725, 0.08184869,\n",
              "       0.06496916, 0.864144  , 0.2617425 , 0.04189908, 0.12027823,\n",
              "       0.63604188, 0.1364172 , 0.92788626, 0.32665757, 0.25395725,\n",
              "       0.13200358, 0.10917585, 0.08363776, 0.11779599, 0.2773673 ,\n",
              "       0.41403079, 0.75738281, 0.02243465, 0.52286271, 0.94793311,\n",
              "       0.34421853, 0.12369791, 0.89356329, 0.48068459, 0.2273837 ,\n",
              "       0.40106153, 0.73146115, 0.12089746, 0.03734018, 0.02243465,\n",
              "       0.08538886, 0.52312276, 0.08481702, 0.08732397, 0.04304381,\n",
              "       0.93161556, 0.06796313, 0.60144593, 0.88138101, 0.3587067 ,\n",
              "       0.47131147, 0.75519693, 0.54997295, 0.09621535, 0.08524264,\n",
              "       0.08536149, 0.08538886, 0.20603573, 0.60988595, 0.12547134,\n",
              "       0.58677115, 0.127059  , 0.0970648 , 0.10976985, 0.74591965,\n",
              "       0.93290644, 0.45138192, 0.32053709, 0.18509274, 0.8857522 ,\n",
              "       0.24472565, 0.50961466, 0.69497903, 0.89835101, 0.72808449,\n",
              "       0.05027297, 0.60994925, 0.06428316, 0.60989457, 0.18260631,\n",
              "       0.386787  , 0.08575307, 0.17713705, 0.11909978, 0.69426354,\n",
              "       0.07930664, 0.11309554, 0.93977111, 0.23998597, 0.21792159,\n",
              "       0.05695887, 0.88084104, 0.04146268, 0.38829291, 0.39936462,\n",
              "       0.71795626, 0.84288104, 0.08524264, 0.44456565, 0.82233313,\n",
              "       0.89519312, 0.12364538, 0.03595224, 0.04389755, 0.03325087,\n",
              "       0.60989457, 0.12547134, 0.71975611, 0.05316489, 0.85331243,\n",
              "       0.65759976, 0.10239092, 0.04963146, 0.11355724, 0.21428266,\n",
              "       0.41272708, 0.10767219, 0.61762592, 0.14911296, 0.97361302,\n",
              "       0.77999666, 0.04914007, 0.14479728, 0.13908799, 0.66525857,\n",
              "       0.08455639, 0.60981118, 0.22806728, 0.1364172 , 0.48434788,\n",
              "       0.87158827, 0.19749878, 0.94421709, 0.77935835, 0.2273837 ,\n",
              "       0.14999805, 0.06113069, 0.12547134, 0.10265789, 0.0549849 ,\n",
              "       0.08204313, 0.26333086, 0.68057675, 0.58489769, 0.71794644,\n",
              "       0.10935822, 0.13641293, 0.08538886, 0.93679835, 0.32897634,\n",
              "       0.10967065, 0.74347501, 0.94781069, 0.32046037, 0.65122806,\n",
              "       0.51691336, 0.1408077 , 0.94425625, 0.94283187, 0.69016993,\n",
              "       0.11696504, 0.94811485, 0.7252672 , 0.08542381, 0.2541515 ,\n",
              "       0.70271828, 0.37148748, 0.47999928, 0.24315095, 0.62691919,\n",
              "       0.77327788, 0.68621012, 0.95579424])"
            ]
          },
          "metadata": {
            "tags": []
          },
          "execution_count": 46
        }
      ]
    },
    {
      "cell_type": "code",
      "metadata": {
        "id": "O7_cPchudkR-"
      },
      "source": [
        "for i in range(0, len(train_preds)):\n",
        "  if(train_preds[i]>0.55):\n",
        "    train_preds[i] = 1\n",
        "  else:\n",
        "    train_preds[i] = 0\n",
        "  "
      ],
      "execution_count": null,
      "outputs": []
    },
    {
      "cell_type": "code",
      "metadata": {
        "id": "nMS-8UHtm6ul",
        "colab": {
          "base_uri": "https://localhost:8080/",
          "height": 34
        },
        "outputId": "77ed17b8-4074-41ad-9a2f-550e4c079da2"
      },
      "source": [
        "# Calculating f1-score\n",
        "k = f1_score(train_preds, train_y)\n",
        "print('Training f1_score', k )"
      ],
      "execution_count": null,
      "outputs": [
        {
          "output_type": "stream",
          "text": [
            "Training f1_score 0.7381443298969073\n"
          ],
          "name": "stdout"
        }
      ]
    },
    {
      "cell_type": "markdown",
      "metadata": {
        "id": "Wq2nBd4yaJLy"
      },
      "source": [
        "# Confusion matrix"
      ]
    },
    {
      "cell_type": "code",
      "metadata": {
        "id": "_B0y2DfFZus5",
        "colab": {
          "base_uri": "https://localhost:8080/",
          "height": 51
        },
        "outputId": "d9de09da-c32f-45ae-c0de-9e1c1f6d6f3f"
      },
      "source": [
        "from sklearn.metrics import confusion_matrix\n",
        "cf= confusion_matrix(test_y, test_predict)\n",
        "print(cf)"
      ],
      "execution_count": null,
      "outputs": [
        {
          "output_type": "stream",
          "text": [
            "[[127  17]\n",
            " [ 23  56]]\n"
          ],
          "name": "stdout"
        }
      ]
    },
    {
      "cell_type": "code",
      "metadata": {
        "id": "8iN2ugVDZkWS",
        "colab": {
          "base_uri": "https://localhost:8080/",
          "height": 170
        },
        "outputId": "11f13680-8b52-4562-c925-0095e33a9fad"
      },
      "source": [
        "from sklearn.metrics import classification_report as rep\n",
        "print(rep( test_y , test_predict ))"
      ],
      "execution_count": null,
      "outputs": [
        {
          "output_type": "stream",
          "text": [
            "              precision    recall  f1-score   support\n",
            "\n",
            "           0       0.85      0.88      0.86       144\n",
            "           1       0.77      0.71      0.74        79\n",
            "\n",
            "    accuracy                           0.82       223\n",
            "   macro avg       0.81      0.80      0.80       223\n",
            "weighted avg       0.82      0.82      0.82       223\n",
            "\n"
          ],
          "name": "stdout"
        }
      ]
    },
    {
      "cell_type": "markdown",
      "metadata": {
        "id": "Tx7pAs3cosaz"
      },
      "source": [
        "# Parameters of Logistic Regression"
      ]
    },
    {
      "cell_type": "code",
      "metadata": {
        "id": "jjMoVU-VoyVo",
        "colab": {
          "base_uri": "https://localhost:8080/",
          "height": 102
        },
        "outputId": "0fb30ad8-c70c-4e40-b8c8-1b4d2fe465b2"
      },
      "source": [
        "\"\"\" coef_ gives you an array of weights estimated by linear regression. It is of shape (n_targets, n_features). \n",
        "In your case it is 1D array as you only have one target. In your case weights has huge values, make sure you \n",
        "normalize your features and use regularization for your model. \"\"\"\n",
        "\n",
        "logreg.coef_"
      ],
      "execution_count": null,
      "outputs": [
        {
          "output_type": "execute_result",
          "data": {
            "text/plain": [
              "array([[-0.03558458,  0.00290147,  1.01536601,  0.15096316, -1.08073588,\n",
              "         1.18891717, -1.10332387,  0.84840726,  1.06586919,  0.35417214,\n",
              "        -0.67889106, -0.78999663, -0.28652618, -0.42744142,  0.12199917,\n",
              "         0.59974141, -0.1842148 ,  0.21272632, -0.35437551, -0.14190057,\n",
              "        -0.16838272,  0.14082612,  0.23555079, -0.29078361]])"
            ]
          },
          "metadata": {
            "tags": []
          },
          "execution_count": 51
        }
      ]
    },
    {
      "cell_type": "markdown",
      "metadata": {
        "id": "MGWYxwjykZss"
      },
      "source": [
        "### Plotting the coefficients"
      ]
    },
    {
      "cell_type": "code",
      "metadata": {
        "id": "wxkPFx7Yp3Du",
        "colab": {
          "base_uri": "https://localhost:8080/",
          "height": 680
        },
        "outputId": "2d37d158-f36c-44b2-98d6-fbe6d34b0c32"
      },
      "source": [
        "plt.figure(figsize=(8, 6), dpi=120, facecolor='w', edgecolor='b')\n",
        "x = range(len(train_x.columns))\n",
        "c = logreg.coef_.reshape(-1)\n",
        "plt.bar( x, c )\n",
        "plt.xlabel( \"Variables\")\n",
        "plt.ylabel('Coefficients')\n",
        "plt.title('Coefficient plot')"
      ],
      "execution_count": null,
      "outputs": [
        {
          "output_type": "execute_result",
          "data": {
            "text/plain": [
              "Text(0.5, 1.0, 'Coefficient plot')"
            ]
          },
          "metadata": {
            "tags": []
          },
          "execution_count": 22
        },
        {
          "output_type": "display_data",
          "data": {
            "image/png": "[encoded data removed]",
            "text/plain": [
              "<Figure size 960x720 with 1 Axes>"
            ]
          },
          "metadata": {
            "tags": []
          }
        }
      ]
    },
    {
      "cell_type": "code",
      "metadata": {
        "id": "GWpGeLB-UsRE",
        "colab": {
          "base_uri": "https://localhost:8080/",
          "height": 204
        },
        "outputId": "08df1ced-f96a-4c1d-e366-6b058bc5673c"
      },
      "source": [
        "Coefficients = pd.DataFrame({\n",
        "    'Variable'    : train_x.columns,\n",
        "    'coefficient' : abs(c)\n",
        "})\n",
        "Coefficients.head()"
      ],
      "execution_count": null,
      "outputs": [
        {
          "output_type": "execute_result",
          "data": {
            "text/html": [
              "<div>\n",
              "<style scoped>\n",
              "    .dataframe tbody tr th:only-of-type {\n",
              "        vertical-align: middle;\n",
              "    }\n",
              "\n",
              "    .dataframe tbody tr th {\n",
              "        vertical-align: top;\n",
              "    }\n",
              "\n",
              "    .dataframe thead th {\n",
              "        text-align: right;\n",
              "    }\n",
              "</style>\n",
              "<table border=\"1\" class=\"dataframe\">\n",
              "  <thead>\n",
              "    <tr style=\"text-align: right;\">\n",
              "      <th></th>\n",
              "      <th>Variable</th>\n",
              "      <th>coefficient</th>\n",
              "    </tr>\n",
              "  </thead>\n",
              "  <tbody>\n",
              "    <tr>\n",
              "      <th>0</th>\n",
              "      <td>Age</td>\n",
              "      <td>0.035585</td>\n",
              "    </tr>\n",
              "    <tr>\n",
              "      <th>1</th>\n",
              "      <td>Fare</td>\n",
              "      <td>0.002901</td>\n",
              "    </tr>\n",
              "    <tr>\n",
              "      <th>2</th>\n",
              "      <td>Pclass_1</td>\n",
              "      <td>1.015366</td>\n",
              "    </tr>\n",
              "    <tr>\n",
              "      <th>3</th>\n",
              "      <td>Pclass_2</td>\n",
              "      <td>0.150963</td>\n",
              "    </tr>\n",
              "    <tr>\n",
              "      <th>4</th>\n",
              "      <td>Pclass_3</td>\n",
              "      <td>1.080736</td>\n",
              "    </tr>\n",
              "  </tbody>\n",
              "</table>\n",
              "</div>"
            ],
            "text/plain": [
              "   Variable  coefficient\n",
              "0       Age     0.035585\n",
              "1      Fare     0.002901\n",
              "2  Pclass_1     1.015366\n",
              "3  Pclass_2     0.150963\n",
              "4  Pclass_3     1.080736"
            ]
          },
          "metadata": {
            "tags": []
          },
          "execution_count": 23
        }
      ]
    },
    {
      "cell_type": "code",
      "metadata": {
        "id": "pWP-VAcstr5J"
      },
      "source": [
        "#selecting variables with high coefficient\n",
        "#sig_var = Coefficients[Coefficients.coefficient > 0.3)\n",
        "sig_var = Coefficients[Coefficients.coefficient > 0.3]"
      ],
      "execution_count": null,
      "outputs": []
    },
    {
      "cell_type": "code",
      "metadata": {
        "id": "XdCZihb6uLNI",
        "colab": {
          "base_uri": "https://localhost:8080/",
          "height": 204
        },
        "outputId": "7c87b9a6-f3ff-4dd5-9840-664cc899bffb"
      },
      "source": [
        "subset = data[sig_var['Variable'].values]\n",
        "subset.head()"
      ],
      "execution_count": null,
      "outputs": [
        {
          "output_type": "execute_result",
          "data": {
            "text/html": [
              "<div>\n",
              "<style scoped>\n",
              "    .dataframe tbody tr th:only-of-type {\n",
              "        vertical-align: middle;\n",
              "    }\n",
              "\n",
              "    .dataframe tbody tr th {\n",
              "        vertical-align: top;\n",
              "    }\n",
              "\n",
              "    .dataframe thead th {\n",
              "        text-align: right;\n",
              "    }\n",
              "</style>\n",
              "<table border=\"1\" class=\"dataframe\">\n",
              "  <thead>\n",
              "    <tr style=\"text-align: right;\">\n",
              "      <th></th>\n",
              "      <th>Pclass_1</th>\n",
              "      <th>Pclass_3</th>\n",
              "      <th>Sex_female</th>\n",
              "      <th>Sex_male</th>\n",
              "      <th>SibSp_0</th>\n",
              "      <th>SibSp_1</th>\n",
              "      <th>SibSp_2</th>\n",
              "      <th>SibSp_3</th>\n",
              "      <th>SibSp_4</th>\n",
              "      <th>SibSp_8</th>\n",
              "      <th>Parch_1</th>\n",
              "      <th>Parch_4</th>\n",
              "    </tr>\n",
              "  </thead>\n",
              "  <tbody>\n",
              "    <tr>\n",
              "      <th>0</th>\n",
              "      <td>0</td>\n",
              "      <td>1</td>\n",
              "      <td>0</td>\n",
              "      <td>1</td>\n",
              "      <td>0</td>\n",
              "      <td>1</td>\n",
              "      <td>0</td>\n",
              "      <td>0</td>\n",
              "      <td>0</td>\n",
              "      <td>0</td>\n",
              "      <td>0</td>\n",
              "      <td>0</td>\n",
              "    </tr>\n",
              "    <tr>\n",
              "      <th>1</th>\n",
              "      <td>1</td>\n",
              "      <td>0</td>\n",
              "      <td>1</td>\n",
              "      <td>0</td>\n",
              "      <td>0</td>\n",
              "      <td>1</td>\n",
              "      <td>0</td>\n",
              "      <td>0</td>\n",
              "      <td>0</td>\n",
              "      <td>0</td>\n",
              "      <td>0</td>\n",
              "      <td>0</td>\n",
              "    </tr>\n",
              "    <tr>\n",
              "      <th>2</th>\n",
              "      <td>0</td>\n",
              "      <td>1</td>\n",
              "      <td>1</td>\n",
              "      <td>0</td>\n",
              "      <td>1</td>\n",
              "      <td>0</td>\n",
              "      <td>0</td>\n",
              "      <td>0</td>\n",
              "      <td>0</td>\n",
              "      <td>0</td>\n",
              "      <td>0</td>\n",
              "      <td>0</td>\n",
              "    </tr>\n",
              "    <tr>\n",
              "      <th>3</th>\n",
              "      <td>1</td>\n",
              "      <td>0</td>\n",
              "      <td>1</td>\n",
              "      <td>0</td>\n",
              "      <td>0</td>\n",
              "      <td>1</td>\n",
              "      <td>0</td>\n",
              "      <td>0</td>\n",
              "      <td>0</td>\n",
              "      <td>0</td>\n",
              "      <td>0</td>\n",
              "      <td>0</td>\n",
              "    </tr>\n",
              "    <tr>\n",
              "      <th>4</th>\n",
              "      <td>0</td>\n",
              "      <td>1</td>\n",
              "      <td>0</td>\n",
              "      <td>1</td>\n",
              "      <td>1</td>\n",
              "      <td>0</td>\n",
              "      <td>0</td>\n",
              "      <td>0</td>\n",
              "      <td>0</td>\n",
              "      <td>0</td>\n",
              "      <td>0</td>\n",
              "      <td>0</td>\n",
              "    </tr>\n",
              "  </tbody>\n",
              "</table>\n",
              "</div>"
            ],
            "text/plain": [
              "   Pclass_1  Pclass_3  Sex_female  Sex_male  ...  SibSp_4  SibSp_8  Parch_1  Parch_4\n",
              "0         0         1           0         1  ...        0        0        0        0\n",
              "1         1         0           1         0  ...        0        0        0        0\n",
              "2         0         1           1         0  ...        0        0        0        0\n",
              "3         1         0           1         0  ...        0        0        0        0\n",
              "4         0         1           0         1  ...        0        0        0        0\n",
              "\n",
              "[5 rows x 12 columns]"
            ]
          },
          "metadata": {
            "tags": []
          },
          "execution_count": 53
        }
      ]
    },
    {
      "cell_type": "code",
      "metadata": {
        "id": "aeEEVtBbvFI6"
      },
      "source": [
        "# Using train test split function\n",
        "train_x,test_x,train_y,test_y = train_test_split(subset, y, random_state = 56)"
      ],
      "execution_count": null,
      "outputs": []
    },
    {
      "cell_type": "markdown",
      "metadata": {
        "id": "bP1qY6M2vFKX"
      },
      "source": [
        "### Implementing Logistic Regression"
      ]
    },
    {
      "cell_type": "code",
      "metadata": {
        "id": "fT8yiasyvFKf",
        "colab": {
          "base_uri": "https://localhost:8080/",
          "height": 102
        },
        "outputId": "c36a3f1a-ea95-4f7a-feb6-36f109bffe94"
      },
      "source": [
        "# Creating instance of Logistic Regresssion\n",
        "logreg = LogReg()\n",
        "\n",
        "# Fitting the model\n",
        "logreg.fit(train_x, train_y)"
      ],
      "execution_count": null,
      "outputs": [
        {
          "output_type": "execute_result",
          "data": {
            "text/plain": [
              "LogisticRegression(C=1.0, class_weight=None, dual=False, fit_intercept=True,\n",
              "                   intercept_scaling=1, l1_ratio=None, max_iter=100,\n",
              "                   multi_class='auto', n_jobs=None, penalty='l2',\n",
              "                   random_state=None, solver='lbfgs', tol=0.0001, verbose=0,\n",
              "                   warm_start=False)"
            ]
          },
          "metadata": {
            "tags": []
          },
          "execution_count": 55
        }
      ]
    },
    {
      "cell_type": "markdown",
      "metadata": {
        "id": "nprgzSRivFKo"
      },
      "source": [
        "### Making predictions using *predict* function"
      ]
    },
    {
      "cell_type": "code",
      "metadata": {
        "id": "sI8H3sxLvFKq",
        "colab": {
          "base_uri": "https://localhost:8080/",
          "height": 34
        },
        "outputId": "62e4de66-3dd4-4c17-924f-57a2c6c32e94"
      },
      "source": [
        "# Predicting over the Train\n",
        "train_predict = logreg.predict(train_x)\n",
        "k = f1_score(train_predict, train_y)\n",
        "print('Training f1_score', k )"
      ],
      "execution_count": null,
      "outputs": [
        {
          "output_type": "stream",
          "text": [
            "Training f1_score 0.7011952191235059\n"
          ],
          "name": "stdout"
        }
      ]
    },
    {
      "cell_type": "code",
      "metadata": {
        "id": "kOjZbA_0uNMg",
        "colab": {
          "base_uri": "https://localhost:8080/",
          "height": 680
        },
        "outputId": "9a253204-26f5-4415-9367-c81ef3a2aa92"
      },
      "source": [
        "plt.figure(figsize=(8, 6), dpi=120, facecolor='w', edgecolor='b')\n",
        "x = range(len(train_x.columns))\n",
        "c = logreg.coef_.reshape(-1)\n",
        "plt.bar( x, c )\n",
        "plt.xlabel( \"Variables\")\n",
        "plt.ylabel('Coefficients')\n",
        "plt.title('Coefficient plot')"
      ],
      "execution_count": null,
      "outputs": [
        {
          "output_type": "execute_result",
          "data": {
            "text/plain": [
              "Text(0.5, 1.0, 'Coefficient plot')"
            ]
          },
          "metadata": {
            "tags": []
          },
          "execution_count": 57
        },
        {
          "output_type": "display_data",
          "data": {
            "image/png": "[encoded data removed]",
            "text/plain": [
              "<Figure size 960x720 with 1 Axes>"
            ]
          },
          "metadata": {
            "tags": []
          }
        }
      ]
    },
    {
      "cell_type": "code",
      "metadata": {
        "id": "Z9mFcQNrv3Ee"
      },
      "source": [
        ""
      ],
      "execution_count": null,
      "outputs": []
    }
  ]
}