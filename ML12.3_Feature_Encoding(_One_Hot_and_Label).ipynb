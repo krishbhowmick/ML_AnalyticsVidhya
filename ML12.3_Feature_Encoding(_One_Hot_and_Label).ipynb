{
  "nbformat": 4,
  "nbformat_minor": 0,
  "metadata": {
    "kernelspec": {
      "display_name": "Python 3",
      "language": "python",
      "name": "python3"
    },
    "language_info": {
      "codemirror_mode": {
        "name": "ipython",
        "version": 3
      },
      "file_extension": ".py",
      "mimetype": "text/x-python",
      "name": "python",
      "nbconvert_exporter": "python",
      "pygments_lexer": "ipython3",
      "version": "3.6.8"
    },
    "colab": {
      "name": "ML12.3_Feature Encoding( One Hot and Label) ",
      "provenance": [],
      "include_colab_link": true
    }
  },
  "cells": [
    {
      "cell_type": "markdown",
      "metadata": {
        "id": "view-in-github",
        "colab_type": "text"
      },
      "source": [
        "<a href=\"https://colab.research.google.com/github/krishbhowmick/ML_AnalyticsVidhya/blob/main/ML12.3_Feature_Encoding(_One_Hot_and_Label).ipynb\" target=\"_parent\"><img src=\"https://colab.research.google.com/assets/colab-badge.svg\" alt=\"Open In Colab\"/></a>"
      ]
    },
    {
      "cell_type": "markdown",
      "metadata": {
        "id": "t0iH2WgUlKse"
      },
      "source": [
        "## Load Bigmart Sales data"
      ]
    },
    {
      "cell_type": "code",
      "metadata": {
        "id": "Qhr39556lKsg",
        "colab": {
          "base_uri": "https://localhost:8080/",
          "height": 122
        },
        "outputId": "99e68854-14f9-4ef9-b6b8-6d272b5ede3e"
      },
      "source": [
        "from google.colab import drive\n",
        "drive.mount('/content/drive/') "
      ],
      "execution_count": null,
      "outputs": [
        {
          "output_type": "stream",
          "text": [
            "Go to this URL in a browser: https://accounts.google.com/o/oauth2/auth?client_id=947318989803-6bn6qk8qdgf4n4g3pfee6491hc0brc4i.apps.googleusercontent.com&redirect_uri=urn%3aietf%3awg%3aoauth%3a2.0%3aoob&scope=email%20https%3a%2f%2fwww.googleapis.com%2fauth%2fdocs.test%20https%3a%2f%2fwww.googleapis.com%2fauth%2fdrive%20https%3a%2f%2fwww.googleapis.com%2fauth%2fdrive.photos.readonly%20https%3a%2f%2fwww.googleapis.com%2fauth%2fpeopleapi.readonly&response_type=code\n",
            "\n",
            "Enter your authorization code:\n",
            "··········\n",
            "Mounted at /content/drive/\n"
          ],
          "name": "stdout"
        }
      ]
    },
    {
      "cell_type": "code",
      "metadata": {
        "id": "2BXiRh60lKsn"
      },
      "source": [
        "import pandas as pd\n",
        "bigmart = pd.read_csv('/content/drive/My Drive/ML_Code/12_Feature Engineering/6.  Feature Encoding/train_bm.csv')"
      ],
      "execution_count": null,
      "outputs": []
    },
    {
      "cell_type": "code",
      "metadata": {
        "scrolled": true,
        "id": "xHMOE706lKss",
        "outputId": "5f422ad0-9246-484c-9316-65f12124d2cf"
      },
      "source": [
        "bigmart.head()"
      ],
      "execution_count": null,
      "outputs": [
        {
          "output_type": "execute_result",
          "data": {
            "text/html": [
              "<div>\n",
              "<style scoped>\n",
              "    .dataframe tbody tr th:only-of-type {\n",
              "        vertical-align: middle;\n",
              "    }\n",
              "\n",
              "    .dataframe tbody tr th {\n",
              "        vertical-align: top;\n",
              "    }\n",
              "\n",
              "    .dataframe thead th {\n",
              "        text-align: right;\n",
              "    }\n",
              "</style>\n",
              "<table border=\"1\" class=\"dataframe\">\n",
              "  <thead>\n",
              "    <tr style=\"text-align: right;\">\n",
              "      <th></th>\n",
              "      <th>Item_Identifier</th>\n",
              "      <th>Item_Weight</th>\n",
              "      <th>Item_Fat_Content</th>\n",
              "      <th>Item_Visibility</th>\n",
              "      <th>Item_Type</th>\n",
              "      <th>Item_MRP</th>\n",
              "      <th>Outlet_Identifier</th>\n",
              "      <th>Outlet_Establishment_Year</th>\n",
              "      <th>Outlet_Size</th>\n",
              "      <th>Outlet_Location_Type</th>\n",
              "      <th>Outlet_Type</th>\n",
              "      <th>Item_Outlet_Sales</th>\n",
              "    </tr>\n",
              "  </thead>\n",
              "  <tbody>\n",
              "    <tr>\n",
              "      <th>0</th>\n",
              "      <td>FDA15</td>\n",
              "      <td>9.30</td>\n",
              "      <td>Low Fat</td>\n",
              "      <td>0.016047</td>\n",
              "      <td>Dairy</td>\n",
              "      <td>249.8092</td>\n",
              "      <td>OUT049</td>\n",
              "      <td>1999</td>\n",
              "      <td>Medium</td>\n",
              "      <td>Tier 1</td>\n",
              "      <td>Supermarket Type1</td>\n",
              "      <td>3735.1380</td>\n",
              "    </tr>\n",
              "    <tr>\n",
              "      <th>1</th>\n",
              "      <td>DRC01</td>\n",
              "      <td>5.92</td>\n",
              "      <td>Regular</td>\n",
              "      <td>0.019278</td>\n",
              "      <td>Soft Drinks</td>\n",
              "      <td>48.2692</td>\n",
              "      <td>OUT018</td>\n",
              "      <td>2009</td>\n",
              "      <td>Medium</td>\n",
              "      <td>Tier 3</td>\n",
              "      <td>Supermarket Type2</td>\n",
              "      <td>443.4228</td>\n",
              "    </tr>\n",
              "    <tr>\n",
              "      <th>2</th>\n",
              "      <td>FDN15</td>\n",
              "      <td>17.50</td>\n",
              "      <td>Low Fat</td>\n",
              "      <td>0.016760</td>\n",
              "      <td>Meat</td>\n",
              "      <td>141.6180</td>\n",
              "      <td>OUT049</td>\n",
              "      <td>1999</td>\n",
              "      <td>Medium</td>\n",
              "      <td>Tier 1</td>\n",
              "      <td>Supermarket Type1</td>\n",
              "      <td>2097.2700</td>\n",
              "    </tr>\n",
              "    <tr>\n",
              "      <th>3</th>\n",
              "      <td>FDX07</td>\n",
              "      <td>19.20</td>\n",
              "      <td>Regular</td>\n",
              "      <td>0.000000</td>\n",
              "      <td>Fruits and Vegetables</td>\n",
              "      <td>182.0950</td>\n",
              "      <td>OUT010</td>\n",
              "      <td>1998</td>\n",
              "      <td>NaN</td>\n",
              "      <td>Tier 3</td>\n",
              "      <td>Grocery Store</td>\n",
              "      <td>732.3800</td>\n",
              "    </tr>\n",
              "    <tr>\n",
              "      <th>4</th>\n",
              "      <td>NCD19</td>\n",
              "      <td>8.93</td>\n",
              "      <td>Low Fat</td>\n",
              "      <td>0.000000</td>\n",
              "      <td>Household</td>\n",
              "      <td>53.8614</td>\n",
              "      <td>OUT013</td>\n",
              "      <td>1987</td>\n",
              "      <td>High</td>\n",
              "      <td>Tier 3</td>\n",
              "      <td>Supermarket Type1</td>\n",
              "      <td>994.7052</td>\n",
              "    </tr>\n",
              "  </tbody>\n",
              "</table>\n",
              "</div>"
            ],
            "text/plain": [
              "  Item_Identifier  Item_Weight Item_Fat_Content  Item_Visibility  \\\n",
              "0           FDA15         9.30          Low Fat         0.016047   \n",
              "1           DRC01         5.92          Regular         0.019278   \n",
              "2           FDN15        17.50          Low Fat         0.016760   \n",
              "3           FDX07        19.20          Regular         0.000000   \n",
              "4           NCD19         8.93          Low Fat         0.000000   \n",
              "\n",
              "               Item_Type  Item_MRP Outlet_Identifier  \\\n",
              "0                  Dairy  249.8092            OUT049   \n",
              "1            Soft Drinks   48.2692            OUT018   \n",
              "2                   Meat  141.6180            OUT049   \n",
              "3  Fruits and Vegetables  182.0950            OUT010   \n",
              "4              Household   53.8614            OUT013   \n",
              "\n",
              "   Outlet_Establishment_Year Outlet_Size Outlet_Location_Type  \\\n",
              "0                       1999      Medium               Tier 1   \n",
              "1                       2009      Medium               Tier 3   \n",
              "2                       1999      Medium               Tier 1   \n",
              "3                       1998         NaN               Tier 3   \n",
              "4                       1987        High               Tier 3   \n",
              "\n",
              "         Outlet_Type  Item_Outlet_Sales  \n",
              "0  Supermarket Type1          3735.1380  \n",
              "1  Supermarket Type2           443.4228  \n",
              "2  Supermarket Type1          2097.2700  \n",
              "3      Grocery Store           732.3800  \n",
              "4  Supermarket Type1           994.7052  "
            ]
          },
          "metadata": {
            "tags": []
          },
          "execution_count": 3
        }
      ]
    },
    {
      "cell_type": "markdown",
      "metadata": {
        "id": "GYfxT-f6lKsy"
      },
      "source": [
        "### Check datatypes of variables"
      ]
    },
    {
      "cell_type": "code",
      "metadata": {
        "scrolled": true,
        "id": "jxB6wCjdlKsz",
        "outputId": "8192fefe-f25a-4b2f-f020-3b422c93851c"
      },
      "source": [
        "bigmart.dtypes"
      ],
      "execution_count": null,
      "outputs": [
        {
          "output_type": "execute_result",
          "data": {
            "text/plain": [
              "Item_Identifier               object\n",
              "Item_Weight                  float64\n",
              "Item_Fat_Content              object\n",
              "Item_Visibility              float64\n",
              "Item_Type                     object\n",
              "Item_MRP                     float64\n",
              "Outlet_Identifier             object\n",
              "Outlet_Establishment_Year      int64\n",
              "Outlet_Size                   object\n",
              "Outlet_Location_Type          object\n",
              "Outlet_Type                   object\n",
              "Item_Outlet_Sales            float64\n",
              "dtype: object"
            ]
          },
          "metadata": {
            "tags": []
          },
          "execution_count": 4
        }
      ]
    },
    {
      "cell_type": "markdown",
      "metadata": {
        "id": "wCte4eQwlKs5"
      },
      "source": [
        "### Encoding a single variable-  Outlet Type"
      ]
    },
    {
      "cell_type": "code",
      "metadata": {
        "scrolled": true,
        "id": "g26wtBLplKs6",
        "outputId": "f0bbd56b-a2eb-4588-d3b8-81abbe915930"
      },
      "source": [
        "bigmart['Outlet_Type'].value_counts()"
      ],
      "execution_count": null,
      "outputs": [
        {
          "output_type": "execute_result",
          "data": {
            "text/plain": [
              "Supermarket Type1    5577\n",
              "Grocery Store        1083\n",
              "Supermarket Type3     935\n",
              "Supermarket Type2     928\n",
              "Name: Outlet_Type, dtype: int64"
            ]
          },
          "metadata": {
            "tags": []
          },
          "execution_count": 5
        }
      ]
    },
    {
      "cell_type": "code",
      "metadata": {
        "scrolled": false,
        "id": "s08y1T7mlKs_",
        "outputId": "63a68e4e-6cc7-4c76-a80a-209b75d21b8f"
      },
      "source": [
        "# get_dummies-\n",
        "pd.get_dummies(bigmart['Outlet_Type']).head()"
      ],
      "execution_count": null,
      "outputs": [
        {
          "output_type": "execute_result",
          "data": {
            "text/html": [
              "<div>\n",
              "<style scoped>\n",
              "    .dataframe tbody tr th:only-of-type {\n",
              "        vertical-align: middle;\n",
              "    }\n",
              "\n",
              "    .dataframe tbody tr th {\n",
              "        vertical-align: top;\n",
              "    }\n",
              "\n",
              "    .dataframe thead th {\n",
              "        text-align: right;\n",
              "    }\n",
              "</style>\n",
              "<table border=\"1\" class=\"dataframe\">\n",
              "  <thead>\n",
              "    <tr style=\"text-align: right;\">\n",
              "      <th></th>\n",
              "      <th>Grocery Store</th>\n",
              "      <th>Supermarket Type1</th>\n",
              "      <th>Supermarket Type2</th>\n",
              "      <th>Supermarket Type3</th>\n",
              "    </tr>\n",
              "  </thead>\n",
              "  <tbody>\n",
              "    <tr>\n",
              "      <th>0</th>\n",
              "      <td>0</td>\n",
              "      <td>1</td>\n",
              "      <td>0</td>\n",
              "      <td>0</td>\n",
              "    </tr>\n",
              "    <tr>\n",
              "      <th>1</th>\n",
              "      <td>0</td>\n",
              "      <td>0</td>\n",
              "      <td>1</td>\n",
              "      <td>0</td>\n",
              "    </tr>\n",
              "    <tr>\n",
              "      <th>2</th>\n",
              "      <td>0</td>\n",
              "      <td>1</td>\n",
              "      <td>0</td>\n",
              "      <td>0</td>\n",
              "    </tr>\n",
              "    <tr>\n",
              "      <th>3</th>\n",
              "      <td>1</td>\n",
              "      <td>0</td>\n",
              "      <td>0</td>\n",
              "      <td>0</td>\n",
              "    </tr>\n",
              "    <tr>\n",
              "      <th>4</th>\n",
              "      <td>0</td>\n",
              "      <td>1</td>\n",
              "      <td>0</td>\n",
              "      <td>0</td>\n",
              "    </tr>\n",
              "  </tbody>\n",
              "</table>\n",
              "</div>"
            ],
            "text/plain": [
              "   Grocery Store  Supermarket Type1  Supermarket Type2  Supermarket Type3\n",
              "0              0                  1                  0                  0\n",
              "1              0                  0                  1                  0\n",
              "2              0                  1                  0                  0\n",
              "3              1                  0                  0                  0\n",
              "4              0                  1                  0                  0"
            ]
          },
          "metadata": {
            "tags": []
          },
          "execution_count": 6
        }
      ]
    },
    {
      "cell_type": "markdown",
      "metadata": {
        "id": "9Jjka2smlKtF"
      },
      "source": [
        "### Doing one hot encoding for all the variables "
      ]
    },
    {
      "cell_type": "code",
      "metadata": {
        "id": "YjMDVj9TlKtG",
        "outputId": "0cfa5ece-a618-4779-c22e-996d93188682"
      },
      "source": [
        "bigmart_encoded = pd.get_dummies(bigmart)\n",
        "bigmart_encoded.head()"
      ],
      "execution_count": null,
      "outputs": [
        {
          "output_type": "execute_result",
          "data": {
            "text/html": [
              "<div>\n",
              "<style scoped>\n",
              "    .dataframe tbody tr th:only-of-type {\n",
              "        vertical-align: middle;\n",
              "    }\n",
              "\n",
              "    .dataframe tbody tr th {\n",
              "        vertical-align: top;\n",
              "    }\n",
              "\n",
              "    .dataframe thead th {\n",
              "        text-align: right;\n",
              "    }\n",
              "</style>\n",
              "<table border=\"1\" class=\"dataframe\">\n",
              "  <thead>\n",
              "    <tr style=\"text-align: right;\">\n",
              "      <th></th>\n",
              "      <th>Item_Weight</th>\n",
              "      <th>Item_Visibility</th>\n",
              "      <th>Item_MRP</th>\n",
              "      <th>Outlet_Establishment_Year</th>\n",
              "      <th>Item_Outlet_Sales</th>\n",
              "      <th>Item_Identifier_DRA12</th>\n",
              "      <th>Item_Identifier_DRA24</th>\n",
              "      <th>Item_Identifier_DRA59</th>\n",
              "      <th>Item_Identifier_DRB01</th>\n",
              "      <th>Item_Identifier_DRB13</th>\n",
              "      <th>...</th>\n",
              "      <th>Outlet_Size_High</th>\n",
              "      <th>Outlet_Size_Medium</th>\n",
              "      <th>Outlet_Size_Small</th>\n",
              "      <th>Outlet_Location_Type_Tier 1</th>\n",
              "      <th>Outlet_Location_Type_Tier 2</th>\n",
              "      <th>Outlet_Location_Type_Tier 3</th>\n",
              "      <th>Outlet_Type_Grocery Store</th>\n",
              "      <th>Outlet_Type_Supermarket Type1</th>\n",
              "      <th>Outlet_Type_Supermarket Type2</th>\n",
              "      <th>Outlet_Type_Supermarket Type3</th>\n",
              "    </tr>\n",
              "  </thead>\n",
              "  <tbody>\n",
              "    <tr>\n",
              "      <th>0</th>\n",
              "      <td>9.30</td>\n",
              "      <td>0.016047</td>\n",
              "      <td>249.8092</td>\n",
              "      <td>1999</td>\n",
              "      <td>3735.1380</td>\n",
              "      <td>0</td>\n",
              "      <td>0</td>\n",
              "      <td>0</td>\n",
              "      <td>0</td>\n",
              "      <td>0</td>\n",
              "      <td>...</td>\n",
              "      <td>0</td>\n",
              "      <td>1</td>\n",
              "      <td>0</td>\n",
              "      <td>1</td>\n",
              "      <td>0</td>\n",
              "      <td>0</td>\n",
              "      <td>0</td>\n",
              "      <td>1</td>\n",
              "      <td>0</td>\n",
              "      <td>0</td>\n",
              "    </tr>\n",
              "    <tr>\n",
              "      <th>1</th>\n",
              "      <td>5.92</td>\n",
              "      <td>0.019278</td>\n",
              "      <td>48.2692</td>\n",
              "      <td>2009</td>\n",
              "      <td>443.4228</td>\n",
              "      <td>0</td>\n",
              "      <td>0</td>\n",
              "      <td>0</td>\n",
              "      <td>0</td>\n",
              "      <td>0</td>\n",
              "      <td>...</td>\n",
              "      <td>0</td>\n",
              "      <td>1</td>\n",
              "      <td>0</td>\n",
              "      <td>0</td>\n",
              "      <td>0</td>\n",
              "      <td>1</td>\n",
              "      <td>0</td>\n",
              "      <td>0</td>\n",
              "      <td>1</td>\n",
              "      <td>0</td>\n",
              "    </tr>\n",
              "    <tr>\n",
              "      <th>2</th>\n",
              "      <td>17.50</td>\n",
              "      <td>0.016760</td>\n",
              "      <td>141.6180</td>\n",
              "      <td>1999</td>\n",
              "      <td>2097.2700</td>\n",
              "      <td>0</td>\n",
              "      <td>0</td>\n",
              "      <td>0</td>\n",
              "      <td>0</td>\n",
              "      <td>0</td>\n",
              "      <td>...</td>\n",
              "      <td>0</td>\n",
              "      <td>1</td>\n",
              "      <td>0</td>\n",
              "      <td>1</td>\n",
              "      <td>0</td>\n",
              "      <td>0</td>\n",
              "      <td>0</td>\n",
              "      <td>1</td>\n",
              "      <td>0</td>\n",
              "      <td>0</td>\n",
              "    </tr>\n",
              "    <tr>\n",
              "      <th>3</th>\n",
              "      <td>19.20</td>\n",
              "      <td>0.000000</td>\n",
              "      <td>182.0950</td>\n",
              "      <td>1998</td>\n",
              "      <td>732.3800</td>\n",
              "      <td>0</td>\n",
              "      <td>0</td>\n",
              "      <td>0</td>\n",
              "      <td>0</td>\n",
              "      <td>0</td>\n",
              "      <td>...</td>\n",
              "      <td>0</td>\n",
              "      <td>0</td>\n",
              "      <td>0</td>\n",
              "      <td>0</td>\n",
              "      <td>0</td>\n",
              "      <td>1</td>\n",
              "      <td>1</td>\n",
              "      <td>0</td>\n",
              "      <td>0</td>\n",
              "      <td>0</td>\n",
              "    </tr>\n",
              "    <tr>\n",
              "      <th>4</th>\n",
              "      <td>8.93</td>\n",
              "      <td>0.000000</td>\n",
              "      <td>53.8614</td>\n",
              "      <td>1987</td>\n",
              "      <td>994.7052</td>\n",
              "      <td>0</td>\n",
              "      <td>0</td>\n",
              "      <td>0</td>\n",
              "      <td>0</td>\n",
              "      <td>0</td>\n",
              "      <td>...</td>\n",
              "      <td>1</td>\n",
              "      <td>0</td>\n",
              "      <td>0</td>\n",
              "      <td>0</td>\n",
              "      <td>0</td>\n",
              "      <td>1</td>\n",
              "      <td>0</td>\n",
              "      <td>1</td>\n",
              "      <td>0</td>\n",
              "      <td>0</td>\n",
              "    </tr>\n",
              "  </tbody>\n",
              "</table>\n",
              "<p>5 rows × 1605 columns</p>\n",
              "</div>"
            ],
            "text/plain": [
              "   Item_Weight  Item_Visibility  Item_MRP  Outlet_Establishment_Year  \\\n",
              "0         9.30         0.016047  249.8092                       1999   \n",
              "1         5.92         0.019278   48.2692                       2009   \n",
              "2        17.50         0.016760  141.6180                       1999   \n",
              "3        19.20         0.000000  182.0950                       1998   \n",
              "4         8.93         0.000000   53.8614                       1987   \n",
              "\n",
              "   Item_Outlet_Sales  Item_Identifier_DRA12  Item_Identifier_DRA24  \\\n",
              "0          3735.1380                      0                      0   \n",
              "1           443.4228                      0                      0   \n",
              "2          2097.2700                      0                      0   \n",
              "3           732.3800                      0                      0   \n",
              "4           994.7052                      0                      0   \n",
              "\n",
              "   Item_Identifier_DRA59  Item_Identifier_DRB01  Item_Identifier_DRB13  \\\n",
              "0                      0                      0                      0   \n",
              "1                      0                      0                      0   \n",
              "2                      0                      0                      0   \n",
              "3                      0                      0                      0   \n",
              "4                      0                      0                      0   \n",
              "\n",
              "               ...                Outlet_Size_High  Outlet_Size_Medium  \\\n",
              "0              ...                               0                   1   \n",
              "1              ...                               0                   1   \n",
              "2              ...                               0                   1   \n",
              "3              ...                               0                   0   \n",
              "4              ...                               1                   0   \n",
              "\n",
              "   Outlet_Size_Small  Outlet_Location_Type_Tier 1  \\\n",
              "0                  0                            1   \n",
              "1                  0                            0   \n",
              "2                  0                            1   \n",
              "3                  0                            0   \n",
              "4                  0                            0   \n",
              "\n",
              "   Outlet_Location_Type_Tier 2  Outlet_Location_Type_Tier 3  \\\n",
              "0                            0                            0   \n",
              "1                            0                            1   \n",
              "2                            0                            0   \n",
              "3                            0                            1   \n",
              "4                            0                            1   \n",
              "\n",
              "   Outlet_Type_Grocery Store  Outlet_Type_Supermarket Type1  \\\n",
              "0                          0                              1   \n",
              "1                          0                              0   \n",
              "2                          0                              1   \n",
              "3                          1                              0   \n",
              "4                          0                              1   \n",
              "\n",
              "   Outlet_Type_Supermarket Type2  Outlet_Type_Supermarket Type3  \n",
              "0                              0                              0  \n",
              "1                              1                              0  \n",
              "2                              0                              0  \n",
              "3                              0                              0  \n",
              "4                              0                              0  \n",
              "\n",
              "[5 rows x 1605 columns]"
            ]
          },
          "metadata": {
            "tags": []
          },
          "execution_count": 7
        }
      ]
    },
    {
      "cell_type": "markdown",
      "metadata": {
        "id": "ITA864DKlKtK"
      },
      "source": [
        "We have two problems here: \n",
        "\n",
        "#### Problem 1:\n",
        "Look at the newly created variables *'Outlet_Size_High \tOutlet_Size_Medium \tOutlet_Size_Small'*, the order between these variables is destroyed. As a result we are missing out on some important information.  "
      ]
    },
    {
      "cell_type": "code",
      "metadata": {
        "id": "pc5vMZRflKtL",
        "outputId": "4cba0adf-7329-4e99-ca1c-7c5050f2dc45"
      },
      "source": [
        "bigmart_encoded[['Outlet_Size_High', 'Outlet_Size_Medium', 'Outlet_Size_Small']].head()"
      ],
      "execution_count": null,
      "outputs": [
        {
          "output_type": "execute_result",
          "data": {
            "text/html": [
              "<div>\n",
              "<style scoped>\n",
              "    .dataframe tbody tr th:only-of-type {\n",
              "        vertical-align: middle;\n",
              "    }\n",
              "\n",
              "    .dataframe tbody tr th {\n",
              "        vertical-align: top;\n",
              "    }\n",
              "\n",
              "    .dataframe thead th {\n",
              "        text-align: right;\n",
              "    }\n",
              "</style>\n",
              "<table border=\"1\" class=\"dataframe\">\n",
              "  <thead>\n",
              "    <tr style=\"text-align: right;\">\n",
              "      <th></th>\n",
              "      <th>Outlet_Size_High</th>\n",
              "      <th>Outlet_Size_Medium</th>\n",
              "      <th>Outlet_Size_Small</th>\n",
              "    </tr>\n",
              "  </thead>\n",
              "  <tbody>\n",
              "    <tr>\n",
              "      <th>0</th>\n",
              "      <td>0</td>\n",
              "      <td>1</td>\n",
              "      <td>0</td>\n",
              "    </tr>\n",
              "    <tr>\n",
              "      <th>1</th>\n",
              "      <td>0</td>\n",
              "      <td>1</td>\n",
              "      <td>0</td>\n",
              "    </tr>\n",
              "    <tr>\n",
              "      <th>2</th>\n",
              "      <td>0</td>\n",
              "      <td>1</td>\n",
              "      <td>0</td>\n",
              "    </tr>\n",
              "    <tr>\n",
              "      <th>3</th>\n",
              "      <td>0</td>\n",
              "      <td>0</td>\n",
              "      <td>0</td>\n",
              "    </tr>\n",
              "    <tr>\n",
              "      <th>4</th>\n",
              "      <td>1</td>\n",
              "      <td>0</td>\n",
              "      <td>0</td>\n",
              "    </tr>\n",
              "  </tbody>\n",
              "</table>\n",
              "</div>"
            ],
            "text/plain": [
              "   Outlet_Size_High  Outlet_Size_Medium  Outlet_Size_Small\n",
              "0                 0                   1                  0\n",
              "1                 0                   1                  0\n",
              "2                 0                   1                  0\n",
              "3                 0                   0                  0\n",
              "4                 1                   0                  0"
            ]
          },
          "metadata": {
            "tags": []
          },
          "execution_count": 9
        }
      ]
    },
    {
      "cell_type": "markdown",
      "metadata": {
        "id": "rFi5BfoflKtQ"
      },
      "source": [
        "#### Problem 2\n",
        "The number of features has increased from 12 to 1600, where maximum values are 0."
      ]
    },
    {
      "cell_type": "code",
      "metadata": {
        "id": "rpi98s7HlKtR",
        "outputId": "27efb287-b7e3-4581-cdf8-b63cb4444200"
      },
      "source": [
        "bigmart.shape, bigmart_encoded.shape"
      ],
      "execution_count": null,
      "outputs": [
        {
          "output_type": "execute_result",
          "data": {
            "text/plain": [
              "((8523, 12), (8523, 1605))"
            ]
          },
          "metadata": {
            "tags": []
          },
          "execution_count": 11
        }
      ]
    },
    {
      "cell_type": "code",
      "metadata": {
        "scrolled": true,
        "id": "DiOHKWezlKtX",
        "outputId": "2c3ed4ed-48c3-4c3b-c0fa-043077e87d17"
      },
      "source": [
        "bigmart[['Item_Identifier_DRA12', 'Item_Identifier_DRA24',\n",
        "       'Item_Identifier_DRA59', 'Item_Identifier_DRB01',\n",
        "       'Item_Identifier_DRB13', 'Item_Identifier_DRB24',\n",
        "       'Item_Identifier_DRB25', 'Item_Identifier_DRB48',\n",
        "       'Item_Identifier_DRC01', 'Item_Identifier_DRC12',\n",
        "       'Item_Identifier_DRC13', 'Item_Identifier_DRC24',\n",
        "       'Item_Identifier_DRC25', 'Item_Identifier_DRC27',\n",
        "       'Item_Identifier_DRC36', 'Item_Identifier_DRC49',\n",
        "       'Item_Identifier_DRD01', 'Item_Identifier_DRD12',\n",
        "       'Item_Identifier_DRD13', 'Item_Identifier_DRD15',\n",
        "       'Item_Identifier_DRD24', 'Item_Identifier_DRD25',\n",
        "       'Item_Identifier_DRD27', 'Item_Identifier_DRD37',\n",
        "       'Item_Identifier_DRD49']].head()"
      ],
      "execution_count": null,
      "outputs": [
        {
          "output_type": "execute_result",
          "data": {
            "text/html": [
              "<div>\n",
              "<style scoped>\n",
              "    .dataframe tbody tr th:only-of-type {\n",
              "        vertical-align: middle;\n",
              "    }\n",
              "\n",
              "    .dataframe tbody tr th {\n",
              "        vertical-align: top;\n",
              "    }\n",
              "\n",
              "    .dataframe thead th {\n",
              "        text-align: right;\n",
              "    }\n",
              "</style>\n",
              "<table border=\"1\" class=\"dataframe\">\n",
              "  <thead>\n",
              "    <tr style=\"text-align: right;\">\n",
              "      <th></th>\n",
              "      <th>Item_Identifier_DRA12</th>\n",
              "      <th>Item_Identifier_DRA24</th>\n",
              "      <th>Item_Identifier_DRA59</th>\n",
              "      <th>Item_Identifier_DRB01</th>\n",
              "      <th>Item_Identifier_DRB13</th>\n",
              "      <th>Item_Identifier_DRB24</th>\n",
              "      <th>Item_Identifier_DRB25</th>\n",
              "      <th>Item_Identifier_DRB48</th>\n",
              "      <th>Item_Identifier_DRC01</th>\n",
              "      <th>Item_Identifier_DRC12</th>\n",
              "      <th>...</th>\n",
              "      <th>Item_Identifier_DRC49</th>\n",
              "      <th>Item_Identifier_DRD01</th>\n",
              "      <th>Item_Identifier_DRD12</th>\n",
              "      <th>Item_Identifier_DRD13</th>\n",
              "      <th>Item_Identifier_DRD15</th>\n",
              "      <th>Item_Identifier_DRD24</th>\n",
              "      <th>Item_Identifier_DRD25</th>\n",
              "      <th>Item_Identifier_DRD27</th>\n",
              "      <th>Item_Identifier_DRD37</th>\n",
              "      <th>Item_Identifier_DRD49</th>\n",
              "    </tr>\n",
              "  </thead>\n",
              "  <tbody>\n",
              "    <tr>\n",
              "      <th>0</th>\n",
              "      <td>0</td>\n",
              "      <td>0</td>\n",
              "      <td>0</td>\n",
              "      <td>0</td>\n",
              "      <td>0</td>\n",
              "      <td>0</td>\n",
              "      <td>0</td>\n",
              "      <td>0</td>\n",
              "      <td>0</td>\n",
              "      <td>0</td>\n",
              "      <td>...</td>\n",
              "      <td>0</td>\n",
              "      <td>0</td>\n",
              "      <td>0</td>\n",
              "      <td>0</td>\n",
              "      <td>0</td>\n",
              "      <td>0</td>\n",
              "      <td>0</td>\n",
              "      <td>0</td>\n",
              "      <td>0</td>\n",
              "      <td>0</td>\n",
              "    </tr>\n",
              "    <tr>\n",
              "      <th>1</th>\n",
              "      <td>0</td>\n",
              "      <td>0</td>\n",
              "      <td>0</td>\n",
              "      <td>0</td>\n",
              "      <td>0</td>\n",
              "      <td>0</td>\n",
              "      <td>0</td>\n",
              "      <td>0</td>\n",
              "      <td>1</td>\n",
              "      <td>0</td>\n",
              "      <td>...</td>\n",
              "      <td>0</td>\n",
              "      <td>0</td>\n",
              "      <td>0</td>\n",
              "      <td>0</td>\n",
              "      <td>0</td>\n",
              "      <td>0</td>\n",
              "      <td>0</td>\n",
              "      <td>0</td>\n",
              "      <td>0</td>\n",
              "      <td>0</td>\n",
              "    </tr>\n",
              "    <tr>\n",
              "      <th>2</th>\n",
              "      <td>0</td>\n",
              "      <td>0</td>\n",
              "      <td>0</td>\n",
              "      <td>0</td>\n",
              "      <td>0</td>\n",
              "      <td>0</td>\n",
              "      <td>0</td>\n",
              "      <td>0</td>\n",
              "      <td>0</td>\n",
              "      <td>0</td>\n",
              "      <td>...</td>\n",
              "      <td>0</td>\n",
              "      <td>0</td>\n",
              "      <td>0</td>\n",
              "      <td>0</td>\n",
              "      <td>0</td>\n",
              "      <td>0</td>\n",
              "      <td>0</td>\n",
              "      <td>0</td>\n",
              "      <td>0</td>\n",
              "      <td>0</td>\n",
              "    </tr>\n",
              "    <tr>\n",
              "      <th>3</th>\n",
              "      <td>0</td>\n",
              "      <td>0</td>\n",
              "      <td>0</td>\n",
              "      <td>0</td>\n",
              "      <td>0</td>\n",
              "      <td>0</td>\n",
              "      <td>0</td>\n",
              "      <td>0</td>\n",
              "      <td>0</td>\n",
              "      <td>0</td>\n",
              "      <td>...</td>\n",
              "      <td>0</td>\n",
              "      <td>0</td>\n",
              "      <td>0</td>\n",
              "      <td>0</td>\n",
              "      <td>0</td>\n",
              "      <td>0</td>\n",
              "      <td>0</td>\n",
              "      <td>0</td>\n",
              "      <td>0</td>\n",
              "      <td>0</td>\n",
              "    </tr>\n",
              "    <tr>\n",
              "      <th>4</th>\n",
              "      <td>0</td>\n",
              "      <td>0</td>\n",
              "      <td>0</td>\n",
              "      <td>0</td>\n",
              "      <td>0</td>\n",
              "      <td>0</td>\n",
              "      <td>0</td>\n",
              "      <td>0</td>\n",
              "      <td>0</td>\n",
              "      <td>0</td>\n",
              "      <td>...</td>\n",
              "      <td>0</td>\n",
              "      <td>0</td>\n",
              "      <td>0</td>\n",
              "      <td>0</td>\n",
              "      <td>0</td>\n",
              "      <td>0</td>\n",
              "      <td>0</td>\n",
              "      <td>0</td>\n",
              "      <td>0</td>\n",
              "      <td>0</td>\n",
              "    </tr>\n",
              "  </tbody>\n",
              "</table>\n",
              "<p>5 rows × 25 columns</p>\n",
              "</div>"
            ],
            "text/plain": [
              "   Item_Identifier_DRA12  Item_Identifier_DRA24  Item_Identifier_DRA59  \\\n",
              "0                      0                      0                      0   \n",
              "1                      0                      0                      0   \n",
              "2                      0                      0                      0   \n",
              "3                      0                      0                      0   \n",
              "4                      0                      0                      0   \n",
              "\n",
              "   Item_Identifier_DRB01  Item_Identifier_DRB13  Item_Identifier_DRB24  \\\n",
              "0                      0                      0                      0   \n",
              "1                      0                      0                      0   \n",
              "2                      0                      0                      0   \n",
              "3                      0                      0                      0   \n",
              "4                      0                      0                      0   \n",
              "\n",
              "   Item_Identifier_DRB25  Item_Identifier_DRB48  Item_Identifier_DRC01  \\\n",
              "0                      0                      0                      0   \n",
              "1                      0                      0                      1   \n",
              "2                      0                      0                      0   \n",
              "3                      0                      0                      0   \n",
              "4                      0                      0                      0   \n",
              "\n",
              "   Item_Identifier_DRC12          ...            Item_Identifier_DRC49  \\\n",
              "0                      0          ...                                0   \n",
              "1                      0          ...                                0   \n",
              "2                      0          ...                                0   \n",
              "3                      0          ...                                0   \n",
              "4                      0          ...                                0   \n",
              "\n",
              "   Item_Identifier_DRD01  Item_Identifier_DRD12  Item_Identifier_DRD13  \\\n",
              "0                      0                      0                      0   \n",
              "1                      0                      0                      0   \n",
              "2                      0                      0                      0   \n",
              "3                      0                      0                      0   \n",
              "4                      0                      0                      0   \n",
              "\n",
              "   Item_Identifier_DRD15  Item_Identifier_DRD24  Item_Identifier_DRD25  \\\n",
              "0                      0                      0                      0   \n",
              "1                      0                      0                      0   \n",
              "2                      0                      0                      0   \n",
              "3                      0                      0                      0   \n",
              "4                      0                      0                      0   \n",
              "\n",
              "   Item_Identifier_DRD27  Item_Identifier_DRD37  Item_Identifier_DRD49  \n",
              "0                      0                      0                      0  \n",
              "1                      0                      0                      0  \n",
              "2                      0                      0                      0  \n",
              "3                      0                      0                      0  \n",
              "4                      0                      0                      0  \n",
              "\n",
              "[5 rows x 25 columns]"
            ]
          },
          "metadata": {
            "tags": []
          },
          "execution_count": 21
        }
      ]
    },
    {
      "cell_type": "markdown",
      "metadata": {
        "id": "2k8fcX-WlKtd"
      },
      "source": [
        "## Problem 1 solution"
      ]
    },
    {
      "cell_type": "code",
      "metadata": {
        "id": "-lEhDenRlKte"
      },
      "source": [
        "from sklearn.preprocessing import LabelEncoder\n",
        "le = LabelEncoder()"
      ],
      "execution_count": null,
      "outputs": []
    },
    {
      "cell_type": "code",
      "metadata": {
        "id": "4g6MaKbplKtj",
        "outputId": "c17b0886-58ac-4474-8f19-6143f91194da"
      },
      "source": [
        "bigmart['Outlet_Size'].value_counts()"
      ],
      "execution_count": null,
      "outputs": [
        {
          "output_type": "execute_result",
          "data": {
            "text/plain": [
              "Medium    2793\n",
              "Small     2388\n",
              "High       932\n",
              "Name: Outlet_Size, dtype: int64"
            ]
          },
          "metadata": {
            "tags": []
          },
          "execution_count": 44
        }
      ]
    },
    {
      "cell_type": "code",
      "metadata": {
        "scrolled": true,
        "id": "r22tWPOJlKtn",
        "outputId": "e661e5b6-169b-4daa-b392-b14a2097102c"
      },
      "source": [
        "\n",
        "le.fit_transform(['Small', 'Medium', 'High'])"
      ],
      "execution_count": null,
      "outputs": [
        {
          "output_type": "execute_result",
          "data": {
            "text/plain": [
              "array([2, 1, 0])"
            ]
          },
          "metadata": {
            "tags": []
          },
          "execution_count": 43
        }
      ]
    },
    {
      "cell_type": "markdown",
      "metadata": {
        "id": "Ejhfc-PHlKtr"
      },
      "source": [
        "Label encoder uses the alphabetical order. "
      ]
    },
    {
      "cell_type": "code",
      "metadata": {
        "id": "3z8EPKLElKts"
      },
      "source": [
        "bigmart['Outlet_Size'] = bigmart['Outlet_Size'].map({'Small': 0,\n",
        "                                                     'Medium': 1,\n",
        "                                                     'High': 2})"
      ],
      "execution_count": null,
      "outputs": []
    },
    {
      "cell_type": "code",
      "metadata": {
        "scrolled": true,
        "id": "wWCnWxb8lKtw",
        "outputId": "a740b9b6-dade-4387-ce7a-143ea15371ad"
      },
      "source": [
        "bigmart['Outlet_Size'].head()"
      ],
      "execution_count": null,
      "outputs": [
        {
          "output_type": "execute_result",
          "data": {
            "text/plain": [
              "0    1.0\n",
              "1    1.0\n",
              "2    1.0\n",
              "3    NaN\n",
              "4    2.0\n",
              "Name: Outlet_Size, dtype: float64"
            ]
          },
          "metadata": {
            "tags": []
          },
          "execution_count": 47
        }
      ]
    },
    {
      "cell_type": "markdown",
      "metadata": {
        "collapsed": true,
        "id": "VjpfwHIllKt0"
      },
      "source": [
        "So that solves the first challenge we encountered. Now we'll see how to deal with high cardinality."
      ]
    }
  ]
}